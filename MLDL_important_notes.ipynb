{
 "cells": [
  {
   "cell_type": "markdown",
   "id": "a5b9157e-6274-41d0-a0b2-d9bcabc5ab7d",
   "metadata": {},
   "source": [
    "### Naive codes"
   ]
  },
  {
   "cell_type": "code",
   "execution_count": null,
   "id": "21deb267-ea67-4080-a793-a84e70140a64",
   "metadata": {
    "tags": []
   },
   "outputs": [],
   "source": [
    "def naive_relu(x):\n",
    "     assert len(x.shape) == 2\n",
    "     # x is a rank-2  NumPy tensor.\n",
    "     x = x.copy() \n",
    "     for i in range(x.shape[0]):\n",
    "         for j in range(x.shape[1]):\n",
    "             x[i, j] = max(x[i, j], 0)\n",
    "     return x"
   ]
  },
  {
   "cell_type": "code",
   "execution_count": null,
   "id": "32e2dc5a-49e8-4f81-80a4-43d283ac56d7",
   "metadata": {},
   "outputs": [],
   "source": [
    "def naive_add_matrix_and_vector(x, y):\n",
    "     assert len(x.shape) == 2 \n",
    "     assert len(y.shape) == 1 \n",
    "     assert x.shape[1] == y.shape[0]\n",
    "     x = x.copy() \n",
    "     for i in range(x.shape[0]):\n",
    "         for j in range(x.shape[1]):\n",
    "             x[i, j] += y[j]\n",
    "     return x"
   ]
  },
  {
   "cell_type": "code",
   "execution_count": null,
   "id": "abb4f89b-5232-4885-b98b-2cb3870fe4e5",
   "metadata": {},
   "outputs": [],
   "source": [
    "def naive_vector_dot(x, y):\n",
    "     assert len(x.shape) == 1 \n",
    "     assert len(y.shape) == 1 \n",
    "     assert x.shape[0] == y.shape[0]\n",
    "     z = 0.\n",
    "     for i in range(x.shape[0]):\n",
    "         z += x[i] * y[i]\n",
    "     return z"
   ]
  },
  {
   "cell_type": "code",
   "execution_count": null,
   "id": "13c795fb-90d4-44df-be3c-20a7ca7a929a",
   "metadata": {},
   "outputs": [],
   "source": [
    "def naive_matrix_vector_dot(x, y):\n",
    "     assert len(x.shape) == 2 \n",
    "     assert len(y.shape) == 1 \n",
    "     assert x.shape[1] == y.shape[0] \n",
    "     z = np.zeros(x.shape[0]) \n",
    "     for i in range(x.shape[0]):\n",
    "         for j in range(x.shape[1]):\n",
    "             z[i] += x[i, j] * y[j]\n",
    "     return z"
   ]
  },
  {
   "cell_type": "code",
   "execution_count": null,
   "id": "089aa850-9ad3-4bda-a599-7340bfc3dea9",
   "metadata": {},
   "outputs": [],
   "source": [
    "def naive_matrix_dot(x, y):\n",
    " assert len(x.shape) == 2 \n",
    " assert len(y.shape) == 2 \n",
    " assert x.shape[1] == y.shape[0] \n",
    " z = np.zeros((x.shape[0], y.shape[1])) \n",
    " for i in range(x.shape[0]): \n",
    "     for j in range(y.shape[1]): \n",
    "         row_x = x[i, :]\n",
    "         column_y = y[:, j]\n",
    "         z[i, j] = naive_vector_dot(row_x, column_y)\n",
    " return z"
   ]
  }
 ],
 "metadata": {
  "kernelspec": {
   "display_name": "Python 3 (ipykernel)",
   "language": "python",
   "name": "python3"
  },
  "language_info": {
   "codemirror_mode": {
    "name": "ipython",
    "version": 3
   },
   "file_extension": ".py",
   "mimetype": "text/x-python",
   "name": "python",
   "nbconvert_exporter": "python",
   "pygments_lexer": "ipython3",
   "version": "3.10.8"
  }
 },
 "nbformat": 4,
 "nbformat_minor": 5
}
