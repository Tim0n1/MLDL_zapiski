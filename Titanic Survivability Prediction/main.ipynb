{
 "cells": [
  {
   "cell_type": "code",
   "execution_count": 2,
   "id": "eedae08f-5683-4023-ae4b-eba989c8aad5",
   "metadata": {},
   "outputs": [
    {
     "name": "stdout",
     "output_type": "stream",
     "text": [
      "2.10.0\n",
      "2.10.0\n"
     ]
    }
   ],
   "source": [
    "%matplotlib ipympl\n",
    "%matplotlib inline\n",
    "import numpy as np\n",
    "import matplotlib.pyplot as plt\n",
    "import tensorflow as tf\n",
    "import pandas as pd\n",
    "import keras\n",
    "print(tf. __version__)\n",
    "print(keras.__version__)"
   ]
  },
  {
   "cell_type": "code",
   "execution_count": 5,
   "id": "069aae80-5f2c-44d9-b02b-fb9b3fee6c8c",
   "metadata": {},
   "outputs": [],
   "source": [
    "train_url = 'https://raw.githubusercontent.com/Tim0n1/MLDL_zapiski/master/train.csv'\n",
    "test_url_X = 'https://raw.githubusercontent.com/Tim0n1/MLDL_zapiski/master/test.csv'\n",
    "test_url_y = 'https://raw.githubusercontent.com/Tim0n1/MLDL_zapiski/master/gender_submission.csv'"
   ]
  },
  {
   "cell_type": "code",
   "execution_count": 6,
   "id": "a0a3730d-acea-4848-87d3-bd0e2936e6e1",
   "metadata": {},
   "outputs": [],
   "source": [
    "train_df = pd.read_csv(train_url)\n",
    "testX_df = pd.read_csv(test_url_X)\n",
    "testy_df = pd.read_csv(test_url_y)"
   ]
  },
  {
   "cell_type": "code",
   "execution_count": 7,
   "id": "4da843eb-421d-403c-a2ad-994b5131eba6",
   "metadata": {},
   "outputs": [
    {
     "name": "stdout",
     "output_type": "stream",
     "text": [
      "(891, 6)\n",
      "(891,)\n",
      "     Pclass  Sex   Age  SibSp  Parch Cabin\n",
      "0         3    1  34.5      0      0     0\n",
      "1         3    0  47.0      1      0     0\n",
      "2         2    1  62.0      0      0     0\n",
      "3         3    1  27.0      0      0     0\n",
      "4         3    0  22.0      1      1     0\n",
      "..      ...  ...   ...    ...    ...   ...\n",
      "413       3    1   0.0      0      0     0\n",
      "414       1    0  39.0      0      0     1\n",
      "415       3    1  38.5      0      0     0\n",
      "416       3    1   0.0      0      0     0\n",
      "417       3    1   0.0      1      1     0\n",
      "\n",
      "[418 rows x 6 columns]\n"
     ]
    }
   ],
   "source": [
    "\n",
    "train_X = train_df.drop(columns=['Survived','PassengerId','Name','Ticket', 'Embarked','Fare'])\n",
    "train_X.loc[train_X['Sex'] == 'male' , ['Sex']] = 1\n",
    "train_X.loc[train_X['Sex'] == 'female' , ['Sex']] = 0\n",
    "train_X = train_X.fillna(0)\n",
    "train_X.loc[train_X['Cabin'] != 0, ['Cabin']] = 1\n",
    "print(train_X.shape)\n",
    "train_y = train_df['Survived']\n",
    "print(train_y.shape)\n",
    "test_X = testX_df.drop(columns=['PassengerId','Name','Ticket', 'Embarked','Fare'])\n",
    "test_X.loc[test_X['Sex'] == 'male' , ['Sex']] = 1\n",
    "test_X.loc[test_X['Sex'] == 'female' , ['Sex']] = 0\n",
    "test_X = test_X.fillna(0)\n",
    "test_X.loc[test_X['Cabin'] != 0, ['Cabin']] = 1\n",
    "print(test_X)\n",
    "test_y = testy_df['Survived']"
   ]
  },
  {
   "cell_type": "code",
   "execution_count": 9,
   "id": "2836459a-fb1f-47ad-9117-bdda3731d96e",
   "metadata": {},
   "outputs": [],
   "source": [
    "input_shape = train_X.shape"
   ]
  },
  {
   "cell_type": "code",
   "execution_count": 10,
   "id": "07c0a4ff-d668-4c81-bc78-56b7ea9d21d1",
   "metadata": {},
   "outputs": [
    {
     "data": {
      "text/plain": [
       "array([0, 1, 0, 0, 1, 0, 1, 0, 1, 0, 0, 0, 1, 0, 1, 1, 0, 0, 1, 1, 0, 0,\n",
       "       1, 0, 1, 0, 1, 0, 0, 0, 0, 0, 1, 1, 0, 0, 1, 1, 0, 0, 0, 0, 0, 1,\n",
       "       1, 0, 0, 0, 1, 1, 0, 0, 1, 1, 0, 0, 0, 0, 0, 1, 0, 0, 0, 1, 0, 1,\n",
       "       1, 0, 0, 1, 1, 0, 1, 0, 1, 0, 0, 1, 0, 1, 0, 0, 0, 0, 0, 0, 1, 1,\n",
       "       1, 0, 1, 0, 1, 0, 0, 0, 1, 0, 1, 0, 1, 0, 0, 0, 1, 0, 0, 0, 0, 0,\n",
       "       0, 1, 1, 1, 1, 0, 0, 1, 0, 1, 1, 0, 1, 0, 0, 1, 0, 1, 0, 0, 0, 0,\n",
       "       1, 0, 0, 0, 0, 0, 1, 0, 1, 1, 0, 0, 0, 0, 0, 0, 0, 0, 1, 0, 0, 1,\n",
       "       0, 0, 1, 1, 0, 1, 1, 0, 1, 0, 0, 1, 0, 0, 1, 1, 0, 0, 0, 0, 0, 1,\n",
       "       1, 0, 1, 1, 0, 0, 1, 0, 1, 0, 1, 0, 1, 0, 0, 0, 0, 0, 0, 0, 0, 1,\n",
       "       0, 1, 1, 0, 0, 1, 0, 0, 1, 0, 1, 0, 0, 0, 0, 1, 1, 0, 1, 0, 1, 0,\n",
       "       1, 0, 1, 0, 1, 1, 0, 1, 0, 0, 0, 1, 0, 0, 0, 0, 0, 0, 1, 1, 1, 1,\n",
       "       0, 0, 0, 0, 1, 0, 1, 1, 1, 0, 0, 0, 0, 0, 0, 0, 1, 0, 0, 0, 1, 1,\n",
       "       0, 0, 0, 0, 1, 0, 0, 0, 1, 1, 0, 1, 0, 0, 0, 0, 1, 0, 1, 1, 1, 0,\n",
       "       0, 0, 0, 0, 0, 1, 0, 0, 0, 0, 1, 0, 0, 0, 0, 0, 0, 0, 1, 1, 0, 0,\n",
       "       0, 1, 0, 0, 0, 1, 1, 1, 0, 0, 0, 0, 0, 0, 0, 0, 1, 0, 1, 0, 0, 0,\n",
       "       1, 0, 0, 1, 0, 0, 0, 0, 0, 0, 0, 0, 0, 1, 0, 1, 0, 1, 0, 1, 1, 0,\n",
       "       0, 0, 1, 0, 1, 0, 0, 1, 0, 1, 1, 0, 1, 1, 0, 1, 1, 0, 0, 1, 0, 0,\n",
       "       1, 1, 1, 0, 0, 0, 0, 0, 1, 1, 0, 1, 0, 0, 0, 0, 0, 1, 0, 0, 0, 1,\n",
       "       0, 1, 0, 0, 1, 0, 1, 0, 0, 0, 0, 0, 1, 1, 1, 1, 1, 0, 1, 0, 0, 0],\n",
       "      dtype=int64)"
      ]
     },
     "execution_count": 10,
     "metadata": {},
     "output_type": "execute_result"
    }
   ],
   "source": [
    "train_X.to_numpy()\n",
    "train_y.to_numpy()\n",
    "test_X.to_numpy()\n",
    "test_y.to_numpy()"
   ]
  },
  {
   "cell_type": "code",
   "execution_count": 11,
   "id": "73c0301f-0221-40f3-901e-e26bf5d14cc3",
   "metadata": {},
   "outputs": [],
   "source": [
    "train_X = np.asarray(train_X).astype(np.float32)\n",
    "train_y = np.asarray(train_y).astype(np.float32)\n",
    "test_X = np.asarray(test_X).astype(np.float32)\n",
    "test_y = np.asarray(test_y).astype(np.float32)"
   ]
  },
  {
   "cell_type": "code",
   "execution_count": 12,
   "id": "f5a5d491-2ab1-4f2a-aede-cd436c0a6258",
   "metadata": {},
   "outputs": [
    {
     "name": "stdout",
     "output_type": "stream",
     "text": [
      "[[ 3.  1. 22.  1.  0.  0.]\n",
      " [ 1.  0. 38.  1.  0.  1.]\n",
      " [ 3.  0. 26.  0.  0.  0.]\n",
      " ...\n",
      " [ 3.  0.  0.  1.  2.  0.]\n",
      " [ 1.  1. 26.  0.  0.  1.]\n",
      " [ 3.  1. 32.  0.  0.  0.]]\n",
      "891\n"
     ]
    }
   ],
   "source": [
    "print((train_X))\n",
    "print(len(train_y))"
   ]
  },
  {
   "cell_type": "code",
   "execution_count": 13,
   "id": "08b07fd2-7461-42c6-9835-f6833a2df820",
   "metadata": {},
   "outputs": [],
   "source": [
    "train_X = train_X.reshape(891,6)\n",
    "train_y = train_y.reshape(891)\n",
    "test_X = test_X.reshape(418,6)\n",
    "test_y = test_y.reshape(418)"
   ]
  },
  {
   "cell_type": "code",
   "execution_count": 14,
   "id": "1b5ec737-1f14-4d3c-9017-45082d52dcf1",
   "metadata": {},
   "outputs": [
    {
     "data": {
      "text/plain": [
       "((891, 6), (891,))"
      ]
     },
     "execution_count": 14,
     "metadata": {},
     "output_type": "execute_result"
    }
   ],
   "source": [
    "train_X.shape, train_y.shape"
   ]
  },
  {
   "cell_type": "code",
   "execution_count": 15,
   "id": "49417027-922d-4b25-a32b-8d70d571ad17",
   "metadata": {},
   "outputs": [
    {
     "data": {
      "text/plain": [
       "((418, 6), (418,))"
      ]
     },
     "execution_count": 15,
     "metadata": {},
     "output_type": "execute_result"
    }
   ],
   "source": [
    "test_X.shape, test_y.shape"
   ]
  },
  {
   "cell_type": "code",
   "execution_count": 13,
   "id": "98dc5df2-2518-4b60-9e20-143cb641d2b4",
   "metadata": {},
   "outputs": [],
   "source": [
    "model = keras.Sequential()\n",
    "model.add(keras.layers.Dense(16, input_dim=train_X.shape[1], activation='relu'))\n",
    "model.add(keras.layers.Dense(8, activation='relu'))\n",
    "model.add(keras.layers.Dense(4, activation='relu'))\n",
    "model.add(keras.layers.Dense(1, activation='sigmoid'))"
   ]
  },
  {
   "cell_type": "code",
   "execution_count": 14,
   "id": "4fad87b4-e122-4fc2-a862-2d7da95cd270",
   "metadata": {},
   "outputs": [],
   "source": [
    "model.compile(loss='binary_crossentropy', optimizer='adam', metrics=['accuracy'])"
   ]
  },
  {
   "cell_type": "code",
   "execution_count": 15,
   "id": "2fa1455e-b3ce-4368-ad12-9cfa61ca2cd9",
   "metadata": {},
   "outputs": [
    {
     "name": "stdout",
     "output_type": "stream",
     "text": [
      "Epoch 1/50\n",
      "149/149 [==============================] - 3s 7ms/step - loss: 0.8569 - accuracy: 0.5960 - val_loss: 0.6363 - val_accuracy: 0.6651\n",
      "Epoch 2/50\n",
      "149/149 [==============================] - 1s 6ms/step - loss: 0.6224 - accuracy: 0.6532 - val_loss: 0.5496 - val_accuracy: 0.7416\n",
      "Epoch 3/50\n",
      "149/149 [==============================] - 1s 6ms/step - loss: 0.5769 - accuracy: 0.6902 - val_loss: 0.5001 - val_accuracy: 0.7727\n",
      "Epoch 4/50\n",
      "149/149 [==============================] - 1s 6ms/step - loss: 0.5500 - accuracy: 0.7239 - val_loss: 0.4586 - val_accuracy: 0.7871\n",
      "Epoch 5/50\n",
      "149/149 [==============================] - 1s 5ms/step - loss: 0.5298 - accuracy: 0.7363 - val_loss: 0.4281 - val_accuracy: 0.8445\n",
      "Epoch 6/50\n",
      "149/149 [==============================] - 1s 5ms/step - loss: 0.5159 - accuracy: 0.7598 - val_loss: 0.4009 - val_accuracy: 0.8254\n",
      "Epoch 7/50\n",
      "149/149 [==============================] - 1s 6ms/step - loss: 0.5041 - accuracy: 0.7722 - val_loss: 0.3849 - val_accuracy: 0.9474\n",
      "Epoch 8/50\n",
      "149/149 [==============================] - 1s 5ms/step - loss: 0.4983 - accuracy: 0.7778 - val_loss: 0.3462 - val_accuracy: 0.8852\n",
      "Epoch 9/50\n",
      "149/149 [==============================] - 1s 5ms/step - loss: 0.4923 - accuracy: 0.7789 - val_loss: 0.3503 - val_accuracy: 0.9115\n",
      "Epoch 10/50\n",
      "149/149 [==============================] - 1s 5ms/step - loss: 0.4719 - accuracy: 0.7912 - val_loss: 0.3286 - val_accuracy: 0.9306\n",
      "Epoch 11/50\n",
      "149/149 [==============================] - 1s 6ms/step - loss: 0.4709 - accuracy: 0.7912 - val_loss: 0.3072 - val_accuracy: 0.9713\n",
      "Epoch 12/50\n",
      "149/149 [==============================] - 1s 6ms/step - loss: 0.4727 - accuracy: 0.7811 - val_loss: 0.3293 - val_accuracy: 0.8373\n",
      "Epoch 13/50\n",
      "149/149 [==============================] - 1s 5ms/step - loss: 0.4659 - accuracy: 0.7957 - val_loss: 0.2968 - val_accuracy: 0.9689\n",
      "Epoch 14/50\n",
      "149/149 [==============================] - 1s 5ms/step - loss: 0.4548 - accuracy: 0.8070 - val_loss: 0.2948 - val_accuracy: 0.9306\n",
      "Epoch 15/50\n",
      "149/149 [==============================] - 1s 5ms/step - loss: 0.4513 - accuracy: 0.7991 - val_loss: 0.3032 - val_accuracy: 0.9019\n",
      "Epoch 16/50\n",
      "149/149 [==============================] - 1s 5ms/step - loss: 0.4521 - accuracy: 0.7957 - val_loss: 0.2784 - val_accuracy: 0.9785\n",
      "Epoch 17/50\n",
      "149/149 [==============================] - 1s 5ms/step - loss: 0.4420 - accuracy: 0.7969 - val_loss: 0.3389 - val_accuracy: 0.8852\n",
      "Epoch 18/50\n",
      "149/149 [==============================] - 1s 5ms/step - loss: 0.4537 - accuracy: 0.7912 - val_loss: 0.2875 - val_accuracy: 0.9163\n",
      "Epoch 19/50\n",
      "149/149 [==============================] - 1s 5ms/step - loss: 0.4408 - accuracy: 0.8126 - val_loss: 0.2862 - val_accuracy: 0.9593\n",
      "Epoch 20/50\n",
      "149/149 [==============================] - 1s 5ms/step - loss: 0.4343 - accuracy: 0.8148 - val_loss: 0.2728 - val_accuracy: 0.9474\n",
      "Epoch 21/50\n",
      "149/149 [==============================] - 1s 5ms/step - loss: 0.4336 - accuracy: 0.8025 - val_loss: 0.2671 - val_accuracy: 0.9402\n",
      "Epoch 22/50\n",
      "149/149 [==============================] - 1s 5ms/step - loss: 0.4418 - accuracy: 0.8114 - val_loss: 0.2721 - val_accuracy: 0.9593\n",
      "Epoch 23/50\n",
      "149/149 [==============================] - 1s 5ms/step - loss: 0.4394 - accuracy: 0.8070 - val_loss: 0.2704 - val_accuracy: 0.9569\n",
      "Epoch 24/50\n",
      "149/149 [==============================] - 1s 5ms/step - loss: 0.4362 - accuracy: 0.8114 - val_loss: 0.2619 - val_accuracy: 0.9641\n",
      "Epoch 25/50\n",
      "149/149 [==============================] - 1s 5ms/step - loss: 0.4351 - accuracy: 0.8058 - val_loss: 0.2788 - val_accuracy: 0.9354\n",
      "Epoch 26/50\n",
      "149/149 [==============================] - 1s 5ms/step - loss: 0.4350 - accuracy: 0.8103 - val_loss: 0.2829 - val_accuracy: 0.9306\n",
      "Epoch 27/50\n",
      "149/149 [==============================] - 1s 5ms/step - loss: 0.4382 - accuracy: 0.8103 - val_loss: 0.2740 - val_accuracy: 0.9522\n",
      "Epoch 28/50\n",
      "149/149 [==============================] - 1s 5ms/step - loss: 0.4275 - accuracy: 0.8114 - val_loss: 0.2783 - val_accuracy: 0.9569\n",
      "Epoch 29/50\n",
      "149/149 [==============================] - 1s 5ms/step - loss: 0.4309 - accuracy: 0.8227 - val_loss: 0.3287 - val_accuracy: 0.8804\n",
      "Epoch 30/50\n",
      "149/149 [==============================] - 1s 5ms/step - loss: 0.4295 - accuracy: 0.8171 - val_loss: 0.2951 - val_accuracy: 0.9402\n",
      "Epoch 31/50\n",
      "149/149 [==============================] - 1s 5ms/step - loss: 0.4277 - accuracy: 0.8249 - val_loss: 0.2864 - val_accuracy: 0.9545\n",
      "Epoch 32/50\n",
      "149/149 [==============================] - 1s 6ms/step - loss: 0.4255 - accuracy: 0.8182 - val_loss: 0.3073 - val_accuracy: 0.8995\n",
      "Epoch 33/50\n",
      "149/149 [==============================] - 1s 5ms/step - loss: 0.4196 - accuracy: 0.8204 - val_loss: 0.3499 - val_accuracy: 0.8684\n",
      "Epoch 34/50\n",
      "149/149 [==============================] - 1s 5ms/step - loss: 0.4251 - accuracy: 0.8070 - val_loss: 0.3520 - val_accuracy: 0.8708\n",
      "Epoch 35/50\n",
      "149/149 [==============================] - 1s 5ms/step - loss: 0.4217 - accuracy: 0.8260 - val_loss: 0.2973 - val_accuracy: 0.9426\n",
      "Epoch 36/50\n",
      "149/149 [==============================] - 1s 5ms/step - loss: 0.4226 - accuracy: 0.8126 - val_loss: 0.3165 - val_accuracy: 0.9043\n",
      "Epoch 37/50\n",
      "149/149 [==============================] - 1s 5ms/step - loss: 0.4201 - accuracy: 0.8204 - val_loss: 0.3087 - val_accuracy: 0.9258\n",
      "Epoch 38/50\n",
      "149/149 [==============================] - 1s 5ms/step - loss: 0.4296 - accuracy: 0.8159 - val_loss: 0.3102 - val_accuracy: 0.9163\n",
      "Epoch 39/50\n",
      "149/149 [==============================] - 1s 5ms/step - loss: 0.4170 - accuracy: 0.8283 - val_loss: 0.3063 - val_accuracy: 0.9306\n",
      "Epoch 40/50\n",
      "149/149 [==============================] - 1s 5ms/step - loss: 0.4217 - accuracy: 0.8137 - val_loss: 0.3266 - val_accuracy: 0.8923\n",
      "Epoch 41/50\n",
      "149/149 [==============================] - 1s 5ms/step - loss: 0.4152 - accuracy: 0.8227 - val_loss: 0.3111 - val_accuracy: 0.9211\n",
      "Epoch 42/50\n",
      "149/149 [==============================] - 1s 5ms/step - loss: 0.4188 - accuracy: 0.8260 - val_loss: 0.3373 - val_accuracy: 0.8876\n",
      "Epoch 43/50\n",
      "149/149 [==============================] - 1s 5ms/step - loss: 0.4265 - accuracy: 0.8159 - val_loss: 0.3132 - val_accuracy: 0.9426\n",
      "Epoch 44/50\n",
      "149/149 [==============================] - 1s 5ms/step - loss: 0.4232 - accuracy: 0.8171 - val_loss: 0.3207 - val_accuracy: 0.9139\n",
      "Epoch 45/50\n",
      "149/149 [==============================] - 1s 5ms/step - loss: 0.4119 - accuracy: 0.8283 - val_loss: 0.3177 - val_accuracy: 0.9378\n",
      "Epoch 46/50\n",
      "149/149 [==============================] - 1s 7ms/step - loss: 0.4147 - accuracy: 0.8249 - val_loss: 0.3248 - val_accuracy: 0.9115\n",
      "Epoch 47/50\n",
      "149/149 [==============================] - 1s 5ms/step - loss: 0.4200 - accuracy: 0.8159 - val_loss: 0.3195 - val_accuracy: 0.9474\n",
      "Epoch 48/50\n",
      "149/149 [==============================] - 1s 5ms/step - loss: 0.4109 - accuracy: 0.8215 - val_loss: 0.3207 - val_accuracy: 0.9378\n",
      "Epoch 49/50\n",
      "149/149 [==============================] - 1s 5ms/step - loss: 0.4128 - accuracy: 0.8328 - val_loss: 0.3343 - val_accuracy: 0.9019\n",
      "Epoch 50/50\n",
      "149/149 [==============================] - 1s 6ms/step - loss: 0.4139 - accuracy: 0.8294 - val_loss: 0.3306 - val_accuracy: 0.9091\n"
     ]
    },
    {
     "data": {
      "text/plain": [
       "<keras.callbacks.History at 0x1cddf9173a0>"
      ]
     },
     "execution_count": 15,
     "metadata": {},
     "output_type": "execute_result"
    }
   ],
   "source": [
    "model.fit(train_X, train_y, epochs=50,batch_size=6, validation_data=(test_X, test_y), verbose=1)"
   ]
  },
  {
   "cell_type": "code",
   "execution_count": 16,
   "id": "521b21a7-e8e9-45a5-9693-49c1551c6858",
   "metadata": {},
   "outputs": [
    {
     "name": "stdout",
     "output_type": "stream",
     "text": [
      "INFO:tensorflow:Assets written to: model_data\\assets\n"
     ]
    }
   ],
   "source": [
    "model.save('model_data')"
   ]
  },
  {
   "cell_type": "code",
   "execution_count": 16,
   "id": "4bb26581-85de-4deb-a9cc-29633ba9d823",
   "metadata": {},
   "outputs": [],
   "source": [
    "model = keras.models.load_model('model_data')"
   ]
  },
  {
   "cell_type": "code",
   "execution_count": 55,
   "id": "9ff533dc-7410-4b80-8756-8296e3058a09",
   "metadata": {},
   "outputs": [
    {
     "name": "stdout",
     "output_type": "stream",
     "text": [
      "[[ 3.   1.  34.5  0.   0.   0. ]\n",
      " [ 3.   0.  47.   1.   0.   0. ]\n",
      " [ 2.   1.  62.   0.   0.   0. ]\n",
      " [ 3.   1.  27.   0.   0.   0. ]\n",
      " [ 3.   0.  22.   1.   1.   0. ]\n",
      " [ 3.   1.  14.   0.   0.   0. ]\n",
      " [ 3.   0.  30.   0.   0.   0. ]\n",
      " [ 2.   1.  26.   1.   1.   0. ]\n",
      " [ 3.   0.  18.   0.   0.   0. ]\n",
      " [ 3.   1.  21.   2.   0.   0. ]]\n"
     ]
    }
   ],
   "source": [
    "\n",
    "print(test_X[0:10])\n",
    "def get_predicted_survivors(x):\n",
    "    predicted_survivors = []\n",
    "    model_prediction = model.predict(test_X[:])\n",
    "    for n, i in enumerate(model_prediction):\n",
    "        if i[0] >= x:\n",
    "            predicted_survivors.append(n)\n",
    "            #print(n,i[0])\n",
    "    return predicted_survivors"
   ]
  },
  {
   "cell_type": "markdown",
   "id": "a99aee17-35de-434f-a377-f393ac6c2f2b",
   "metadata": {},
   "source": [
    "## Do some statistic about the prediction accuracy of the model"
   ]
  },
  {
   "cell_type": "code",
   "execution_count": 18,
   "id": "0cc3df95-dedf-4f26-9d33-8020970cf1ce",
   "metadata": {},
   "outputs": [
    {
     "name": "stdout",
     "output_type": "stream",
     "text": [
      "14/14 [==============================] - 1s 2ms/step\n",
      "[1, 4, 6, 8, 12, 14, 15, 18, 19, 22, 24, 26, 36, 37, 43, 44, 48, 52, 53, 59, 63, 65, 66, 69, 70, 72, 73, 74, 77, 79, 80, 86, 87, 88, 89, 90, 92, 96, 98, 100, 104, 111, 112, 113, 114, 117, 119, 120, 122, 125, 127, 138, 141, 150, 156, 157, 159, 160, 161, 162, 165, 168, 169, 175, 176, 178, 179, 182, 184, 186, 194, 196, 197, 199, 200, 201, 203, 206, 208, 213, 216, 218, 220, 222, 224, 227, 231, 238, 239, 240, 241, 246, 248, 249, 250, 258, 262, 263, 268, 272, 273, 275, 280, 281, 282, 283, 284, 291, 296, 304, 305, 307, 309, 313, 314, 315, 324, 326, 330, 333, 335, 343, 344, 345, 347, 349, 350, 356, 359, 361, 362, 364, 367, 368, 371, 374, 375, 376, 382, 383, 385, 390, 391, 395, 397, 400, 402, 408, 409, 410, 411, 412, 414, 417]\n"
     ]
    }
   ],
   "source": [
    "print(get_predicted_survivors(0.555))\n"
   ]
  },
  {
   "cell_type": "code",
   "execution_count": 19,
   "id": "93ab1201-69cb-4902-912c-091eca79ec28",
   "metadata": {},
   "outputs": [
    {
     "name": "stdout",
     "output_type": "stream",
     "text": [
      "14/14 [==============================] - 0s 2ms/step\n",
      "152\n",
      "14/14 [==============================] - 0s 2ms/step\n",
      "150\n",
      "14/14 [==============================] - 0s 2ms/step\n",
      "150\n",
      "14/14 [==============================] - 0s 2ms/step\n",
      "150\n",
      "14/14 [==============================] - 0s 2ms/step\n",
      "149\n",
      "14/14 [==============================] - 0s 2ms/step\n",
      "148\n",
      "14/14 [==============================] - 0s 2ms/step\n",
      "148\n",
      "14/14 [==============================] - 0s 1ms/step\n",
      "148\n",
      "14/14 [==============================] - 0s 2ms/step\n",
      "148\n",
      "14/14 [==============================] - 0s 2ms/step\n",
      "148\n",
      "14/14 [==============================] - 0s 2ms/step\n",
      "148\n",
      "14/14 [==============================] - 0s 2ms/step\n",
      "148\n",
      "14/14 [==============================] - 0s 2ms/step\n",
      "148\n",
      "14/14 [==============================] - 0s 2ms/step\n",
      "148\n",
      "14/14 [==============================] - 0s 2ms/step\n",
      "148\n",
      "14/14 [==============================] - 0s 2ms/step\n",
      "147\n",
      "14/14 [==============================] - 0s 2ms/step\n",
      "147\n",
      "14/14 [==============================] - 0s 2ms/step\n",
      "147\n",
      "14/14 [==============================] - 0s 2ms/step\n",
      "147\n",
      "14/14 [==============================] - 0s 1ms/step\n",
      "147\n",
      "14/14 [==============================] - 0s 2ms/step\n",
      "147\n",
      "14/14 [==============================] - 0s 1ms/step\n",
      "147\n",
      "14/14 [==============================] - 0s 2ms/step\n",
      "147\n",
      "14/14 [==============================] - 0s 2ms/step\n",
      "147\n",
      "14/14 [==============================] - 0s 2ms/step\n",
      "147\n",
      "14/14 [==============================] - 0s 1ms/step\n",
      "147\n",
      "14/14 [==============================] - 0s 2ms/step\n",
      "147\n",
      "14/14 [==============================] - 0s 1ms/step\n",
      "147\n",
      "14/14 [==============================] - 0s 1ms/step\n",
      "147\n",
      "14/14 [==============================] - 0s 2ms/step\n",
      "146\n",
      "14/14 [==============================] - 0s 2ms/step\n",
      "146\n",
      "14/14 [==============================] - 0s 1ms/step\n",
      "146\n",
      "14/14 [==============================] - 0s 2ms/step\n",
      "145\n",
      "14/14 [==============================] - 0s 3ms/step\n",
      "145\n",
      "14/14 [==============================] - 0s 1ms/step\n",
      "145\n",
      "14/14 [==============================] - 0s 2ms/step\n",
      "145\n",
      "14/14 [==============================] - 0s 2ms/step\n",
      "144\n",
      "14/14 [==============================] - 0s 1ms/step\n",
      "144\n",
      "14/14 [==============================] - 0s 2ms/step\n",
      "144\n",
      "14/14 [==============================] - 0s 2ms/step\n",
      "144\n",
      "14/14 [==============================] - 0s 2ms/step\n",
      "144\n",
      "14/14 [==============================] - 0s 2ms/step\n",
      "144\n",
      "14/14 [==============================] - 0s 2ms/step\n",
      "144\n",
      "14/14 [==============================] - 0s 2ms/step\n",
      "144\n",
      "14/14 [==============================] - 0s 2ms/step\n",
      "144\n",
      "14/14 [==============================] - 0s 2ms/step\n",
      "144\n",
      "14/14 [==============================] - 0s 2ms/step\n",
      "144\n",
      "14/14 [==============================] - 0s 2ms/step\n",
      "144\n",
      "14/14 [==============================] - 0s 2ms/step\n",
      "144\n",
      "14/14 [==============================] - 0s 2ms/step\n",
      "144\n",
      "14/14 [==============================] - 0s 3ms/step\n",
      "144\n",
      "14/14 [==============================] - 0s 2ms/step\n",
      "144\n",
      "14/14 [==============================] - 0s 2ms/step\n",
      "143\n",
      "14/14 [==============================] - 0s 2ms/step\n",
      "143\n",
      "14/14 [==============================] - 0s 2ms/step\n",
      "141\n",
      "14/14 [==============================] - 0s 1ms/step\n",
      "141\n",
      "14/14 [==============================] - 0s 2ms/step\n",
      "141\n",
      "14/14 [==============================] - 0s 2ms/step\n",
      "140\n",
      "14/14 [==============================] - 0s 1ms/step\n",
      "140\n",
      "14/14 [==============================] - 0s 2ms/step\n",
      "138\n",
      "14/14 [==============================] - 0s 1ms/step\n",
      "136\n",
      "14/14 [==============================] - 0s 2ms/step\n",
      "134\n",
      "14/14 [==============================] - 0s 2ms/step\n",
      "132\n",
      "14/14 [==============================] - 0s 2ms/step\n",
      "132\n",
      "14/14 [==============================] - 0s 1ms/step\n",
      "128\n",
      "14/14 [==============================] - 0s 1ms/step\n",
      "126\n",
      "14/14 [==============================] - 0s 2ms/step\n",
      "121\n",
      "14/14 [==============================] - 0s 1ms/step\n",
      "118\n",
      "14/14 [==============================] - 0s 2ms/step\n",
      "108\n",
      "14/14 [==============================] - 0s 2ms/step\n",
      "100\n",
      "14/14 [==============================] - 0s 2ms/step\n",
      "99\n",
      "14/14 [==============================] - 0s 1ms/step\n",
      "97\n",
      "14/14 [==============================] - 0s 2ms/step\n",
      "95\n",
      "14/14 [==============================] - 0s 2ms/step\n",
      "95\n",
      "14/14 [==============================] - 0s 2ms/step\n",
      "95\n",
      "14/14 [==============================] - 0s 2ms/step\n",
      "92\n",
      "14/14 [==============================] - 0s 2ms/step\n",
      "91\n",
      "14/14 [==============================] - 0s 2ms/step\n",
      "91\n",
      "14/14 [==============================] - 0s 2ms/step\n",
      "73\n",
      "14/14 [==============================] - 0s 378us/step\n",
      "70\n",
      "14/14 [==============================] - 0s 3ms/step\n",
      "66\n",
      "14/14 [==============================] - 0s 2ms/step\n",
      "64\n",
      "14/14 [==============================] - 0s 2ms/step\n",
      "61\n",
      "14/14 [==============================] - 0s 2ms/step\n",
      "61\n",
      "14/14 [==============================] - 0s 2ms/step\n",
      "57\n",
      "14/14 [==============================] - 0s 3ms/step\n",
      "55\n",
      "14/14 [==============================] - 0s 3ms/step\n",
      "54\n",
      "14/14 [==============================] - 0s 1ms/step\n",
      "50\n",
      "14/14 [==============================] - 0s 2ms/step\n",
      "46\n",
      "14/14 [==============================] - 0s 1ms/step\n",
      "43\n",
      "14/14 [==============================] - 0s 2ms/step\n",
      "39\n",
      "14/14 [==============================] - 0s 2ms/step\n",
      "37\n",
      "14/14 [==============================] - 0s 2ms/step\n",
      "30\n",
      "14/14 [==============================] - 0s 2ms/step\n",
      "24\n",
      "14/14 [==============================] - 0s 2ms/step\n",
      "12\n",
      "14/14 [==============================] - 0s 2ms/step\n",
      "0\n",
      "14/14 [==============================] - 0s 2ms/step\n",
      "0\n",
      "14/14 [==============================] - 0s 2ms/step\n",
      "0\n"
     ]
    },
    {
     "name": "stderr",
     "output_type": "stream",
     "text": [
      "C:\\Users\\timon\\AppData\\Local\\Temp\\ipykernel_16516\\3386855699.py:11: RuntimeWarning: Mean of empty slice.\n",
      "  accuracy = predicted_val.mean()\n",
      "D:\\Anaconda\\envs\\DL\\lib\\site-packages\\numpy\\core\\_methods.py:190: RuntimeWarning: invalid value encountered in divide\n",
      "  ret = ret.dtype.type(ret / rcount)\n"
     ]
    },
    {
     "name": "stdout",
     "output_type": "stream",
     "text": [
      "14/14 [==============================] - 0s 2ms/step\n",
      "0\n",
      "14/14 [==============================] - 0s 2ms/step\n",
      "0\n",
      "[0.36363637, 0.36231884, 0.36407766, 0.36585367, 0.36430317, 0.3627451, 0.3654321, 0.4043716, 0.4088398, 0.41573033, 0.43657818, 0.50859106, 0.5174825, 0.51929826, 0.540146, 0.54444444, 0.5568182, 0.5787402, 0.5903614, 0.62288135, 0.6475771, 0.6591928, 0.6621622, 0.6651584, 0.6651584, 0.6712329, 0.6869159, 0.7, 0.7067308, 0.7192118, 0.7227723, 0.7263682, 0.72864324, 0.7323232, 0.7360406, 0.7360406, 0.742268, 0.742268, 0.742268, 0.742268, 0.7539267, 0.7619048, 0.77837837, 0.78688526, 0.78688526, 0.7955801, 0.8, 0.8, 0.80898875, 0.8181818, 0.84210527, 0.852071, 0.8666667, 0.88271606, 0.90384614, 0.91558444, 0.92763156, 0.92715234, 0.93333334, 0.94520545, 0.9444444, 0.943662, 0.9496403, 0.9496403, 0.94814813, 0.94736844, 0.9527559, 0.9516129, 0.94736844, 0.9433962, 0.9519231, 0.95098037, 0.95, 0.95, 0.95, 0.9484536, 0.9479167, 0.9479167, 0.9358974, 0.93333334, 0.92957747, 0.92753625, 0.92424244, 0.93846154, 0.93442625, 0.9322034, 0.94736844, 0.96153843, 0.9787234, 0.97727275, 1.0, 1.0, 1.0, 1.0, 1.0, nan, nan, nan, nan, nan]\n"
     ]
    }
   ],
   "source": [
    "y = []\n",
    "x = np.linspace(0,1,num=100)\n",
    "n_1_l = []\n",
    "for i in x:\n",
    "    n_1 = 0\n",
    "    predicted_val = test_y[get_predicted_survivors(i)]\n",
    "    for i in predicted_val:\n",
    "        if i == 1:\n",
    "            n_1 += 1\n",
    "    print(n_1)\n",
    "    accuracy = predicted_val.mean()\n",
    "    n_1_l.append(n_1)\n",
    "    y.append(accuracy)\n",
    "print(y)\n",
    "#plt.save('gradients_prediction.png'\n"
   ]
  },
  {
   "cell_type": "code",
   "execution_count": 31,
   "id": "55f36452-50da-479f-904a-9d604f0297d4",
   "metadata": {},
   "outputs": [
    {
     "name": "stderr",
     "output_type": "stream",
     "text": [
      "C:\\Users\\timon\\AppData\\Local\\Temp\\ipykernel_16516\\3484322439.py:16: MatplotlibDeprecationWarning: The seaborn styles shipped by Matplotlib are deprecated since 3.6, as they no longer correspond to the styles shipped by seaborn. However, they will remain available as 'seaborn-v0_8-<style>'. Alternatively, directly use the seaborn API instead.\n",
      "  plt.style.use('seaborn')\n"
     ]
    },
    {
     "data": {
      "application/vnd.jupyter.widget-view+json": {
       "model_id": "d37b05c87a67425baffe2679fc57bfab",
       "version_major": 2,
       "version_minor": 0
      },
      "image/png": "[encoded data removed]",
      "text/html": [
       "\n",
       "            <div style=\"display: inline-block;\">\n",
       "                <div class=\"jupyter-widgets widget-label\" style=\"text-align: center;\">\n",
       "                    Figure\n",
       "                </div>\n",
       "                <img src='data:image/png;base64,iVBORw0KGgoAAAANSUhEUgAAAyAAAAImCAYAAACrXu7BAAAAOXRFWHRTb2Z0d2FyZQBNYXRwbG90bGliIHZlcnNpb24zLjYuMiwgaHR0cHM6Ly9tYXRwbG90bGliLm9yZy8o6BhiAAAACXBIWXMAAA9hAAAPYQGoP6dpAADNsklEQVR4nOzdd3xT5f7A8U920qbppou9kVmGoIAgS1RkOa574M91L7ivioqCyHRd1OsAQeXiVkRUXCwnoLJXGWUVKNC9spPz+yNtpLalLSRNC9/365VXkpNzzvMk/TY53/M8z3lUiqIoCCGEEEIIIUQdUIe6AkIIIYQQQohzhyQgQgghhBBCiDojCYgQQgghhBCizkgCIoQQQgghhKgzkoAIIYQQQggh6owkIEIIIYQQQog6IwmIEEIIIYQQos5IAiKEEEIIIYSoM5KACCGEEEIIIeqMJCBCCCGEEEKIOiMJiBBCCCGEEKLOSAIihBBCCCGEqDOSgAghhBBCCCHqjCQgQgghhBBCiDqjDXUF6pusrKKQla1Wq4iJCSc3twSvVwlZPUT9JnEiqiMxIqojMSJqQuJEnEp8fMRpbystIPWIWq1CpVKhVqtCXRVRj0mciOpIjIjqSIyImpA4EcEiCYgQQgghhBCizkgCIoQQQgghhKgzDSYBcTqdjBgxgnXr1lW5zo4dO7j66qvp2rUrV155Jdu2bavDGgohhBBCCCGq0yASEIfDwYMPPsiePXuqXMdqtXLnnXfSs2dPFi9eTGpqKnfddRdWq7UOayqEEEIIIYQ4lXqfgOzdu5drrrmGQ4cOnXK9ZcuWYTAYeOSRR2jVqhVPPPEE4eHhfPvtt3VUUyGEEEIIIUR16n0C8vvvv9O7d28++uijU663efNmevTogUrlu1KDSqWie/fubNq0qQ5qKYQQQgghhKiJej8PyPXXX1+j9bKysmjdunW5ZbGxsafstiWEEEIIIcSZ2Hu4gOXrM7A7PXVWZrhRx5j+LYiLMtVZmYFU7xOQmrLZbOj1+nLL9Ho9TqezVvtRq0N3vWuNRl3uXojKSJyI6kiMiOpIjIiakDg5tWKbi49W7OHHTUdDUn5CjImxA1qFpOwzddYkIAaDoUKy4XQ6MRqNtdpPTEy4vxtXqFgsDTObFXVL4kRUR2JEVEdiRNSExEl5iqKwan0G85dup7DEd+wZbtLRpklUndXBEqbn8v6tiI4Or7MyA+msSUASEhLIzs4utyw7O5tGjRrVaj+5uSUhbQGxWEwUFtrweLwhqYOo/yRORHUkRkR1JEZETUicVHQ0u4R3v0lj58E8/7ILOyVy3ZA2RJoNdV6fvLySOi+zzJkkP2dNAtK1a1fmzZuHoiioVCoURWHDhg3cfffdtdqP16vg9SpBqmXNeDxe3G75RxenJnEiqiMxIqojMSJq4lyJk90Z+fyyJRO7y4NBp0av02DQatDr1Bh0GgpKnKxYfxhP6XFiQkwYNw9rS4fmMQDnxGcUKA06AcnKyiIiIgKj0cjw4cN54YUXmDZtGtdeey0ffvghNpuNSy+9NNTVrDeWLfuS6dOn8NhjTzJixOhQV0cIIYQQIqS8isKW9ByWrT3I3sMFNdpGq1Ez4oJmXNqnGTqtjI85HQ36U+vXrx/Lli0DwGw28+abb7J+/XrGjh3L5s2bmTt3LmFhYSGuZf2xfPl3pKQ05ttvl4W6KkIIIYQQIeP2eFmz7RhPL/idlz/d4k8+TAYtrVIsNGlkJiHaRHSEgXCjFq1GjUoFnVrGMPX28xnZr4UkH2egQbWA7Nq165TPu3Tpwueff16XVWow8vJyWb/+DyZOfIpp0yZz9OgRkpNTQl0tIYQQQog6Y7W7+HXbMb7//RA5hQ7/8kiznkt6NWVAt2RMhsoPj8u6+Ysz16ASEHH6Vq5cjtlsZtiwS3nzzf/y7bdfM27cnYDvEsavvPIiq1evBGDAgEHcf//DGAwG8vJyeeml51i79jeMRiOXXz6SO+/8J8eOZXL11SP55JOlJCUlAzB//pts3LieV1+dy7JlX/Lll58TFRXDhg1/8NBDj9G3b3/mzHmB3377heLiIpKTU7j77glcdNFAgCrLmj17Grm5Ocya9ZL//bz00myKi4uYNGlq3X6QQgghhGhQvIrCroN5/Lw1k/W7snCdNFYjISaMS3s35YKOidW2aEjyETiSgJwBq91NZm7grj6g1aiJKHRQVGTHXcXVJpJiwgkz1v7PtmLF91xwQT/UajV9+17Et99+zW233YFKpWLmzKmkp+9l5swXMBiMTJ06iXnzXmf8+PuZOPFhNBoNr776JlarlaefnkhcXBwXXti/2jK3bt3CzTeP4667/kVUVDRz5rxARsZBXnrpVYxGE++/v5BZs6ZywQV90el0VZY1ZMgl/Pvf91FSUkx4uBmv18vq1St59NEna/05CCGECJwiq5Pck84i/51KBXqdBr22dECvToNWo6rRgZzXq5BbaOdYnpXjuTaOl95b7S50WjVarRqdRo1OW3bTEGbQEmsxEGMxEmMxEmsxYDJoa33gmFtoZ/fhfPYdKcTu8qDTqNFoVKX3anQaFVqNuvRW+ri0PmXLVKd5RU2dxjfg2aD3fV5lg6G1MhdHreUW2vl1aya/bM0kK99e7rXmiRFc1qcZ3dvGh+zqp+cySUBOk9Xu5pHXf8PqcNdpuWEGLbPvubBWScjx48fYunUz//jHDQAMGHAxS5Z8ypYtm2jRohWrV6/gpZf+S5cu3QD4978fZ8+eXezdu4dt27bw8cdf+LtrPfzwRGw2W43KValU3HLLOAwG31ws3bp159prb6BlS9+M9ddddyNffrmE3NwcioqKqiwrNbUHEREWfv31Z4YNu5TNmzficrk4//w+Nf4MhBDiXJdX5GDP4XwUBfR6DVEWEzabA5Xiu9yqRu07kNaoVWg0KjQaNVq1797j8ZKZayUzu4SjOVaOZpeQmVNCkdVV63qUJSUGrdpf7l9lqdCo1didbrLybbg9Z35VSqNe40tIIgxEl7sZ/Y9zC+3sOVzAnsP57D1ScMqkKlQ0ahWa0smS1Srf/cnPq8qxtBo1HZpH07NtPG2bRqFRn92JjNfrG1S+etMRtu7LQTkphEwGLX06JnBRl2SaJUaErpJCEpBzwYoV36PX6+nd+wIA/wH9N998xahRY/F4PLRv38G/fteuqXTtmsrKlcuxWCLLjRXp338gAJmZ1c/6GR0d408+AIYPv5yff17N0qWfc/DgAXbtSgPA6/Vy6NDBKssCGDRoKKtWLWfYsEtZuXI5AwZcjFYr4SuEEKeSnW9j/e4s1u/KIv1IAaG9yLyPooDD6cHh9NRquyiznsSYMCLC9Lg9Xlzu0lvpY6fbS4nNRbGtfFJkd3o4ml3C0eza91gwm3REmfW4PAoej68sj0fBVXpZWk8dXrbf41VOu7xjuVZWbTiC2aSje9t4eraPp33T6HrTquL1KrjcXgx6zWnvo6DEyc+bj/LjpiPlxnYAdGgWTf8uSXRvG49ed/pliMAJ2hHcl19+Sa9evUhMTOS1115j2bJldO/enSeeeAKDoe4nagm0MKOvJSLgXbAijAHvgrV8+Xc4HA4uuWSAf5nH42HVquWMGDGq6vqc4gC/suZsj6f8j4lery/3/Nlnn2br1i0MH34Zo0dfRWxsHHfffVu1ZQEMGXIJEybcRUlJMT/9tFLGfgghRCW8isKxHCsbSpOOg8eLAl5GrMVIclw4SbFhJMeFEx9lQlNFFxZFUXC4vDhdHpxuj/+xw+XB5fYdzLu9vnuP14vb4zvI1qpVNIoJIzEmjIRoE42iTRj1Nfvtc7g85BbayS10kFtoJ6f0cV6RndwiB/nFDmyOypOfhJgw2jSOpE1KJK0bR5IYE3bK7luKouD2KL6EqDQp8T1WKHfqvYYU8CVTpZ/RyZ+X0+XF4/XiLU1EvIqC14v/eVUKShxsSc/B7vRQbHPx0+aj/LT5KOFGLZ1bxRITYSTcpCXcqCu9aQk36TCbdMREBvd47dDxIn7enMnaHccosbsxGbQVWqpiLEYsYXrCjFrCDFpMBi1hRi0GvQYVsOdwAas2HuHPtBPlPofIcD39uybRr0syjaJkJvf6JigJyGuvvcYbb7zBO++8w5EjR3j55Ze5+uqrWbduHc8//zxPPPFEMIqtc2FGLa2SIwO2P61WTXR0OHl5JQGbzObQoYPs3r2L++9/mO7de/qX79+/j6effpyMjENoNBr27NlD167dAPj559W8/fY8nnzyGQoLCzh+/BgJCYkAfPLJh6WDyicCYLVa/fs8evRIlfUoKSnmhx++Ze7cd+jQoSMAa9b8Avi+wBs3blJlWTNmvEDHjp2Ij4/nvfcWoii+VhwhhDibuT1e/1V3yrrZlFEUhbwiB0eySziS5Tu7fyS7hKM5JZW2LLRIstCjXTypbeIIM+pQqSDcbCQ3z7e+p/Qg2uP1nel3e5VySQFAQoyJxJiwGicCoWLQaUiKDScptupZmm0ON/nFDl9CUuQgzKClVeNILGH6KrepjEqlQqdVodOqqc+HuC63h+3781i/6wQb92RjdbgpsbtZu/34KbdTAVERBiLNeqLCDUSZ9USZDVjMesIMWox6LSaDBpNei9Gg8S871ZgKq93F2h3H+XlzZoUE2eZwc8Th5kgNWqtU+LoS/j3e2zeN4uLujUltE1dvWnhERUH5Fvnss8+YNWsW3bt3Z/r06XTr1o2pU6fy559/8sADD5w1CUhDsHz5d1gskYwcObZci0TLlq15++23+OGHbxk+/HLmzHmOhx+eiFqt5s03X+OCC/rSsmUrevToxcyZUxk//gEKCvJZtOgdbr55HDExMTRqlMD77y9k3Lg72bx5I2vW/EKbNu0qrYdeb8BoNLF69UqioqI5dOggL774HAAul+uUZZUZPHgYH374HldcMQqNRppQhRBnn2Kbi427s1i/O4vt+3PLndFVgS8RUatQFKpsKS9bt03jSHq0a0SPdvHEWIzlXi874WVQn5uzN5tKz6SfKkk5m+i0Grq1iaNbmzjcHi87D+bxZ9oJ9h4poMTmosTurrQVRcE3diivyAHUrDVNBZjDdFjC9VjC9ESG632Pw/UcziqucBUqrUZN97ZxtG0SRUGxs7Q8X2tVbpGjyq56CvhfMxk09O2UxMDUFJLjzo2/aUMXlATkxIkTpKamAvDbb78xfPhwAJKSkigsLAxGkaIKK1Z8z7Bhl1boDgUwZsyVzJnzAh9//AULFszlgQf+hU6nY9Cgodxxxz0ATJo0lRdemMldd91KeLiZkSPHMHbs1ahUKiZOnMRLLz3HTTddQ48evbj55nGsWfNrpfXQ6XQ89dQzvPrqf/j00w9JSkrhllvGMW/e6+zenUazZs2rLKvM4MHDWLhwAYMHDwvOhyWEECFQWOJkw54s1qedYOfBfLxVdN1RqHwcgEoFjaJMJMeFkxIfTnJcOB2aRhNpbvjdnUXgaTVqOreMpXPLWP8yRVGwOz2U2F1Y7W5KbC6KbC4KrU5sLoVjWcXkFdnJK3aSX+TA4ap6/I4CFFldFFldHKHqlowmjcz075JEn46JmE26Ktez2t0U25xYHW5sdjdWh7vc47hIE73aNzqj8SOi7qkU5TQ6KVZj6NChPPPMMyQnJ3PJJZfwwQcfkJqayhdffMFrr73Gd999F+giAyYrK/D9ZWsqGF2wziZ//LGWWbOm8cknS8/pa3FLnIjqSIzUf7mFdjbuyWb9rhPsysivMFwgIdpEj3aNiIs0lvb1L70pvnEeiqIQYzGSUjoWQ6et3cGXxIioicriRFEUnG4vdocbm9ODzeEuvXmwO33JS4HVSWGJk8ISl+++9LlBp6H3eQn075pEs4SIc/q3/GwQH3/6VxILSgvItddey/33349er6ddu3akpqby3nvvMXv2bO69995gFCnOYtnZ2WzZson//W8BI0aMki8sIUSDdCz3r8Hh+zMr9gZIjgunZ7t4erZrREp8uHzXiXpJpVKVzk+ioTajYMvOd0tcCwhSAnL77bfTokULMjIyGDlyJAAWi4VJkyZx1VVXBaNIcRYrLi5ixoxn6NixE9dee2OoqyOEEDVmtbtZvj6DP9JOcCSrYneUJo3M9GgbT4/2jUiRvuviLCaJhzhZULpgvfrqq9x+++2YTOWvCVFcXMycOXPq9SB06YIl6juJE1EdiZHQ83oVftpylM9/2ldhsr7WKZF0bxtP93bxIbs8qMSIqAmJE3Eq9aILVnp6Orm5uQD897//pX379kRGlm+c2717Nx9//HG9TkCEEEKIM7HrUB7vL99Dxoli/7L2TaPo1b4RqW3jiZLB4UKIc1zAEpCMjAzuvvtufxPb+PHjK13vyiuvDFSRQgghRL2RlW/j41V7Wb8ry78sJT6c6wa34bzmMSGsmRBC1C8BS0AGDhzIypUr8Xq9DBkyhE8++YSYmL++cFUqFWFhYURFRQWqSCGEECLkCkqcfP/HIX7447B/bg6zSceY/i24qFsyGrVMhiaEECcL6CD05ORkAFasWIHZbKagoICmTZsC8P3333P++ecHsjghhBAiZA4eK2L5nxms23ncP1u4Rq3i4u4pjOrXgnBj1XMbCCHEuSwoV8HKz89n7NixjB07lkcffRSAmTNn4nQ6WbBgAW3btg1GsUIIIURQeb0KG/dks/zPDHZl5Jd7rWurWK4Z1PqcmV1bCCFOV1DahWfOnMmgQYN44IEH/Mu+//57+vfvz8yZM4NRpKjCVVddQb9+PenXryf9+/di6ND+3HPPONatW3NG+502bTLTpk2udr35899k/Pg7a7RPl8vF0qWf+5+PH38n8+e/ebpVPG1ffLGYESOGMHRof/bv31fpOsuWfUm/fj356qsldVs5IURIFNtcfPf7IR57cw3//XyrP/nQa9UMTE3h2f/rzX1Xd5XkQwghaiAol+FNTU1l6dKlNGnSpNzy/fv3c9VVV7F+/fpAFxkwZ9tleK+66gquueZ6Bg8eiqIoFBYW8O23X/PRR+/z/PMv06tX79Pab3Gx7+ouZrP5lOtZrVbcbhcWS/XTFX3zzVfMn/8mn376JQCFhQVotTrCwsJOq46na/jwgVx99XVcfvlI4uMbodFUnGH4wQfHc+TIYeLjG/Hqq3PrtH5yWURRHYmRwFAUhV2H8vlp81H+3HXC380KIDrCwJAejenfNRmzqeF1tZIYETUhcSJOpV5chvdk4eHhZGRkVEhATpw4gV6vD0aR4hTMZjOxsXEAxMXF889/3kdOTjavvPIiCxd+dNr7rInaJA9/z4VrkrQEQ3FxMampPUhMTKr09by8XNav/4OJE59i2rTJHD16hOTklDqupRAiWApLnPy6LZOfNmdyPNda7rVWKRaG9mxC97bxaDUyuFwIIU5HUL49L7nkEqZMmcKaNWsoKSmhpKSEtWvXMmXKFIYOHRqMIkUtjRw5ln370jl8OAOAoqIipk6dxLBhAxg1ajgvvTQbh8MOwIYNf3LVVVfw/PMzuOSSASxa9I6/C1ZxcTGDBl3Ihg1/+vdttZYwaNCFbN68qUIXrC+/XML111/JwIF9uPzywbzwwiw8Hg8bNvzJ9OlTOHYsk379epKZedTfBevgwQP069eTo0eP+PeTkXGI/v17cfz4MQCWLPmMq68eydCh/Rk//k7S0/dW+d4LCwuZNWsaV1wxjEsuGcDUqZMoLCwEoF+/ngDce+/dVXYdW7lyOWazmWHDLiUuLp5vv/263Os2m43Zs6dx2WWDueyywcyaNQ2HwwH4kpennprIsGEDGDnyEt58878oikJm5lH/+y5z8me3bNmX3HPPOCZOfJjBgy9i6dKllJQUM336FEaMGMrAgX24/vor+emn1f7tqypr1qxnefTRB8rV+aWXZjN16qQqPzMhznYn8qys2niEVz7bwkP//ZVPVqX7kw+TQcvgHo15Ztz5PHFTT87vkCDJhxBCnIGgtIA89NBDHDp0iNtuu80/LwjA0KFDeeSRR4JRpKil5s1bAHDgwD4aN27CzJnP4Ha7ef31+Tgcdv7zn+d58cXZTJz4FADHjmXidDqZP38RWq2O+fPfAHwtIb17X8CPP66ke3ffwfuvv/5MVFQ0Xbp05c8/1/nL3LhxPf/5z3M89dRU2rZtT1raDqZOfYqePXtx4YX9uffeh/jww0XMm/cuUVHR/u2aNWtO69Zt+fHHVVx33Y0ArF69gk6dupCQkMgvv/zE22/P5ZFHnqRp02Z8++3X3HvvXXzwwedYLJYK7/3xxx/G4bAze/ZLKIrCCy/MYvr0ycyc+SJffPEto0YNZ9q02aSm9qj0s1ux4nsuuKAfarWavn0v4ttvv+a22+7wx/rMmVNJT9/LzJkvYDAYmTp1EvPmvc748fczceLDaDQaXn31TaxWK08/PZG4uDguvLB/tX+zrVu3cPPN4/jnP8fTvHkKzz47nYyMg7z00qsYjSbef38hs2ZN5YIL+qLT6aosa8iQS/j3v++jpKSY8HAzXq+X1atX8uijT1ZbByHOFiV2FzsP5LHjQC7b9ueSXWCvsE7rxpEM6JpMz/aNMOgqdsUUQghxeoKSgISFhTFv3jz27dvH7t270el0tGrViubNmwejuJCxuW0cK8mqfsUa0mpUZHtNFBXayvU1PllieDwmremMywoP93WhslqtHDlymJ9//pFly1b6u1Y9+uiT3Hbb9UyY8KB/mxtuuIXGjZtU2NfgwcP473/ncP/9/0alUrF69QouvnhIueQTwGQK47HHJjFgwCAAkpKS+fDD99i/fx8DBgzCbDajVqv93cX+XsaPP670JyCrVq3gsstGAPD++wu56abb6NvXdxB/xx33sGbNr3z//TKuuuracvvZu3cPmzZt4P33P6Np02YAPPXUVG644SoOHTpA06bNAYiIsFTaBez48WNs3bqZf/zjBgAGDLiYJUs+ZcuWTXTtmkphYSGrV6/gpZf+S5cu3QD4978fZ8+eXezdu4dt27bw8cdf+LtsPfzwRGw2W6V/o79TqVTccss4wsPDiI4OJzW1B//4xw20bNkagOuuu5Evv1xCbm4ORUVFVZaVmtqDiAgLv/76M8OGXcrmzRtxuVycf36fGtVDiIbseJ6V93/Yw7b9OVQ2AjIxJowurWLp3zWZlDgZUC6EEMEQlASkTMuWLWnZsmUwiwgZm9vGpN9mYnPX7OAxUExaE1MvfOyMkxCrtQSAsLBwDhzYj9frZcyYS8ut4/V6/V20gCrHRPTtexEzZ05l+/ZttG7dhnXr1vDKKxWvXtW+fQcMBgPz57/J/v3ppKfv5fDhjBod+A4ZMox5814jOzsLl8tFevoeLr54CAAHD+7ntdde4c03/+tf3+l0kpFxqMJ+Dh7cj9kc4U8+wNfCEhFh4cCBvxKQqqxY8T16vZ7evS8A8B/Mf/PNV3TtmsqRIxl4PB7at+/g36Zr11S6dk1l5crlWCyR5caL9O8/EKBc16uqREfHYDAY/c8vu2wEq1atZOnSzzl48AC7dqUBvr/boUMHqywLYNCgoaxatZxhwy5l5crlDBhwMVptUL8OhAgpr1fh+z8y+PznfbhOGkxrNuk4r3k05zWPoWPzGGIjjafYixBCiEAI2BFHhw4d+OWXX4iNjaV9+/YVzn6fbOfOnYEqVpymvXv3ANCyZSv27t2D2Wzmrbf+V2G9+Ph4tm/fBoDBYKh0XyaTib59+/PjjyvJzj5BTEwsHTp0rLDeunVrmDjxYYYPv4w+fS7kttvu5IUXanZZ5qSkZNq3P48ff1yF0+mka9dUf0uJx+Ph3nsfpGfP8hNdhodXPHtZ1UUQvF4PXq+n2nosX/4dDoeDSy4Z4F/m8XhYtWo5Dzzw71MexJ/qtcr+Xzye8vX5e92nTJnEli1bGD78MkaPvorY2Djuvvu2assCGDLkEiZMuIuSkmJ++mklkyZNPeX6QjRkh7OKeXvZTvZn+q5yqFGrGNarCb06NKJpQgTqU/xeCSGECLyAJSDTp08nIiLC//hUCcjZoKwlItBdsCIsddMF6+uvl9KuXQeSk1NwOp0UFxejUqlISWkMQHr6Xt566w0ef/zpGu1v8OBLmDv3v+TmZjN48LBK1/nyy8+5/PKRPPSQb3JKt9vNkSOH6dGjF1D5QfjJhgwZxpo1v2C1Wrnkksv8y5s0aUZW1oly3cOmT5/CRRcNpF+/AeX20bRpc4qLi8p1t9q/fx8lJSXlWkUqc+jQQXbv3sX99z/sH+9Stv3TTz/Ojz+upm/ffmg0Gvbs2UPXrt0A+Pnn1bz99jyefPIZCgsLOH78GAkJiQB88smHbNjwBw89NBHwdYkrc/Kg+78rLi7m+++/Ze7cd/zJ3po1vwC+q4k1btykyrJmzHiBjh07ER8fz3vvLURRqHK8ixANmdvj5avfDvD1moN4vL7v1OaJEYy7rAONG9XsSn5CCCECL2AJyJgxY/yPx44dG6jd4nA4mDJlCt9//z1Go5Fx48Yxbty4Stf94YcfePHFFzl27Bjt27fnySefpGPHimfiA8WkNdEismnA9ue/3rY6sNfbLi4uJicnG0WBgoJ8vvrqC1as+J6XXvJ1WWrevAW9e1/IlClP8sAD/0at1jBr1rNYLBZ/UlmdPn0uZPr0yRw/fpzXXnur0nUslki2bdtMevpeVCoVixa9Q05ONk6nEwCj0UhRUSEZGYdISkqusP2gQUOZN+91PB4vM2Y8719+7bU3MHPmszRp0pTOnbvyxReLWbnyB2666bYK+2jWrDl9+lzI1KlP8+CDj6AoCi++OJtu3br7x1JUZfny77BYIhk5cmy51oiWLVvz9ttv8e23XzFs2HCGD7+cOXOe4+GHJ6JWq3nzzde44IK+tGzZih49ejFz5lTGj3+AgoJ8Fi16h5tvHkdMTAyNGiXw/vsLGTfuTjZv3siaNb/Qpk27Suui1+sxmUysXr2SqKhoDh06yIsvPgf4JnQ8VVllBg8exocfvscVV4yqdK4TIRoqp8vDrox8Pl61lyNZvu6mOq2aMf1bMrRXYzRquYKVEEKEUsASkFdffbXG644fP77G686ePZtt27bx7rvvcvToUR599FGSk5MZPnx4ufX27NnDQw89xDPPPEP37t155513uOuuu/jhhx8wmc68xaAhe/nlF3j55RdQqVRERUXTtm175sx5w3+GHmDSpGd46aXZ3HffP9FoNPTufQEPPPDvGpeh1+vp338gO3Zso02btpWuM27cXUyfPpm77rqV8HAzF1zQl9Gjr2LPnl0A9OjRi5SUJtxyy7WVJjFxcfG0a9cBg8FIZGSUf/ngwcPIzc3lrbfeIDc3lxYtWjJr1ks0aVJ5cvjkk3+9V7VaTf/+A8oNtq/KihXfM2zYpZV24xoz5krmzHmBrKwT3HffQ/znP8/zwAP/QqfTMWjQUO644x4AJk2aygsvzPR/BiNHjmHs2KtRqVRMnDiJl156jptuuoYePXpx883jWLPm10rrotfrmTz5WebMeZFPP/2QpKQUbrllHPPmvc7u3Wk0a9a8yrJO/twWLlxQZYuVEA2F0+Uh/Wghuw7lkXYon31HC8q1IrdtEsVtl7YnIaZuJzUVQghRuYDNhD5o0KByzzMzM9HpdDRp0gStVsuhQ4dwuVx06tSJDz/8sEb7tFqt9OnTh3nz5tG7t2/G7tdee401a9bwv/+VH6/wzjvvsHTpUhYvXgz4zvr36NGDTz/9lM6dO9f4fZxtM6GLs0+g4uSPP9Yya9Y0Pvlk6VnfZfJcc7Z/lzhcHtKPFLA7I59dh/JJP1qI21PxfZoMWq4a2IoB3ZJlnMffnO0xIgJD4kScSr2YCX3lypX+x++88w6rV6/mhRdeIDY2FvBN/vbII4/Qtm3lZ8crk5aWhtvtJjU11b+sR48evPHGG3i9XtQnNaNHRUWxd+9e1q9fT2pqKosXL8ZsNtO0aeC6SAlxNsjOzmbLlk38738LGDFilCQfot6zOdzsPVLArkP57MrI40BmkX9Mx8m0GhUtkyNp3zSKdk2jaZVsQS/zdwghRL0TlOtuzp07lwULFviTDwCLxcKDDz7ITTfdxIMPVt/dBSArK4vo6OhyXV7i4uJwOBzk5+cTExPjX37ZZZexcuVKrr/+ejQaTWnf+zeJjKw4l8OpqNUq1OrQHJBpSmfW1cgMu+IUzjRObLZiZs58ho4dO3PjjTeh1Uq8nW3q43eJV1HIybeTXWAju8BOToHdd1/ouy8qcaJQeYO83empdM4OrUZFq+RIOjSPpn2zaFqnRErCUUP1MUZE/SNxIoIlKAmIy+UqdzWfMjk5ObU622qz2Sr0ty97XjZwuUxeXh5ZWVk89dRTdO3alQ8++ICJEyfy+eefl0uEqhMTEx7yM8IWy7k9ZkXUzOnGSXR0ZzZu3Bjg2oj6KJTfJS63l70Z+ezYn8P2/Tns3J9Lsc11RvvU6zR0aB5Np1ZxdGwZS7um0ZJwnCH5vRE1IXEiAi0oCcigQYOYNGkSTz31FJ06dUJRFNavX8/UqVO5/PLLa7wfg8FQIdE4+YpJJ3v++edp27YtN9zgm6F66tSpXHrppXz22WfceeedNS4zN7ckpC0gFouJwkIbnkr6MwsBEieiesGKEZvDTfqRAjJOFFfaBQrAZnez57BvXIbrFH3G9Vo1sZFG4iJNxEUaiTTrqxynYdBraN04khZJFrQnnYktKbZTcmZv6Zwl3yOiJiROxKlER1ecb62mgpKATJo0ifvuu49bbrnF35qgKArDhw/n0UcfrfF+EhISyMvLw+12+ydWy8rKwmg0YrFYyq27fft2brrpJv9ztVpN+/btOXq0+hmmT+b1Knir+GGtKx6PVwZ7iWpJnIjqnGmM5Bba2XukgD2HC9hzOJ+ME8WVdoU6FZUKmjQy07ZxFK1SIkmIMRFrMWI26Wrf2qwgMR9g8j0iakLiRARaUBIQs9nM/Pnz2b9/P7t370alUtGhQweaNGlS/cYn6dChA1qtlk2bNtGzp2/it/Xr19O5c+dyA9ABGjVqRHp6erll+/fvr9UVsIQQ4lxXaHWyasMRft2aSXaBvdJ1VCqqnEtDq1HRLCGCNk2iaNs4klYpkZgMQfmpEUII0UAF9VchOzubvLw8RowYwbFjx8q1ZNSEyWRi9OjRTJ48menTp3PixAkWLFjAjBkzAF9rSEREBEajkWuuuYbHHnuMTp06kZqayieffMLRo0fLTZAohBCicpk5JXz3ewa/bTtW4ZK24UYtbRpH0bpxJK1TImmRFIFOK2MvhBBCnJ6gJCDFxcXcfvvtbN68GZVKRd++fXn++ec5dOgQb7/9NgkJCTXe18SJE5k8eTK33HILZrOZCRMmMGyYb+K0fv36MWPGDMaOHctll11GSUkJb775JseOHaNDhw68++67tRqALoQQ5xJFUUg7lM93vx9iS3pOudc6toihV/tGtE6JJDE2TObREEIIETABm4jwZM888ww7duzgueeeY+TIkSxduhSn08nDDz9My5YteeGFFwJdZMDIRISivpM4EdU5VYzkFzvYd7SQ9KMFbNuXS8aJ4r+206joc14iw85vQuN4c11XW9Qh+R4RNSFxIk6lXkxEeLJVq1bxwgsvlBvz0apVK5566in+9a9/BaNIIYQQf+P1Kuw9UkD6kQLSjxay/2gBOYWOCuuFG7Vc3D2Fwd0bE2k2hKCmQgghziVBSUByc3OJj4+vsNxisVQ6P4gQQojAcLm9bNufy9b9u1m7LZMia+Vzbxj0GlokRtCrfSMu7JyEQebTEEIIUUeCkoB07tyZb775psL8G++99x7nnXdeMIoUQogGwetVcAX4evout5cdB3LZsDuLLek52J2ecq+rgOT4cFomWWiVEknLZAvJseEhm/NICCHEuS0oCciDDz7IuHHj2LJlC263m9dff5309HS2b9/O/Pnzg1GkEELUK16vQlaBjaNZJRzJLr1llXAstwS3J/hzDZlNOrq2jiO1TRwdmkXLpXCFEELUG0H5RerevTsfffQR8+fPp1mzZmzatIk2bdrw+OOP07Vr12AUKYQQAeX2eCkscVJQ4iS/yEF+sYO8Yif5xb7HBcVO7E53pdsqChSWOHHW8aDNKLOe1LbxnN8hgT5dUygqtMnAUSGEEPVOUBKQZ599lptvvpnZs2cHY/dCCFEriqJgd3qw2t1YHW6sdhdWhxubw43V7qbY5ipNLEqTjRInRSVOAtVOoVGrSIoNIzkunJR4M5aw05gFvBop8eG0SLKgVqnQatVoNZVPFCiEEEKEWlASkM8//5xbb701GLsWQgg/r1ehyOokv9hJQYkvgSgo9iUQBWWPi32tGH+fXO90hBu1RJkNRJn1RJoNmAxaqkojwoxaGsebSY4Lp1G0SRICIYQQolRQEpABAwawaNEixo8fj9ks15IXQpy5rHwbf6SdYHdGvr8LVKHVSSBmMjIZtESZ9f7kwndvILLscYSBqHA9erlSlBBCCHHGgpKAZGVlsWzZMv9M5AZD+evKr1ixIhjFCiHOMrmFdv5IO8HvO0+wP7OwRtvotWoiS1soosJL7816LGF6wow6woxawgxaTGX3Bg0atbROCCGEEHUlKAlI79696d27dzB2LYQ4i7k9Xo5ml7A7I5/f006w93BBhXVaJFlIiDERFe5roYg8KcmIDDdgMmgCPr5CCCGEEIETlARk/PjxwditEOIsUmh1knG8mIwTf90yc0rweCv2qWqRZOH8Do3o1b4RMRZjCGorhBBCiEAJ2oXhN23axP/+9z92796NRqOhY8eO3HrrrbRp0yZYRQoh6rmCEie/7zzO2u3Hq+1S1TTBzPkdEujVvhHxUaY6qqEQQgghgi0oCcjKlSsZP348nTt3pm/fvng8HjZu3MjYsWN5++236dmzZzCKFULUQ3anm427s1mz/Rg7DuTh/duocZUKEmPCaBxvpkkj361pQgTREYYq9iiEEEKIhiwoCchLL73E7bffzkMPPVRu+axZs3juuef46KOPglGsEKKeUBSFXYfy+XHzUTbuycLpKn8J3GYJEfQ+L4F2TaNIjgvHIFeXEkIIIc4ZQUlADh48yJVXXllh+T/+8Q/ef//9YBQphKgHHC4Pa7cfY8X6wxzOKin3WlykkT4dE7mgYwJJseEhqqEQQgghQi0oCUiHDh1Ys2YNzZs3L7d827ZtMgZEiLNQdr6NlRuO8POWo5TY3f7lYQYtvTsmcEHHRFolW+TqVEIIIYQITgIycuRInn/+efbt20fv3r3RarVs3bqVd999l2uvvZYlS5b41x09enQwqiCECBKvopBdYOdodgmZ2SXsOVzA5vTschMCpsSHM6RHY/p0TJTuVUIIIYQoR6UogZhHuLz27dvXrHCVip07dwa6+DOSlVUUsrK1WjXR0eHk5ZXgdnur30Cck840ThRFweZwU2R1UWRzUWR1UmR1UWxzVXoJXACPx0tWvo2j2VYyc0pwVlKuSgXd28QzuEdj2jWNktaOEJLvElEdiRFRExIn4lTi4yNOe9ugtICkpaUFY7dCiGo4XR7SDuWTU2DzJRhWF0U2Z7nHxdaqE43aUqtUJMSY6NYmjotTU4iLlMvlCiGEEOLUgjYPiBCibljtLjan57Bhdxbb9uXicHlOaz8atQqtRl35iyqItRhJjg0jOS6c5LhwUuLCSYgJq3obIYQQQohKSAIiRAOUV2Rn5frD/JF2grSDeZW2aBj0GiJMOiLCdESE6Ykw6TCf9DgiTF/6XEeESY/JoJFuU0IIIYQIOklAhGhAvF6Fr9ccYPGP+3D9rT9urMVAapt4ureNp1WKBZ1WBn8LIYQQov6RBESIBiIzp4QFX+8k/Wihf1lyXDjd28bRvW08zRIipAVDCCGEEPWeJCBC1HNer8LyPzP47Ke/Wj3aNIniluHtSJYJ/YQQQgjRwAQsAZk4cWKN150xY0agihXirHY8z8qCr3ey53ABAFqNijEXteKGSztQWGiTyyIKIYQQosEJWAJy+PDhQO1KiHOeoiis3HCET1bt9c+50SwhgttHdKB5kgWNXHlKCCGEEA1UwBKQ//3vf4HaVTkOh4MpU6bw/fffYzQaGTduHOPGjat03V27djF58mS2b99Os2bNeOKJJ+jTp09Q6iVEsHi8Xv733W5+2nwU8F0ed2Tf5lzap5lc8lYIIYQQDV7AEpCjR4/WeN3k5OQarzt79my2bdvGu+++y9GjR3n00UdJTk5m+PDh5dYrKipi3LhxDBo0iJkzZ/LFF18wfvx4vvvuO2JjY2tcnhCh5HB6eP2LbWxJzwF8g8zvvOI8miac/myjQgghhBD1ScASkEGDBlV7BR5FUVCpVOzcubNG+7RarXzyySfMmzePjh070rFjR/bs2cN7771XIQH5/PPPCQsLY/LkyWg0Gu69915+/PFHtm3bxoABA077fQlRVwpLnPznk80cOFYEQPumUYwf24Uwo1wrQgghhBBnj4Ad2SxcuDBQu/JLS0vD7XaTmprqX9ajRw/eeOMNvF4vavVf3VF+//13Bg8ejEbz19wHn332WcDrJEQwHM+18uLHm8jKtwPQ57wEbrusAzqtdLkSQgghxNklYAnI+eefX+0627dv58MPP6zRugBZWVlER0ej1+v9y+Li4nA4HOTn5xMTE+NfnpGRQZcuXZg0aRIrV64kJSWFRx99lB49etTqfajVKtTq0MylUDawWAYYn1v2Hi7gpY83UWR1AXD5hc24+uLWqKtoUZQ4EdWRGBHVkRgRNSFxIoIl6H077HY7X375JR999BHbt2/HYDAwderUGm1rs9nKJR+A/7nT6Sy33Gq1MnfuXG6++WbmzZvH119/ze23384333xDUlJSjesbExMe8sncLBZTSMsXdcPj8fLrlqPM+WgTTpcHlQruGt2Zy/u1rNH2EieiOhIjojoSI6ImJE5EoAUtAdm9ezcfffQRS5cupbi4mOjoaP71r39x/fXX13gfBoOhQqJR9txoNJZbrtFo6NChA/feey8A5513Hr/++itffPEFd999d43LzM0tCWkLiMViorDQhscj8zucjZxuD9v35fLnrhNs3J1Nsc3X6qHTqrlndCd6tm9EXl7JKfchcSKqIzEiqiMxImpC4kScSnT06U+GHNAExOl08s033/Dhhx+yadMm1Go1ffr0Yc2aNbzzzju0bdu2VvtLSEggLy8Pt9uNVuuralZWFkajEYvFUm7d+Ph4WrYsf+a4efPmZGZm1qpMr1fB61VqtU2geTxemWDuLGJzuNm8N5sNu7PYui8Xh8tT7nVLuJ7xYzrTunFkrf7uEieiOhIjojoSI6ImJE5EoAUsAZk5cyaff/45hYWFdO/enSeffJLhw4cTGxtLx44dyw0Yr6kOHTqg1WrZtGkTPXv2BGD9+vV07ty5wv66devGH3/8UW7Zvn37GDFixOm/KSHOgNer8OOmIyz+aR8ldne518KNWrq1iaN723g6No9Br9NUsRchhBBCiLNLwBKQd955h5YtWzJ9+vQaXZK3JkwmE6NHj2by5MlMnz6dEydOsGDBAmbMmAH4WkMiIiIwGo1ce+21LFq0iFdeeYWRI0eyZMkSMjIyGDVq1BnXQ4ja2nukgEXf7+LQ8WL/sugIA93bxtO9bTxtm0SiOY2kXAghhBCioQtYAvLMM8+wePFi/vWvfxEZGcmwYcO47LLL6N279xntd+LEiUyePJlbbrkFs9nMhAkTGDZsGAD9+vVjxowZjB07lpSUFN566y2mTZvG3LlzadWqFXPnziUhISEQb0+IGikocfLp6r38uvWYf1njeDPXDWlD+6ZRIb/AgRBCCCFEqKkURQnogIf09HQWL17M0qVLyc7OJjY2lpycHF577TUuvvjiQBYVFFlZRSErW6tVEx0dTl5eifS1bGA8Xi8rNxxhyc/7sTl83a1MBi1jL2rJwNTkgLZ2SJyI6kiMiOpIjIiakDgRpxIfH3Ha2wY8ASnj9Xr58ccf+eyzz1i9ejUej4du3bpx0003cdlllwWjyICQBETUlKIoHDpezO87j/P7zhPkFNr9r/XrnMRVA1thCdefYg+nR+JEVEdiRFRHYkTUhMSJOJV6mYCcLDc3l6VLl/LZZ5+xd+9edu7cGewiT5skIOJUFEUh40Qxf6Sd4I+dJziRbyv3erOECG4Y1pbWKZFBq4PEiaiOxIiojsSIqAmJE3EqZ5KABGwMyFtvvcXAgQNp3bp1hddiYmK49dZbufXWW9m+fXugihQiaFxuD7lFDnIL7OQUOsgttJNTaGf34QKO51rLratRq+jUIobeHRM4v31CyOaREUIIIYRoCAKWgBw6dIg77rgDgP79+3PRRRdx4YUXEhYWVm69jh07BqpIIQIqv9jBkp/3s2lvNoUlzlOuq1Gr6Ngihl7tG5HaJo4wo66OaimEEEII0bAFvAvW7t27+fHHH/npp5/Ytm0bXbt2ZcCAAVx00UW0atUqkEUFhXTBOvc4XR6++yODZWsOVpgksIxepybWYiQhOozUNnGkto3HbApN0iFxIqojMSKqIzEiakLiRJxKveiCVaZt27a0bduWO+64g+LiYn799Vd+/PFHFixYgE6n46KLLmLy5MmBLlaIWlMUhXU7j/PZ6nRyCh0AqIDeHRNolRxJjMVArMVIjMVIuFErl9AVQgghhAiAgCcgJzObzVxyySVccsklAOzYsYOffvopmEUKUSPpRwr4cMUe0o8W+pe1axLFtYPb0Czx9DN6IYQQQghxakFLQDZs2EDz5s2JiYlhyZIlfPPNN3Tv3p277rorWEUKgVdRyMwuYXdGPodOFGNzuLE7PdidHhxOD3an73nBSWM8GkWZuPri1nRvGyetHEIIIYQQQRaUBOTDDz9kypQpLFiwgOjoaCZOnMgFF1zAO++8g8vlYvz48cEoVpyDPF4vGSeK2X0on10Z+ew5XECxzVWjbU0GDVdc2ILBPRqj0wZuokAhhBBCCFG1oCQg7777Lk8++SQXXHABL774Im3atGHBggX8/PPPPP3005KAiID4M+0Eb3+T5p95/O/iIo1YwvUYdBqMeg1Gvbb0XoMlXM8FnRKxhAV+okAhhBBCCFG1oCQghw8fZtCgQQD8+uuvXHTRRQC0atWK7OzsYBQpzjEldle55EMFpMSbadckirZNo2jbOJJIsyG0lRRCCCGEEBUEJQGJjY3lxIkTaLVadu7cycMPPwxAWloacXFxwShSnGO++z3Dn3zcdll7UtuE7rK4QgghhBCi5oKSgFx++eU8/PDDmEwmEhMTOf/881m2bBlTp07lqquuCkaR4hxSZHXyw58ZAHRuGUv/LskhrpEQQgghhKipoCQgDz30EImJiWRkZHDDDTeg0WjIycnh2muvZcKECcEoUpxDvl13CIfTN2Hg6P4tQlwbIYQQQghRG0FJQJYuXco//vEP9Pq/BvjedNNNWK1WFi5cyK233hqMYsU5oKDEyYoNhwFIbRNHiyRLiGskhBBCCCFqI2AJSG5uLna7HYCJEyfSpk0boqOjy62zc+dOXnzxRUlAxGn7Zu1BnC4vAKP6SeuHEEIIIURDE7AE5KeffuKxxx5DpVKhKEqlYz0URWHAgAGBKlKcY/KKHKzaeASAnu3iaZogM5YLIYQQQjQ0AUtARo8eTUpKCl6vl1tuuYWXX36ZyMhI/+sqlYqwsDDatm0bqCLFOWbZmoO43F5USOuHEEIIIURDFdAxIL169QJg4cKFpKamUlxc7O+GtWXLFtq3b49GowlkkeIckVNg58fNvtaP3uclkBJvDnGNhBBCCCHE6VAHY6eJiYmMGDGCefPm+ZfdeeedjBo1iszMzGAUKc5yX685gNujoFLBFX2bh7o6QgghhBDiNAUlAZk+fTrNmjXjtttu8y9btmwZSUlJzJgxIxhFirNYVr6Nn7f4EtcLOyaSFBse4hoJIYQQQojTFZQE5M8//+Sxxx4jPj7evywmJoZHHnmEtWvXBqNIcRb78rcDeLwKapWKK2TshxBCCCFEgxaUBESr1VJYWFhhuc1mQ1GUYBQpzlLH86z8tvUYAP26JNIoyhTiGgkhhBBCiDMRlATkoosu4tlnn+XQoUP+ZRkZGcyYMYP+/fsHo0hxllEUhbXbj/HcBxvxKgoatYoRFzYPdbWEEEIIIcQZCspM6I8++ii33XYbl1xyCRaLb6bqwsJCOnbsyMSJE4NRpDiLpB8p4IMVe9h39K9WtOG9mxIXKa0fQgghhBANXVASkNjYWD7//HN+++039uzZg1arpXXr1lxwwQWoVKpa7cvhcDBlyhS+//57jEYj48aNY9y4cafc5vDhw1xxxRW88cYb9O7d+0zeiqhDOQV2Pv0xnXU7jvuXNYo2cc3FrUltExfCmgkhhBBCiEAJSgICoNFo6N+//xl3uZo9ezbbtm3j3Xff5ejRozz66KMkJyczfPjwKreZPHkyVqv1jMoVdcPl9nAku4T1u7L4/o8MXG4vACaDlpF9mzO4R2O0mqD0FBRCCCGEECEQsARk8ODBfPrpp0RHRzNo0KBTtnSsWLGiRvu0Wq188sknzJs3j44dO9KxY0f27NnDe++9V2UCsnTpUkpKSk7rPYjgURSFIpuLwyeKOXS8mIwTRRw6UUxmthXvSRcmUKtUDExNZlS/FkSE6UNYYyGEEEIIEQwBS0DGjBmD0Wj0P65tV6vKpKWl4Xa7SU1N9S/r0aMHb7zxBl6vF7W6/JnxvLw8nnvuORYsWMCIESPOuHxRe0eySzh8opicQjs5BXayC+z+xw6X55Tbdm4ZyzWDWpMSJ/N8CCGEEEKcrQKWgIwfP97/eMKECQHZZ1ZWFtHR0ej1f50Jj4uLw+FwkJ+fT0xMTLn1Z86cyZgxY2jTpk1Ayhe1s+TnfSz99UC166lUkBgTRtOECJo2MtMkwUyTRhFEhkuLhxBCCCHE2S5gCciSJUtqvO7o0aNrtJ7NZiuXfAD+506ns9zy3377jfXr1/PVV1/VuB6VUatVqNVn3npzOjSlYx00DXDMw9drDpRLPjRqFbEWI7GRRuIiy+5NpMSH07iRGYNOE7rKNnANOU5E3ZAYEdWRGBE1IXEigiVgCchjjz1W7rlKpUJRFIxGI1qtluLiYjQaDdHR0TVOQAwGQ4VEo+x5WXcvALvdzlNPPcXTTz9dbvnpiIkJD0j3sTNhsTSsy81+s+YAH63YC0BSXDhP/18fEmPD0YQokTtXNLQ4EXVPYkRUR2JE1ITEiQi0gCUgaWlp/sdfffUV8+fPZ8aMGbRv3x6AAwcO8Oijj9ZqbEZCQgJ5eXm43W60Wl9Vs7KyMBqN/vlFALZs2UJGRgb33ntvue3vuOMORo8ezTPPPFPjMnNzS0LaAmKxmCgstOHxeENSh9pas+0YbyzZBkCMxcC/r+1GmFZFYYFchSxYGmKciLolMSKqIzEiakLiRJxKdPTpj9kNymV4n3/+eebMmeNPPgCaN2/Ok08+yT333MNNN91Uo/106NABrVbLpk2b6NmzJwDr16+nc+fO5Qagd+nShe+//77ctsOGDePZZ5+lb9++taq716vg9SrVrxhEHo8Xt7v+/6Nv3JPFm19sRwEsYToevjaVKLOhQdT9bNBQ4kSEjsSIqI7EiKgJiRMRaEFJQAoLCzEYDBWWe71e7HZ7jfdjMpkYPXo0kydPZvr06Zw4cYIFCxYwY8YMwNcaEhERgdFopFmzZhW2T0hIIDY29vTfiKjSjgO5vL5kO15FIcyg5cF/dCMxJizU1RJCCCGEEPVcUEYV9e7dm2eeeYbDhw/7l6WnpzNlyhQGDhxYq31NnDiRjh07cssttzBlyhQmTJjAsGHDAOjXrx/Lli0LZNVFDaQfKeCVz7bi9ngx6DTcf01XmiZEhLpaQgghhBCiAVApihLw/kbHjx/n9ttvJz09HYvF4puErqiILl26MHfuXCIjIwNdZMBkZRWFrOzdh/PZe7QIt8uNVqNGp1Vj0GnQadXotb5c0e704HB5cDg92Jy+e4fLjd3p8b1Wem93eXA4fcsBDDoNBp0GvU6DQa9Gr/U9N+g1GHRq3/Ky13Ua9Do1LpeXEruLYpuLErubYpvvcWZOCU6XF61Gxf1Xd+W85jGnelsiwLRaNdHR4eTllUiTuKiUxIiojsSIqAmJE3Eq8fGnf/I5KF2wEhIS+OKLL/jtt9/Ys2cPKpWK9u3b06dPn5BfYaq+8ni9/Ofjzf6EIdACvV+1SsU9oztJ8iGEEEIIIWolKAkIgEajoVWrVgD06tWLkpISST5OQaNWMzA1hXU7juNwenC6Pbg9VTdOaTUqjHotBp0Go97XkmHUa0qfa/9aVjrfhsPl8d+cLm/pfdkyr7/MstfLhBm0hJu0mE06wk06zCYdZqOO8zsk0Lpx/W3JEkIIIYQQ9VNQEhCn08mjjz7KN998g1qt5rvvvmPWrFmUlJTwyiuvYDabg1Fsg3f90Lb865pUf1On16vgcntxuv9KCowGX5KhDeKkQF5FweXyotWq0Khl8iEhhBBCCBE4QTm6fP3110lLS+Pdd9/1Xw3rpptu4uDBgzz//PPBKPKspFarMOg1RITpiS2dTTzcqAtq8gG+7lUGvUaSDyGEEEIIEXBBOcL8+uuvmTRpEr179/Yv6927N9OmTWPFihXBKFIIIYQQQgjRAAQlATl+/DhNmzatsDwpKYmCgoJgFCmEEEIIIYRoAIKSgLRq1Yo1a9ZUWP7111/TunXrYBQphBBCCCGEaACCMgh9woQJPPDAA+zduxePx8Pnn3/O/v37+e6773jppZeCUaQQQgghhBCiAQhKC8jFF1/Myy+/zLZt29BoNMyfP5+MjAxeeuklLrnkkmAUKYQQQgghhGgAgtICMn/+fEaMGMF7770XjN0LIYQQQgghGqigXYbXbrcHY9dCCCGEEEKIBiwoCUjXrl1ZuXJlMHYthBBCCCGEaMCC0gXLbDYze/Zs3njjDZo3b+6fjLDMwoULg1GsEEIIIYQQop4LSgISFhbG6NGjg7FrIYQQQgghRAMWlARkxowZwditEEIIIYQQooELSgICcOTIET7++GN27dqFRqOhY8eOXHPNNcTFxQWrSCGEEEIIIUQ9F5RB6Bs2bODyyy9n6dKl6HQ6FEXho48+4vLLL2f37t3BKFIIIYQQQgjRAASlBWTWrFlceumlTJ06Fa3WV4TL5WLixIlMnz6dd955JxjFCiGEEEIIIeq5oLSApKWlcccdd/iTDwCdTsfdd9/N5s2bg1GkEEIIIYQQogEISgLStGlT0tLSKiw/cuQISUlJwShSCCGEEEII0QAEpQvW//3f//Hss89y4sQJevfujVarZevWrbz00ktcf/31/PHHH/51e/XqFYwqCCGEEEIIIeohlaIoSqB32r59+5oVrlKxc+fOQBd/RrKyikJWtlarJjo6nLy8Etxub8jqIeo3iRNRHYkRUR2JEVETEifiVOLjI05726C0gKxYsSIYuxVCCCGEEEI0cEFJQFJSUoKxWyGEEEIIIUQDF5RB6EIIIYQQQghRGUlAhBBCCCGEEHWm3icgDoeDxx9/nJ49e9KvXz8WLFhQ5bqrV69m1KhRpKamcsUVV8hYFCGEEEIIIeqZoCQgS5Yswel0VlhutVprPQv67Nmz2bZtG++++y5PP/00r776Kt9++22F9dLS0hg/fjxXXnklS5Ys4dprr+W+++6rdD4SIYQQQgghRGgEbBB6bm4udrsdgIkTJ9KmTRuio6PLrbNjxw5efPFFbr311hrt02q18sknnzBv3jw6duxIx44d2bNnD++99x7Dhw8vt+5XX31Fnz59uPnmmwFo1qwZK1eu5JtvvqnxZYGFEEIIIYQQwRWwBOSnn37iscceQ6VSoSgKV111VYV1FEVhwIABNd5nWloabreb1NRU/7IePXrwxhtv4PV6Uav/asAZM2YMLperwj6KikI3r4cQQgghhBCivIAlIKNHjyYlJQWv18stt9zCyy+/TGRkpP91lUpFWFgYbdu2rfE+s7KyiI6ORq/X+5fFxcXhcDjIz88nJibGv7xVq1bltt2zZw9r1qzh2muvPYN3JYQQQgghhAikgM4D0qtXLwAWLlxI9+7d0WrPbPc2m61c8gH4n1c2xqRMbm4uEyZMoHv37gwePLhWZarVKtRqVe0rGwAajbrcvRCVkTgR1ZEYEdWRGBE1IXEigiUoExGef/75rFu3jm3btmG321EUpdzr48ePr9F+DAZDhUSj7LnRaKx0m+zsbG677TYUReHll18u102rJmJiwlGpQpOAlLFYTCEtXzQMEieiOhIjojoSI6ImJE5EoAUlAZk7dy4vvvgiERERRERElHtNpVLVOAFJSEggLy8Pt9vtb03JysrCaDRisVgqrH/8+HH/IPSFCxeW66JVU7m5JSFtAbFYTBQW2vB4vCGpg6j/JE5EdSRGRHUkRkRNSJyIU4mODj/tbYOSgCxatIj77ruPe+6554z206FDB7RaLZs2baJnz54ArF+/ns6dO1do2bBarfzf//0farWahQsXEh8ff1pler0KXq9S/YpB5PF4cbvlH12cmsSJqI7EiKiOxIioCYkTEWhB6dSXn5/PFVdcccb7MZlMjB49msmTJ7NlyxaWL1/OggUL/K0cWVlZ/kv/vvnmmxw6dIhZs2b5X8vKypKrYAkhhBBCCFGPBCUB6dGjBxs3bgzIviZOnEjHjh255ZZbmDJlChMmTGDYsGEA9OvXj2XLlgHw3XffYbfbufrqq+nXr5//Nm3atIDUQwghhBBCCHHmVMrfR4ifpiVLlvgf79u3j/fee48bbriBZs2aodFoyq07evToQBQZFFlZoWsx0WrVREeHk5dXIk2dokoSJ6I6EiOiOhIjoiYkTsSpxMdHVL9SFQI2BuSxxx6rsGzu3LkVlqlUqnqdgAghhBBCCCGCJ2AJSFpaWqB2JYQQQgghhDhLycwyQgghhBBCiDoTlMvwtm/fvsrJ/HQ6HYmJiYwaNYp//vOfIZ/0TwghhBBCCFF3gpKAPP7447zwwgtcd911/vk7Nm7cyHvvvcd1111HZGQkCxcuRK/Xc8cddwSjCkIIIYQQQoh6KCgJyNdff83jjz/OP/7xD/+yIUOG0LJlSz799FM++OAD2rRpw+zZsyUBEUIIIYQQ4hwSlDEgO3fupE+fPhWW9+zZk+3btwNw3nnnkZmZGYzihRBCCCGEEPVUUBKQxo0bs2rVqgrLV61aRWJiIgCHDh0iJiYmGMULIYQQQggh6qmgdMG65557eOyxx9i6dSupqal4vV42b97Mt99+yzPPPMP+/fuZOHGif0ZzIYQQQgghxLkhKAnIFVdcgdlsZsGCBbz44ototVratWvHG2+8Qf/+/fnjjz+44oorGD9+fDCKF0IIIYQQQtRTKkVRlFBXoj7JyioKWdlarZro6HDy8kpwu70hq4eo3yRORHUkRkR1JEZETUiciFOJj4847W0D1gLy6quvcvvtt2MymXj11VdPua60fAghhBBCCHFuClgCsnjxYm644QZMJhOLFy+ucj2VSiUJiBBCCCGEEOeogCUgK1eurPSxEEIIIYQQQpQJymV4q2Kz2Zg+fXpdFimEEEIIIYSoRwKWgNjtdp555hl69+5Nv379eO655/B6/xqw9MsvvzBixAgWLVoUqCKFEEIIIYQQDUzAumA999xzfPzxx4wcORK9Xs8HH3yA2Wzmrrvu4tlnn+WDDz6gadOmvPvuu4EqUgghhBBCCNHABHQMyBNPPMF1110HwMCBA5k2bRqZmZl8+umnjBs3jvvuuw+9Xh+oIoUQQgghhBANTMASkOzsbPr16+d/3r9/f44cOcIPP/zA22+/Te/evQNVlBBCCCGEEKKBCtgYEJfLRVhYmP+5RqPBYDDwxBNPSPIhhBBCCCGEAOrgKlhdunQJdhFCCCGEEEKIBiJgXbDAN8lgTZYJUVOHi47y05HfsOgjSAxrRGJ4Aglh8eg0ulBXTQghhBBCnIaAJiDPPvssBoPB/9zlcvHcc88RHh5ebr0ZM2YEslhxltqes4u3tv0Pp8dZbrkKFbGmGJLCG5ESnsRFjS8k0mAJUS2FEEIIIURtBCwB6dWrF1lZWeWWpaamkpeXR15eXqCKEeeINUf/4P1dn+FVvGhUGjRqjT8RUVDItuWQbctha/ZO1h3bwL2pd9AoLD7EtRZCCCGEENUJWALyv//9L1C7EucwRVH45sByvt7/AwAmrYm7Ot9Mq6gW5DsKyCw5wbGS4xwrOUFmyTH2Fx4iz5HPSxveYEK3O0g2J4b4HQSG3e3gmPU4erWepPAE6coohBBCiLNGQLtgCXEmPF4PH+3+nF+P/g5AtCGKf3Yd508qYozRxBij6Rjbzr/NT4d/46PdSyh0FvGfjW8wvtv/0TSicUjqfzq8ipcsazZHSo5xtDiTo8XHOFKcSbY9179OpN7CebHtOC+2He2j22DRhp9ij0IIIYQQ9ZtKURQl1JU4FYfDwZQpU/j+++8xGo2MGzeOcePGVbrujh07ePrpp9m9ezetW7dmypQpdOrUqVblZWUVBaLap0WrVRMdHU5eXglutzdk9aiKoijsyN3FikM/UegswuP14PK68SgePF4PbsWNV/HSwtKMgU360TmuA2pVzS605vA4WbBtEdty0gBIMSfxz67jiDJEVrvt2sw/WbTzExQUjBoj/+o2jpaRzc/krdaay+um2FmMSqVChQq1So1KpUKNCpVKjdVlI8uWzQlrNlm27NLHOeTYcnArnhqXo1apaRnZjJ5NOtMqvBVJpkRpHREV1Pfvkrri8XpQUPAqCl7Fi4KConjxoqBX69BrTn9iXI/XQ7GrhEJnMUXOIopK//9NWiNGjRGT9q+bQWNAo9YE8J2dOYkRURMSJ+JU4uMjTnvbet8CMnv2bLZt28a7777L0aNHefTRR0lOTmb48OHl1rNardx5551cccUVzJw5kw8++IC77rqLH374odz8JOL0ZBQd4fO9X7Mrb2+16+7OT2d3fjpxxhgGNOnLBUm9MGmNla5b4rKyv+Agy/Yv52BRBgDtoltzR+ebMGlNNapbn6Se6NQ63tnxAXaPnVc2vcXdnW+lXUzrKrdxed24PC5cXpfvsddV+twNQJTBQpQhssqDBrvbzr6Cg6Tn72dP/n4OFmXgLt32dOnVOpLMiaSEJ5JsTiLFnEiho4gdubvZkbOLIlcxXsXL3vz97M3fX1rPSDrGtqNTbAfaxbTBcAYHVGfC5XFR6Czy3wocvvsSl5UIfTgxxmhiS1uwTvW5iuBTFAW7x4HVZcPuseNRPCiKUnpwrvgP2NUqFQlhjQjXNYzvz0JnEYcKD3Ow6DCHCg9zqOgwhc5Tn1Ay68KJNcUQa4wm1hhDrMl3r1VrKXaVUOwspshVQrGzhGJXMcXOEgpdxRQ7iylxWVGo+fk7sy6cWGMMMcYoYkrLiTFGEWuMIc4Ui16u7CfEGVMUhRPWLPYVHuJA4SGKnSW4vW7fTXHj9npKH3uINkTSzNKE5pYmNLc0JUJvPu1yvYoXRVHkt60W6nULiNVqpU+fPsybN88/meFrr73GmjVrKow5+fTTT3n99ddZvnw5KpUKRVG45JJLuPvuuxk7dmyNy5QWkPJy7Xl8ue87/ji20f9jG6mPoGNsB7RqLVq1Bq1ai0alQavW4PA4+f3YBvIdBf59GDUG+iT15KLGF+LxethXcID9BYfYX3iQ49byFy7olZDKjR2uRquufW68NXsHb21bhNvrRqvWckenm2hmaUJmyXHfuBHrCf8YkuoOTMB3tS2LPoIYYxTRxiiiDVF48ZKev5+MoqO1Ovg4WYTeTCNTHPFhcTQyxZEQFk+yOYk4U0yVLUZexcvhoqNsz9nFzrxd7Cs4yN//dbVqLW2jWtEprgMtIpsSY4wmXBsW8BaSQmcRBwszOFBwiAOFGWQUH6HEZa3x9ipURBkiiTJEolVrUKnUpS1FqnKtRnq1DoNGj770VvbYqDESbYz0dckzRMklmfH96FrdNvIdBeTZ8yl0F+FQWcnMzybXlk+Jy4rVbcPmsmF122oVuwlhjWgR2ZSWkc1oYWlGYnijGrdslvF4Pdg9DtxeN2Zd+Gn/SLu8bvLseeTY88i1+e6PlRznYNHhct85Dc1fV/ZL8N8SwxuRGNaoxq00Rc5iMkuOcbTkONm2HIwaIxZ9BBZDhO++9FaW6NTH3xtR/9T3OLG7HRwszGBfwUH2Fx7kQMEhStw1/z06WYwxmuaWJjSzNEGj0lDispbeSv66d9tweV14vB5f7w/F629pBUgOT6RrfEe6xHWkSUTKWd9D4UxaQOp1ArJhwwZuvPFGNm3ahF7v+xJet24dd9xxB5s2bUKt/utHcNKkSTgcDmbPnu1f9thjj6HX63nmmWdqXGZ9T0AURcGteHB6nDg9ThweJ06v7+pQBrUeg9bgO1BT688oE7e5bXx3YBWrDv/iP7Ov1+gZ2nQAg5sOOOWZdo/Xw6asrazK+IX9hYdqVJ5OrWNI0wFc1mJIrQ9uTpaWu4c3t7yD0+s67X3Uhk6to4WlKa2iWpBsTkSFyt/Vo+yMSFl3j/iwWOJNcVW2BtWUVqtGFwa/pW9k84kd7MjZVeUXrl6tI9oY7UuiDFHEGKMI04WVdj/xdUHRq8sO8nV4vB5/TDk9Ln+M2dw2Dhcf5UBhBrn2ml3VzqQ1EqYNo8hZFNS/R4Te7B8fFKW3oFFr0Kg0qFVq3xXUVGrUanX5uPrb154XpcIPStljNSr//5VRY8CgMWDU+u7VKvVfrWilLWrO0ta0U3216jV6zPpwInRmIvS+W7gurNrYd3vdZNlyOFZyguPWE/7749YsHH+7XHWwmLRGmkY0xqAxnJTIKP6P1IsXu9uOzX+zlaubWqUmUm/xtQQYo4k2+uLSrDNj9ziwuW3+7Wwu332Rq5gcWx4FzsJq66dVa2lsTqZpRGMahcWVxkJpt8iTukfa3XZy7Hnk2HJ99/bcShNpo8aAWReOWW/GrAv3/70s+ggidOFE6CP8y1SofHX32P72GdgpcBSSY/eVlWvPo8hZXO17UaEiXBeGWRdOuC6cCH3pvS4co9ZIrj2PzJLjZJYcp9hVUsO/n4mEsHhSIhJpHd+UaE0sCaZGROjM5Q6W3F43Rc5if6tmicuKV/Ge9P1W9h3nRaVSY9FHEGmwEGWwYNFbat2ioygKJW4rhQ5fdzabx47K/yng794KYNQaiTVGE2mwnNHvBfyVuBU5S3y/q15Xud9Wl8flLy/OFOtvuTpXznSfSQKiKApZtuzSE46HOFBwkHxnof8kU7nuyioVZl04zS1NaRHZjJaRzSrtgu3yutlfcJDdeXvZlbeXA4UZeJXK6xWptxBrivGfLNWptKWPtWhUao5bszhUdARXkH6fogyRdInrSJf482gT1fK0TqzWd2dtF6ysrCyio6P9yQdAXFwcDoeD/Px8YmJiyq3bunX5LjexsbHs2bOnVmWq1SrU6tBkrJuytrIlbTsldht2d+kX4MmJRumXY1X/bH+nVWsxlJ459t0M/jPJZQdUHq8Hm9te7sfS7rZT4rb5y1Ghon/j3oxoNaxG821oUdM7pTu9U7qzP/8gKw79wvrjm8vVO9YYTcuo5rSM8n3RNIlIDsgXeqdG7bivx528snE+dre93GvRhkgSzb6zi43CYjFqDOg0OnRqXem9Fp1ah6J4yXMUkGvPJ9eeT54tz//Yo3hoGdmMNtEtaR3dgmaWxnX+paLRqDEbTPRp3INeSal4vB72Fxxia/ZOtmTt4GjxMf+6Tq+r9AD1RMDroVPraGZpTPPIJsSZYok0WIg0RBCpj8Bi+OsARFEUil0l5Nh8B145pWeuC+wFePz98v/q+qMoXjyKt0LsO0rj/++KnMUUOYs5WJgR8PdYl8oONqs6cFMUhQJnUY3//006I9GGSCINkUTowgnTmTBpTYTrTITpwjBpTYRpjWjVWv/B3V9jmFS4vG4OFmSUdjU8QK49HwCb216jrphV8Spe8hz55DnySS84cNr7AQjTmogPi6WZpTHNLE1oZmlMsjnxtL9L7G47ObY8PIoHs95MhC681i1sUdTsB9npcZJrzyfbmsMxaxaZxcc5WuxrwSj77lLw/e/UNLkoE2mw4PQ4sf3tOxB8J5cOlHZP+fXI7/7lZl048WFx2N02ChxFWN22WpX5d2FaE1EGC2a9GY1K7Wvp/NsYOY/X40twHEUUOovx1GI8HIBWpSHWFENc2S3M9z2kL/1OLxvnoy99XOgsLr3Qh+9iH0eLj9UoEfw7FSqijZHEmWLQa/R4S7+zFMWLV1FOenzSrfSkVNlNXXpyRKPWoC291Lz/hEnp53Py/2TZ/V8nSdz+kyVuxQOKQqwpxtdyVnpLCI+vdRdKr+KlyFlMnj2fYmcJqMFk1VNideDxeMp9X/vuqbAs31HAvvyD7C84VKvYPUE2+woOQsbPAEQbo2gV1ZyWkc1weV2k5e5lb97+ShMGjUpDk4hk/3FFq8hmRBujqm2B8Hg9HC0+xv7SVv39BYfILD6OgoJJayxN/sMw68P9j3UanX96AI1KXXrT4PK62Zmzm1156XgVL/mOAn468hs/HfkNg8ZAuK5m3cpPZtKauK7DGNpEt6z1tvVdvU5AbDZbueQD8D93Op01Wvfv61UnJiY8JE1mHq+HBSs+COhZzLJ+j7XpHvN33ZM7c2OXMTSOTDqt7aOjz6N7i/PIteaz/uhWLEYzbWNbEm2qfnD56eoV3Ylpsf9mTcYGGoXHkmJJJMWSSNhp/PPXZxbLX+8nLrYTvVr6LriQY80js+gE2dZcsq15ZFtzybHmkl3ie3w6MaZWqUmxJNI6pjltYpvTOqY5TSJrnjTGYKYpCbUu9++8iheby062NZesktzS+xyyrLlkl+SSby/0XxThr5YML97S+7IzqAAnP1Sj8v2YnHwwUPrYi4LdZcfmdtR4nE/ZD1NlFHxjZiou9x1sUsOTcVq1lqSIRr74jkgkwRxHjCmK2LBoYkxRmHRn1tIG0JOO/se51nx25+xjd/Y+DhYcKXeC4q+vTF/yYtKaCNMZCdOHEaYrS3pMaNQa8mwFZFlzyLbmkVOSS5Y113egcxL/NvowwnUmzIZwXwtieAyNwmOJD48lPiyWMH2g/6fDSSI2wPusuqwEooEW5ZYqikKerYDDhZkcLswk315IkaPE1zLgKKbQUUyRo5hip5UYUxSNI5NoYkmicWQyTSKTaGxJ8v/tnW4n+Y4i8m0F5NsLybcXkGPNJ6Mwk4yCo5wozva3YhW7SiguqF2icypWt6+7HyXHA7bPv3MrHo5bsyp05T1TWrUWg/avk3dFzpJyMaqg+E9K1SeHizPZnLW93LJIo4VEczxhOqMvKStLyDR/XYQh15ZPjjWPHGsuubaCMx7PWJlIo4W2sS1IjvD9Dvh7CJyUnJ0ozmZPzn5KXL7kN8+ez5/HNvHnsU0V9qdVa2kX15LOCe05L74NLaObotee3hjIuFgLXWjrf+70uFCr1GhP80RGidPKxsxt/HFkC5syt2Nz23F4HDg8jtPYWz5pBbs4v2Xn06pLfVavExCDwVAhgSh7bjQaa7Tu39erTm5uSchaQC5vNZStOTvQKBp0pWdu/uoDr/N/Gf69T7xBo0dRFP9Z4r9uDv9jp8eJw+0o/5rbgVqtKXe1FuNJj9tEt6RVVHPwQl7emf0wqdDRM7a774kd8uyB+6GrjJlIhqZc7H/uKPbiILhl1hWNRo3FYqKw0IbHU/FsuBo9KfrGpOgbQ1TF7T1ej7+bwV8tDL7nGrWmXFyVxZpWpamQmBcWVDy7WlcsRGMJi6ZVWCuIq7ty3V43Do8Tu9uO3e3wd687uQVNp9ZWm5idfAWl4tIWnMLS+1P9+Fv0ESSZfeMDqhwz5AGXTcGko8oYOR0qdLQzt6OduV31K59KJY2odrcDq8uKUWvEqDVU361GAUeJF0fJ2fE//XcqdDQxNKVJfNMq11EUpdKTZfZiD/aTvut0GInXGIkPT4BwKMuvNBo1+jA1uzMPklFwlKPFx8i25RKuCyNCbyaybOxI6b1ZH+7v2vjXWC1fa0ZZS0a+o5AChy/RyXcUUugsothZUq4VwH/QqXjRqNRYDBYs/pZT332EIYKw0q6qZWfZKU2VFEXB6rKSbcv92y2HXHt+jVoILfoIUsyJJJsTSYlIItmcSIwxqrRLqq7S/1+by0a2PY9sa46/zBxbLh7Fg7q01ULtH8+mLu0C6vusTu4GqC5tDVIUL+6yrp7l7v/q5nZyq4IXBRQFdbkWEzWa0u5Evu5OOWQWHy/XelVgL6TAXn3XxUBSq9R/tUZENqNlZFNiTTE1OrnrVbwcKznBvvyD7Cs4yL78A2SWnECFimaWxrSPbUP7mNa0impRrrW4pMhFSU3P3tSBjpaOdLR0xNXOze7cdHbnpZ9WYhemNdE/qc8ZH4MFS3T06U8LUK8TkISEBPLy8nC73Wi1vqpmZWVhNBqxWCwV1s3Ozi63LDs7m0aNGtWqTK9XwesNzbCYS5pfzLWpI+rVYK/6Ug9RkcfjPc2/jwodenQaPeE1OcHjBU9pQ7tQY1AZMeiMRFbRM0fxgttb3d9FRbjGTLjJDKd5Et/r8Y23OJXTj5G6pUWHRedrFa3J+xJlzux/0qg10cScQpIxiRo3UJZ+FZR9I/j+VioitBYitBaa1ME0RbGGWJqYm1RYXtal2FV2gsXr8p1cKR3TZtIaSApPPOXVjqr6/9WpDCSZEkky1e/Jbsu6vJ48PizHluv/LHxj1lz+MWteFKL0FqKMkUQbfGMFfY8jidBHYNBpiYwMo7DQjtejVNotrPwyX/fcv3dN9nhq/hvSyNiIRomN6JPYC/B1GwRV+fGTSsM4PlGhpl1UG9pFtTmj/TSE91pb9ToB6dChA1qtlk2bNtGzZ08A1q9fT+fOncsNQAfo2rUr8+bN858VUhSFDRs2cPfdd4ei6kIIIYSoQxq1BrP+3J6oVaVS+S+KEIhxA1qtmmhzOHpX6E6M1vSS/KJhObPLRwSZyWRi9OjRTJ48mS1btrB8+XIWLFjAzTffDPhaQ+x2XzeQ4cOHU1hYyLRp09i7dy/Tpk3DZrNx6aWXhvItCCGEEEIIIU5SrxMQgIkTJ9KxY0duueUWpkyZwoQJExg2bBgA/fr1Y9myZQCYzWbefPNN1q9fz9ixY9m8eTNz586VSQiFEEIIIYSoR+r1PCChUN/nARFC4kRUR2JEVEdiRNSExIk4lTOZB6Tet4AIIYQQQgghzh6SgAghhBBCCCHqjCQgQgghhBBCiDojCYgQQgghhBCizsggdCGEEEIIIUSdkRYQIYQQQgghRJ2RBEQIIYQQQghRZyQBEUIIIYQQQtQZSUCEEEIIIYQQdUYSECGEEEIIIUSdkQRECCGEEEIIUWckARFCCCGEEELUGUlAhBBCCCGEEHVGEhAhhBBCCCFEnZEEpI45HA4ef/xxevbsSb9+/ViwYEGV6+7YsYOrr76arl27cuWVV7Jt27Y6rKkIldrEyOrVqxk1ahSpqalcccUVrFixog5rKkKpNnFS5vDhw6SmprJu3bo6qKEItdrEyK5du7juuuvo0qULV1xxBWvXrq3DmopQqk2c/PDDD1x66aWkpqZy3XXXsX379jqsqTibSAJSx2bPns22bdt49913efrpp3n11Vf59ttvK6xntVq588476dmzJ4sXLyY1NZW77roLq9UaglqLulTTGElLS2P8+PFceeWVLFmyhGuvvZb77ruPtLS0ENRa1LWaxsnJJk+eLN8h55CaxkhRURHjxo2jdevWfPnllwwdOpTx48eTk5MTglqLulbTONmzZw8PPfQQd911F1988QUdOnTgrrvuwmazhaDWosFTRJ0pKSlROnfurKxdu9a/7L///a9y4403Vlj3k08+UQYNGqR4vV5FURTF6/UqQ4cOVT777LM6q6+oe7WJkeeee065/fbbyy0bN26c8uKLLwa9niK0ahMnZb744gvl2muvVdq2bVtuO3F2qk2MvPvuu8qQIUMUt9vtXzZ27Fhl9erVdVJXETq1iZO3335bGTNmjP95UVGR0rZtW2XLli11UldxdpEWkDqUlpaG2+0mNTXVv6xHjx5s3rwZr9dbbt3NmzfTo0cPVCoVACqViu7du7Np06a6rLKoY7WJkTFjxvDwww9X2EdRUVHQ6ylCqzZxApCXl8dzzz3HM888U5fVFCFUmxj5/fffGTx4MBqNxr/ss88+Y8CAAXVWXxEatYmTqKgo9u7dy/r16/F6vSxevBiz2UzTpk3rutriLCAJSB3KysoiOjoavV7vXxYXF4fD4SA/P7/Cuo0aNSq3LDY2lmPHjtVFVUWI1CZGWrVqRfv27f3P9+zZw5o1a7jgggvqqroiRGoTJwAzZ85kzJgxtGnTpg5rKUKpNjGSkZFBTEwMkyZNom/fvlxzzTWsX7++jmssQqE2cXLZZZcxcOBArr/+ejp16sTs2bN5+eWXiYyMrONai7OBJCB1yGazlfsnB/zPnU5njdb9+3ri7FKbGDlZbm4uEyZMoHv37gwePDiodRShV5s4+e2331i/fj3//Oc/66x+IvRqEyNWq5W5c+cSHx/PvHnz6NWrF7fffjuZmZl1Vl8RGrWJk7y8PLKysnjqqaf4+OOPGTVqFBMnTpSxQuK0SAJShwwGQ4V/6LLnRqOxRuv+fT1xdqlNjJTJzs7mlltuQVEUXn75ZdRq+bc+29U0Tux2O0899RRPP/20fHecY2rzXaLRaOjQoQP33nsv5513Hv/+979p3rw5X3zxRZ3VV4RGbeLk+eefp23bttxwww106tSJqVOnYjKZ+Oyzz+qsvuLsIUcqdSghIYG8vDzcbrd/WVZWFkajEYvFUmHd7Ozscsuys7MrdMsSZ5faxAjA8ePHueGGG3A6nSxcuJCYmJi6rK4IkZrGyZYtW8jIyODee+8lNTXV38/7jjvu4Kmnnqrzeou6U5vvkvj4eFq2bFluWfPmzaUF5BxQmzjZvn17uW6/arWa9u3bc/To0Tqrrzh7SAJShzp06IBWqy03kHz9+vV07ty5wlnrrl27snHjRhRFAUBRFDZs2EDXrl3rssqijtUmRqxWK//3f/+HWq1m0aJFJCQk1HFtRajUNE66dOnC999/z5IlS/w3gGeffZb77ruvjmst6lJtvku6devGrl27yi3bt28fKSkpdVFVEUK1iZNGjRqRnp5ebtn+/ftp3LhxXVRVnGUkAalDJpOJ0aNHM3nyZLZs2cLy5ctZsGABN998M+A762C32wEYPnw4hYWFTJs2jb179zJt2jRsNhuXXnppKN+CCLLaxMibb77JoUOHmDVrlv+1rKwsuQrWOaCmcWI0GmnWrFm5G/jOesbGxobyLYggq813ybXXXsuuXbt45ZVXOHjwIHPmzCEjI4NRo0aF8i2IOlCbOLnmmmv4+OOPWbJkCQcPHuT555/n6NGjjBkzJpRvQTRUIb4M8DnHarUqjzzyiNKtWzelX79+yttvv+1/rW3btuXm+di8ebMyevRopXPnzspVV12lbN++PQQ1FnWtpjFyySWXKG3btq1we/TRR0NUc1GXavNdcjKZB+TcUZsY+fPPP5UxY8YonTp1UkaNGqX8/vvvIaixCIXaxMnHH3+sDB8+XOnWrZty3XXXKdu2bQtBjcXZQKUopX18hBBCCCGEECLIpAuWEEIIIYQQos5IAiKEEEIIIYSoM5KACCGEEEIIIeqMJCBCCCGEEEKIOiMJiBBCCCGEEKLOSAIihBBCCCGEqDOSgAghhBBCCCHqjCQgQgghhBBCiDojCYgQQoSY2+3m3XffZezYsaSmptKnTx/GjRvH2rVrA7L/VatWsXfv3hqvf9NNN/HYY4/VeP28vDw++eST06lajb3++uucf/75pKamsnXr1mrrUNv3UJ8sXryYdu3aBW19IYQINUlAhBAihBwOBzfffDPvvPMON910E59//jnvvPMOrVq14rbbbuPLL788o/0fOXKEu+++m5ycnBpv88orr/DEE0/UeP3Zs2ezdOnS06lejRQVFTFnzhyuv/56vvrqK9q3b1/ndRBCCBE42lBXQAghzmVz5sxh165dfPXVVyQlJfmXP/HEExQXF/Pss88yaNAgwsPDT2v/iqLUepuoqKigl1EbhYWFKIpCnz59SElJCUkdhBBCBI60gAghRIi4XC4+++wzxo4dWy75KHP//fczb948jEYj4GsJmDRpEn369KFHjx7cfPPN5bojvfLKK9x444088MADdO/enbvvvpvBgwcDcPPNN/PKK68AsHz5cq6++mq6detG586dGTt2LD///LN/Pyd3X1q8eDFDhw7133fq1ImxY8eyfv16AB577DE+//xzfv/9d9q1a8fy5ctp3749R44cKfde/vGPfzBr1qxKPwe73c5//vMfBg8eTOfOnRk1ahTfffcdAOvWrWPQoEEA3HLLLdx0000Vtv97HcqUlJQwceJEevbsSY8ePXjsscewWq3+19PT07njjjtITU2lX79+PPTQQ2RlZVVax7LP99Zbb+XVV1/lwgsvJDU1laeeeorMzEzuuusuunbtytChQ1m9enWN3luZH374gSuuuILOnTtz/fXXc/To0XKvO51OnnvuOfr3709qairXXHMNv/zyS5X1FEKI+k4SECGECJGMjAzy8/Pp3r17pa8nJCTQpUsXNBoNiqJwxx13kJGRwZtvvsnHH39Mt27duO6669ixY4d/mz/++IO4uDi++OILHnnkEf+4iFdeeYVx48axbds2JkyYwOWXX86XX37Jxx9/TExMDI888ghOp7PSemRmZvLhhx/y3HPP8fnnn2MymXjsscdQFIUnnniCSy+9lNTUVH755RcGDhxITEwMX3zxhX/7/fv3s2nTJq688spK9//ggw+yZMkSJk2axNKlSxkyZAj33Xcfy5cvJzU1tdx7KEuiTvb3OpT5/vvvadSoEYsXL2b27NksW7aMefPmAXD8+HGuv/56mjVrxqeffsobb7xBcXEx//jHP8olKX/3559/sn//ft577z2efPJJPvroI6666iouvfRSFi9eTKtWrfyfTXXvDWDDhg1MmDCBSy65hKVLlzJmzBjmzp1brsyJEyfy66+/8vzzz/P5559z6aWXcvfdd5dLdIQQoiGRLlhCCBEiBQUFAERGRla77tq1a9m0aRNr1671d5F68MEH2bBhAwsXLmTmzJn+de+9914iIiIAOHz4sL+M8PBwNBoNkyZN4vrrr/evf/PNN3PHHXeQk5NTaUuMy+ViypQpdOjQAYDbbruNf/3rX2RlZdGoUSOMRiM6nY74+HgARo0axRdffME///lPAJYsWULnzp1p3bp1hX2np6ezYsUK3njjDQYOHAjAhAkTSEtL44033mDIkCHExMT430Nl3cMiIiIq1AGgS5cuPPDAAwA0bdqUvn37sm3bNgA++OADEhMTefLJJ/3r/+c//6FPnz58++23jB07ttK/g9frZcqUKZjNZlq0aMFzzz1Hnz59GD16NADXXXcdq1atIisri6Kiomrf26JFi+jevTvjx48HoEWLFuzevZuFCxcCcPDgQb766iuWLFlS7vNPS0tj/vz5/v0KIURDIgmIEEKESNmBdX5+frXrbt++HUVRuPjii8stdzqdOBwO//PY2Fh/8lGZDh06EBkZydy5c9m3bx8HDx4kLS0NAI/HU+V2rVq18j8u27/L5ap03SuvvJIFCxawefNmunTpwtKlS7njjjsqXXfXrl0A9OjRo9zyXr168eKLL1ZZn5po3rx5ueeRkZH+rmE7duxgz549pKamllvH4XCQnp5e5T5jY2Mxm83+52FhYTRt2tT/vKy7nNPprNF72717N3379i33empqqj8BKWvdOjlhBN9nb7FYqqynEELUZ5KACCFEiDRp0oS4uDg2bNjAZZddVuH19PR0pk2bxsSJE/F6vZjNZhYvXlxhPb1e739cdgBcld9//53bb7+dgQMH0qNHD6644gpsNhv/+te/TrndyWWUqWrgd+vWrenatStLly7FbreTnZ3NiBEjTrn/yvat1Z7ZT5RGo6nyNa/XS58+fXj66acrvHaqBE6n01VYplbXrjfzye9NpVLh9XqrLKPsM37vvfcqXIigtuUKIUR9Id9eQggRImq1mquuuorFixeTmZlZ4fW33nqLrVu3kpKSQtu2bSkuLsblctGsWTP/bd68eaxYsaLKMlQqVbnnCxYsoHfv3v4B1X379vWXfbpXkvp7GeBrBVm+fDnffvstQ4YMqfJsfdmg8bJB7WX+/PPPSrts1aYOp9KmTRvS09NJSkryf5aRkZFMnz6d3bt312pfVanJe2vfvj0bN24s93pZN7GyegJkZWWV+7svXry40mRUCCEaAklAhBAihO6++26aN2/O9ddfz5IlSzh06BBbtmxh4sSJLFmyhKlTpxIWFkb//v3p0KEDDzzwAGvXruXgwYPMmDHDP/C5KmFhYYCvq09RURFJSUns2rWLP//8k8OHD/PZZ58xZ84cgCoHoVcnLCyMEydOkJGR4V92+eWXU1BQwOLFixkzZkyV27Zq1YqLL76YKVOmsHr1avbv38+rr77KihUrGDdu3BnV4VSuv/56ioqKePjhh0lLSyMtLY0HHniArVu30rZt2xqXeyo1eW/jxo0jLS2NWbNmsX//fpYuXcqiRYv8+2jTpg0XX3wxTz/9NCtXriQjI4N58+bx5ptvluv6JYQQDYkkIEIIEUImk4lFixZx5ZVXMm/ePEaNGsVdd93FiRMn+N///sfw4cMBX3eiBQsW0KlTJ+6//35GjhzJH3/8wauvvsoFF1xQ5f6jo6O58sormT17NnPmzOHee++lW7du3H333YwePZpPPvmE6dOnYzQaK51hvCZGjx6NzWZjxIgRHD9+HACz2cyQIUOIjIysMMbh71588UWGDBnCE088wciRI1m1ahWvvPKK/72fbh1OpUmTJixatIiSkhKuu+46brzxRnQ6HQsXLvSPzQmE6t5bhw4dmDdvHuvWrWPkyJG888473H333eX28dJLLzFs2DCeeuopLrvsMpYsWcK0adNOmdgJIUR9plJk9iYhhBBBcNNNN9G9e3f/laiEEEIIkEHoQgghAmz58uXs3LmTTZs2MXv27FBXRwghRD0jCYgQQoiAeuutt9i/fz9Tp06tdF4RIYQQ5zbpgiWEEEIIIYSoMzIIXQghhBBCCFFnJAERQgghhBBC1BlJQIQQQgghhBB1RhIQIYQQQgghRJ2RBEQIIYQQQghRZyQBEUIIIYQQQtQZSUCEEEIIIYQQdUYSECGEEEIIIUSdkQRECCGEEEIIUWckARFCCCGEEELUGUlAhBBCCCGEEHVGEhAhhBBCCCFEnZEERAghhBBCCFFnJAERQgghhBBC1BltqCtQ32RlFYWsbLVaRUxMOLm5JXi9SsjqIUJPYkGAxIHwkTgQZSQWBNSfOIiPjzjtbaUFpB5Rq1WoVCrUalWoqyJCTGJBgMSB8JE4EGUkFgScHXEgCYgQQgghhBCizkgCIoQQQgghhKgzkoAIIYQQQggh6owkIEIIIYQQQog6U28TEKfTyYgRI1i3bp1/2bPPPku7du3K3RYtWuR//auvvmLIkCF07dqVf/3rX+Tm5oai6kIIIYQQQogq1MsExOFw8OCDD7Jnz55yy9PT03nooYf45Zdf/Lcrr7wSgC1btvDEE08wfvx4PvroIwoLC5k4cWIoqn/aHE4PeYX2UFdDCCGEEEKIoKl384Ds3buXhx56CEWpeF3j9PR0br/9duLj4yu8tmjRIi699FJGjx4NwOzZs7n44ovJyMigSZMmwa72GVMUhafmryMzx0rzxAjO75DA+R0aEWMxhrpqQgghhBBCBEy9awH5/fff6d27Nx999FG55cXFxRw/fpzmzZtXut3mzZvp2bOn/3lSUhLJycls3rw5mNUNGJVKRVnOdeBYER+v2su/X/uN2e9v4MdNRyi2uUJbQSGEEEIIIQKg3rWAXH/99ZUuT09PR6VS8cYbb/DTTz8RFRXFbbfdxpgxYwA4ceIEjRo1KrdNbGwsx44dq1X5anXoJnZ55v96s35PNiv+OMTewwUoQNqhfNIO5bPo+91EhutrvU9LuJ6UeDNNE8w0jjfTpJGZSLMelarhTl5zLtBo1OXuxblJ4kCAxIH4i8SCgLMjDupdAlKVffv2oVKpaNmyJTfeeCN//PEHkyZNwmw2M3ToUOx2O3p9+QN0vV6P0+msVTkxMeEhPTgfkWBhRL+WHMsp4ceNh/lxw2Eyjhfj8SrkFjlqvb/cIgcHjhXx69a/lkWE6WmeZKFZUkTpvYVmiRZMhgYTDucMi8UU6iqIekDiQIDEgfiLxIKAhh0HDeaIc/To0Vx88cVERUUB0L59ew4cOMAHH3zA0KFDMRgMFZINp9OJyVS7P05ubknIWkA0GjUWi4nCQhsGNQzr0Zih3VPIOFHMhl1Z2JyeWu5RIbvAzuETxRzLtfq7eBVZnWxNz2Zrena5teOjTDRuFE5cpIlzpX1Eo1GTFBtGk0ZmUuLDMerrx7/EybHg8XhDXR0RIhIHAiQOxF/OlVjo06c7w4YN55lnppdb/tVXS3nrrTdZsuTrENWsfqgvcRAdHX7a29aPo60aUKlU/uSjTMuWLVm7di0ACQkJZGeXP6DOzs6udMD6qXi9Cl5vxQHwdcnj8eJ2/xVQybHhJF94+n9kAKfLQ2aOlcNZxWScKOZIVjGHs0ooKPkracvKt5GVbzujchoyFRAXZaRxvJmUeDPRZj2EqDVMo1YRFqbHanXiCXE8BpJKBfGRJhrHh2MJl66ANfX37wRxbpI4EGXOhVj4/vtvufzyUfTo0cu/rOz47Gx/7zXVkOOgwSQgc+bMYePGjbzzzjv+ZWlpabRs2RKArl27sn79esaOHQtAZmYmmZmZdO3aNRTVrXf0Og3NEiNolhhRbnmR1cnhrBIOZ/2VlBRZa9dtrSGzOz0UWX0D/BUgK99OVr6djXuyT72hOGNmk47G8eE0jjfTuJGZ+EhjrVsfNRo1iTFhmE26INVSCCFEKCQlJfPii7N4550P0OnkO/5s02ASkIsvvpi5c+cyf/58hg4dyi+//MKSJUtYuHAhANdddx033XQT3bp1o3PnzkybNo2BAwc2iEvwhlJEmJ4OzfR0aBYd6qqETKHVyZETxf5E7HBWCUezS3C4atvlTdRGsc3lv8jCmYoy632JTLyvK13jeDNREYaAdiU0m3Qh654phBDnmjvuuIfnn5/J++8v5JZbbg91dUSANZgEpEuXLsyZM4eXX36ZOXPmkJKSwgsvvEBqaioAqampPPPMM7z88ssUFBTQt29fpk6dGuJai4bAEqbH0jyGDs1j/MsURQlp1yetVk1UVDj5+SUNtnm1Mm6Pl2O5Vg6fKN/qdnJXwNORX+wkvziXbftzA1TTinRaNclx4X+12sSbpSuZEKLBsdrdZOaW1GmZSTHhhBlrd8gZFxfP7bffydy5rzF06HCSk1OCVDsRCvU6Adm1a1e550OGDGHIkCFVrj927Fh/FywhzoRKpUKrCd1BpVajRqdVo9WofX3DzhJajZrmiRaaJ1rKLS+yOsk7jau8OVwejmSXcOREWetVMSV2d6CqW47L7eXgsSIOHisqt9yo16AJVsuISoVaBV4FqGRyVlGeUa8hOc7sTxJT4sNJig1Hp224l6oUIpCsdjePvP4bVkdwvierEmbQMvueC2udhFx11bUsW/YV//nP88ye/VKQaidCoV4nIEKIc0NEmJ6IsNrPcwPQpnGU/7GiKOQXOzkS4ETEqyicyLP5u+idyPvrqnL2Wl+dTgRLid1NTqGDrfty/Ms0ahWJMWGYqjjwMeg0dGkVy/ntGxFpNtRVVYUQNaDRaHj44cf45z//j59+Wh3q6ogAkgRECHHWUKlUREcYiI4I7oGkw+XhaLav1SWnwB60ctRqFUajHrvdGfKr8zUERVaXP0m0lZ7h9XgVjmSfurvJ9v25fLhiD+c1j6HPeQl0bxsv8yKJs1KY0dcS0RC6YJXp3Lkrl18+kjlznuf6628OcM1EqMg3rBBC1JJBp6FFkoUWSZbqVz4DWq2a6Ohw8vLOrrFAwaYoCnlFjnIXlXBW8fll5dk4eLwIRfElItv35/Lut7vo1jqWlsmRtS7bZNCQEm8mJS5ckhhRL4UZtbQ6jdgOpXvumcDPP6/mww8XhboqIkDk21EIIcRZRaVSEWMxEmMx0qVVXLXrZ+aUsG7HcdbuOM6JPBtuj5c/d2Xx566sM6pHXKTRPxYlJT6csCoSEqNeS6sUCxq1jFURojKRkVHcc88EZs58lsTEpFBXRwSAJCBCCCHOaUmx4Yzu35JR/Vpw4FgRa7cf589dJygorv3V2bwnXSwgu8BOdoGdTXurn1coIkzH+e0T6N0xgVbJFrmymhB/c/nlo/j666VkZZ3ZiQFRP6gURS6tcrKsrKLqVwoS6W4hykgsCJA4aIgqm9z1SFbt5hWKizTS+7wE+pyXQEq8WeJA+EksCKg/cRAfH1H9SlWQFhAhhBAiQCqb3NWrKOQVOnB7Kj9QyMyxsm7ncTbuzsLp9pJdYOfrNQf5es1BGseb6ds5kWEXtkDmghZCnC0kARFCCCGCSK1SERtprPL1hJgwurWJw+50s3FPNut2HGfbvly8isLhrGI+WrmXj1bupV2TKM4/L4Ge7eJP+7LVQghRH0gCIoQQQtQDRr2WCzomckHHRAqtTv5MO8G6HcfZc7gAgF0Z+ezKyOf9H3bTqUUMvTsmkNo6HoNeE+KaCyFE7UgCIoQQQtQzljA9g7o3ZlD3xuQXO9i8P4+Vfxwi40QxHq/C5vQcNqfnoNep6d4mnt7nJdCxRQxajVxJSwhR/0kCIoQQQtRjcVEmrhoUx+DUZA5kFrJux3HW7ThOdoEdp8vL2tJLCJtNOnq2b0TvDo1o0yQKtVxJSwhRT0kCIoQQQjQQjePNNB5gZuxFLUk/Wsja7cf4fecJim0uim0uVm88wuqNR4ixGOjdIYHe5yXQpJFZLusrhKhXJAERQgghGhiVSkXrlEhap0Ry7eA27DyYx9rtx9mwJwuH00NuoYNv1h3im3WHSI4Lp/d5vmQkzlL5YHiVCklShBB1RhIQIYQQogHTatR0bhlL55axOFweNu/NZu3242zdl4PHq3A0u4TPf9rH5z/tq3IfljAdVw1sTd/OiZKICCGCThIQIYQQ4ixh0Gk4v0MC53dIoNjmYv0u35W0dh3K51SzDhdaXSxYtpMt6dncPLw9ZpPMOiKECB5JQIQQQoizkNmkY0C3FAZ0SyG30M62/bm4Kpk12etVWLHhMCfybPy5K4u9Rwq4fcR5dGweE4JaCwFXXXUFx45lAr6ugUajkdat23DrrXfQu/cFp73fadMmA/DEE5NPud78+W+yceN6Xn11brX7dLlcfPPNV4wcOQaA8ePvJDW1B7ffftdp1/N0fPHFYubNew2Hw8Hcue/SokVL/2sbNvzJvffezb///TijRo0tt11NP5NAkwRECCGEOMvFWIxc1DW5ytf7d03iwxV7+GlzJvnFTl74cBPDejXhygEt0WllnhFR9+699yEGDx6KoigUFhbw7bdf88gj9/P88y/Tq1fv09rnffc9XKP1rrvuJq6++toarbt8+XcsXLjAn4BMn/4cWm3dtyC+/vrLXH31dVx++Uji4xtVus6bb/6XAQMGERUVVbeVq4RcMFwIIYQ4xxn1Wm69tAPjx3b2d7/6/o8Mnnn3T9KPFKAop+rAJUTgmc1mYmPjiIuLp2XL1vzzn/cxZMgwXnnlxTPap9lsrna9sLAwLJbIGu3z7/8bFkskYWFhp1W/M1FcXExqag8SE5PQaCo/aRAeHs5rr82p45pVThIQIYQQQgDQvW08z9x+Pp1a+rpfHckqYdr/1vPEvHUs/WU/x3OtIa6hOJeNHDmWffvSOXw4A4CioiKmTp3EsGEDGDVqOC+9NBuHww74uh1dddUVPP/8DC65ZACLFr3DtGmTmTZtMsXFxQwadCEbNvzp37fVWsKgQReyefMm5s9/k/Hj7/S/9uWXS7j++isZOLAPl18+mBdemIXH42HDhj+ZPn0Kx45l0q9fTzIzjzJ+/J3Mn/8mBw8eoF+/nhw9esS/n4yMQ/Tv34vjx48BsGTJZ1x99UiGDu3P+PF3kp6+t8r3XlhYyKxZ07jiimEMHnwR//73vyksLASgX7+eANx7793l6v139933EN988xVbtmyq5ScfeNIFSwghhBB+UWYDD1zdlZUbjvDJ6r04XV6O5VpZ8st+lvyynxZJEfQ5L5HzOzQi0mwIdXVFLdncNo6VZNVpmYnh8Zi0pjPeT/PmLQA4cGAfjRs3YebMZ3C73bz++nwcDjv/+c/zvPjibCZOfAqAY8cycTqdzJ+/CK1Wx/z5bwC+lpDevS/gxx9X0r277+D9119/Jioqmi5duvLnn+v8ZW7cuJ7//Oc5nnpqKm3btictbQdTpz5Fz569uPDC/tx770N8+OEi5s17l6ioaP92zZo1p3Xrtvz44yquu+5GAFavXkGnTl1ISEjkl19+4u235/LII0/StGkzvv32a+699y4++OBzLBZLhff++OMP43DYmT37JdRqFS++OIupU59mxowX+OKLbxk1ajjTps0mNbVHlZ9fv34D6Nu3Py+8MLP0MwldGiAJiBBCCCHKUalUDO7RmAs6JrB+VxZrdxwn7WAeCrA/s4j9mUV8tHIvYy5qwWV9msmlexsIm9vGpN9mYnPb6rRck9bE1AsfO+MkJDzc133KarVy5Mhhfv75R5YtW+nvVvXoo09y223XM2HCg/5tbrjhFho3blJhX4MHD+O//53D/ff/G5VKxerVK7j44iEVYtlkCuOxxyYxYMAgAJKSkvnww/fYv38fAwYMwmw2o1ariY2Nq7SMH39c6U9AVq1awWWXjQDg/fcXctNNt9G3b3/+v707j6uqzv84/rqXfd8FxB1FcEPArdRK09JybxmzrMYW/ZXZMks5Vtpe1sxUVlNZzWTNNFOjmS2jubRZLinuiiISgiiCgOxcLvf+/kBuEaiAFy7L+/l4+IB77jnf7+deP9x7Pud8v+cA3HHH/7Fp0/d8+eUXXHttzfknhw8ns3NnIv/613K6dOmKs7OR559/nquuuoqjR3+iS5duAPj4+J536Nh99/2Bm266jg8//IAZM2aec92mpAJERERE6uTp7sLI2I6MjO1IflE5Ww9UXdY39XgBFquV5d8c4dTpMm68Igono0Z1S9MqKSkGwNPTi59+SsVisTB16vga61gsFtsQLYCwsPA62xo+/BKeffYJ9u3bS8+evdiyZRNLlrxRa73o6Bjc3Nx4++03SE1NISXlMBkZ6QwZMuy88Y4ZcwVLl75GTk42FRUVpKQkM2rUGADS0lJ57bUlvPHGq7b1TSYT6elHa7WTlpaKt7cPXbp0tS2LjIzE19eXn376uQCpj7CwcG655Xb+/veljBlzRb23szcVICIiInJe/t5uXDG4M1cM7kxmTjF/W7mXYznFfL0zk7zCcuZM7oebq66Y1ZJVn4lorUOwDh9OBqBHj0gOH07G29ubt956r9Z6ISEh7Nu3FwA3t7qHCXp4eDB8+Ei++WYDOTknCQwMIiamb631tmzZxPz5v2fcuKsYNuxifvvbO/nzn5+tV7zh4R2Jju7DN998hclkIjY2znampLKyknnzHmDQoCE1tvHy8qrVjqura53tV1ZasFgq6xXLL91ww02sWfM5L730Ap6etftrDipAREREpEE6Bnsx/6Z4Xlmxh6Sj+exKOcVz/0rk3uti8fOqe2dJWgYPZw+6+3VxdBiN8vnnq+jdO4aOHSMwmUwUFRVhMBiIiOgEQErKYd5663X+9KeF9Wrv8suv5M03XyU3N4fLL6/7bMCnn37M1VdP4ne/exAAs9nMsWMZJCQMBjjv8MMxY65g06aNlJSUcOWVV9mWd+7clezskzWGhz399GNccslljBhxaY02unTpRlFRYY3hVocPH6a4uKjGWZH6cnZ25oEHHmTevDmEh3dk4MD4BrdxoXS+VERERBrM092F+68fyLC+oQD8dKKQp5Zt44SulCV2UFRUxKlTOeTk5JCScpiXXvoz69d/ydy59wFVE9KHDr2Yxx57mAMH9nHwYBJPPbWI0tISfHx86tXHsGEXk5OTzbfffsPo0WPrXMfX14+9e3eRknKYI0dSePrpxzh1KgeTyQSAu7s7hYUFpKcfxWw219p+9Oix7Nq1g6SkA1x22Wjb8unTb+TDDz9g9erPOXYsg9dee5kNG9bStWv3Wm107dqNYcMu5oknFnLgwD727dvLgw8+SFxcPD169KzXa/21+PhBXHnleI4fz2zU9hdKZ0BERESkUVycjdw+oQ+BPu58sTmNnNNlPLVsG/OuHUCvTv6ODk9asZdf/jMvv/xnDAYD/v4BREVF89JLrxMbO9C2ziOPPM5f/7qYe++9CycnJ4YOvYj77/9DvftwdXVl5MjL2L9/L716RdW5zqxZs3n66UXMnn0rXl7eXHTRcKZMuZbk5IMAJCQMJiKiM7fcMp3XXnur1vbBwSH07h2Dm5s7fn7+tuWXX34Fubm5vPXW6+Tm5tK9ew+ee+6vdO5c99mphx/+5Ws1MmbMGP7v/+6t92uty91338f332+8oDYay2DV3YVqyM4udFjfzs5GAgK8yMsrxmy2OCwOcTzlgoDyQKq0ljz4KjGD99cewmoFo8HAiAFhTBrenUBfd0eH1ma0llyQptVS8iAkpH5nmuqiMyAiIiJywUbFd8Lfx403Vu3DVGHh213H+WFvFqPjI7j6oq74eGpuiIhU0RwQERERsYu4XiE8eftQRvQPx2AAc6WFL39M58HXN/HJxlRKy2uPkReR9kcFiIiIiNhNsJ8Hs66O4YnbhpIQFQJAmamSTzam8uDrm9idkuPgCEXE0VSAiIiIiN11DPbi7mn9eeSWQfTpFgBAUWkFSz/dT3FZhYOjExFHUgEiIiIiTaZ7uC+/nx7H3VP7AVBcZmbVxp8cG5SIOJQKEBEREWlyCb07kNC7akjWhsQM3S9EpB1TASIiIiLN4rpRPXF2MlBpsfLhhsOODkdEHEQFiIiIiDSLDv4ejB3UGYCdh3PY91OugyMSEUdQASIiIiLNZsLF3fD1dAHgP+uTsVh0P2SR9sYuBYjJZOL1118nLS0NgAULFhAXF8dtt91GXl6ePboQERGRNsDDzZkpl/QAICO7mG93Zzo4IhFpbnYpQF544QX+/ve/U1RUxLfffsvHH3/M7NmzKS4uZvHixfboQkRERNqISwZ0pFOINwAff3uEkjLdoFCkPbFLAbJ69Wr+8pe/0LdvX9avX8+QIUOYM2cODz/8MF9//bU9uhAREZE2wmg0MP3yngAUllTw+aafHBuQiDQruxQg+fn5REZGAvD9998zfPhwAPz9/SkrK7NHFyIiItKG9OkWyMCewQCs3ZbOyfxSB0ckIs3FLgVIly5d2LNnD/v27SMjI4ORI0cCsG7dOjp16mSPLkRERKSNuX50T5yMBsyVVj76SpflFWkv7FKA3H777TzwwAPMmDGDYcOGER0dzauvvsrixYu57bbb7NGFiIiItDFhgZ6Mjq86ULn9YDb7UnVZXpH2wNkejUyZMoWYmBjS09O55JJLAOjfvz9vv/02F110kT26EBERkTZo0ohubNp3gqLSCt7+fD+P3zYUbw8XR4clIk3ILmdA5s+fT0REBGPGjMHV1RWASy65hJiYGO666y57dCEiIiJtkJe7C7eOjwYgv8jEu/9LwmrVvUFE2rJGnwHZvn076enpAKxcuZK+ffvi7e1dY52UlBQ2bdp0YRGKiIhImxYfFcKlAzvyzc5Mth/KZuPu44yM7ejosESkiTS6ADEYDDz00EO235988sla63h6emoOiIiIiJzX9NG9SDqaT1ZuCf9al0xUZ39CAz0dHZaINIFGD8GKj48nKSmJpKSqU6Xff/+97XH1v8TERObOnduo9k0mExMmTGDLli22Zenp6dx6660MHDiQq666io0bN9bY5ocffmDChAnExsZy8803287QiIiISMvm5urE7El9cDIaKK+o5M1P92GutDg6LBFpAnaZA5KUlERhYSF79+61LXv33XdJS0trVHvl5eU88MADJCcn25ZZrVbuvvtugoODWb58OZMnT2bu3LlkZmYCkJmZyd133820adP473//S2BgIHfddZfGkYqIiLQS3cJ8mTKyOwCpxwtZ9X2qgyMSkaZglwLkhx9+YPLkyaxdu9a27PPPP2fKlCls27atQW0dPnyY66+/nqNHj9ZYvnnzZtLT03n88ceJjIxk9uzZDBw4kOXLlwPw0Ucf0a9fP2bNmkWvXr145plnOHbsGFu3br3wFygiIiLNYvzQrvTu7A/A55vSOJSe79B4RMT+7FKA/PnPf+bWW2/l/vvvty378MMPmTlzJi+88EKD2tq6dStDhw7lP//5T43lu3btok+fPnh6/jweNCEhgZ07d9qeHzRokO05Dw8P+vbta3teREREWj6j0cAdE/vg6eaM1QpLP91HSVmFo8MSETuyy31AUlJSePHFF2stv+6663jvvfca1NaMGTPqXJ6dnU2HDh1qLAsKCuLEiRP1er6+jEYDRqOhQdvYi5OTscZPab+UCwLKA6nSHvOgQ6Ant14VzWsf7+VUQTlPvbedqM7+dOrgTecQbzp18MbXy9XRYTa79pgLUltbyAO7FCCBgYEkJSXRuXPnGsuTk5Px8fGxRxeUlpba7jFSzdXVFZPJVK/n6ysw0AuDwTEFSDVfXw+H9i8th3JBQHkgVdpbHowfEUlS+mk2bEvn+KkSjp8qqfG8v48bPSL8uKhfOMNjO+Lj2X4KkvaWC1K31pwHdilAJk+ezKJFi8jPzyc2NhaAPXv28OKLLzJlyhR7dIGbmxv5+fk1lplMJtzd3W3P/7rYMJlM+Pr6Nqif3Nxih54B8fX1oKCglEpd+aNdUy4IKA+kSnvOgxvH9CLU352DR/PJOFnEyfxS23P5heUkJp0kMekkr6/YzYDIIC7qF0ZcVAhuLk4OjLrptOdckJ+1lDwICPBq9LZ2KUDuvvtu8vLyePzxxzGbzVitVpydnZk5cybz5s2zRxeEhoZy+PDhGstycnJsw65CQ0PJycmp9XxMTEyD+rFYrFgsjr1yVmWlBbNZHyyiXJAqygOB9pkHBmDsoM6MHVQ1wqLMZOZYTjHHsovJOFnEgbQ8juUUU2mxsiM5hx3JObi5OBEfFczQPmH06RaAcysepnI27TEXpLbWnAd2KUCcnZ1ZtGgRf/jDH0hNTcXZ2Zlu3brZzk7YQ2xsLG+++SZlZWW2drdv305CQoLt+e3bt9vWLy0tZf/+/Y2+D4mIiIi0LO6uzkR29COyox9QdYn+jOxiNu8/wdb9WZwqKKe8opJN+7LYtC8Lbw8XBsd0YFifUCIj/DA6eIi1iFRpdAGSmZlJeHg4BoPBdi8OqJoPApCbm2tb1rFjxwsIscqQIUMIDw9n/vz53HXXXXz11Vfs3r2bZ555BoBrrrmGt99+mzfffJNRo0bx6quv0qlTJ4YOHXrBfYuIiEjLYzAY6NzBm84denLNpZEczjjNlv1Z/Jh0kqLSCopKK/gq8RhfJR4jyNedYX1DGRzdocET2I0GAz6eLg6fIyrSVhisjbxTX0xMDBs3biQoKIjo6Og6/yitVisGg4EDBw40KrjevXuzbNkyWxGRlpbGggUL2LVrF127duVPf/oTF198sW39b775hqeffpoTJ04QFxfHE088UWti/PlkZxc2KlZ7cHY2EhDgRV5ecas9pSb2oVwQUB5IFeVBw5krLexLzWXL/iwSk7MxVVz4+9YpxJtpl/YgNjLIYYWIckGg5eRBSEjjLzTV6AJk69atxMfH4+zszJYtW875xzhkyJBGB9jcVIBIS6BcEFAeSBXlwYUpN1Wy43A2W/ZlsTc1l8oLnOfZs5Mf11zSg95dAuwUYf0pFwRaTh44pABpq1SASEugXBBQHkgV5YH9FJVWcCg9v8FFSF5hOau3pJFf9PPVNvv3COKaS3vQJdQ+txuoD+WCQMvJgwspQBo9B2T+/Pn1Xrd6noaIiIiIo3h7uBAfFdKobS8b2JENicf4fNNPFJeZ2XPkFHuOnCIhKoTorgF0CvEiIsQbbw8XO0ct0vY0ugDJyMiw/W61Wtm2bRvBwcH06dMHZ2dnkpKSyMrK4vLLL7dLoCIiIiKO4urixLihXbgktiNrth7lyx/TKa+oZPuhbLYfyrat5+/tSkSIN51CvPA9y80R3V2dGNonDE93u1yMVKTVaXTmv/fee7bfX3jhBUJDQ3nmmWdsdyOvrKzk0Ucf1RUjREREpM3wdHdm6iU9GJ3QiS82pbEjOZuc02W25/OLTOQX5bIvNfccrUBaViG3jm/YvcpE2gq7zAEZPHgw//73v4mMjKyx/MiRI1x77bUkJiZeaBfNRnNApCVQLggoD6SK8qDlKy2vukFiRnYRx06e+ZlTTJnJXGvdSosVqxU83Zx5cd6IBt0oUbkg0HLywCFzQH7JxcWFzMzMWgVISkoKnp6e9uhCREREpEXycHOmZ4QfPSP8zrvuniOn+OuHuygpN3MwPZ++3QKbIUKRlsUuBciECRNYsGAB9913H/369cNisZCYmMiSJUuYMWOGPboQERERafViugbg4eZEaXkliYeyVYBIu2SXAuT3v/89ZWVlLFy4ELPZjNVqxc3NjZtuuom5c+faowsRERGRVs/ZyUj/HkFsPXCSHYeyuXFsFEbNl5V2xi4FiKurK48//jgPPvggqampGAwGunfvruFXIiIiIr8SHxXC1gMnyS8ykXq8gMiO5x+6JdKW1H/m03mUlZWxdu1a1qxZQ0REBHv37iUvL89ezYuIiIi0Cf17BNkmn+84lOPgaESan10KkJycHK6++moWLVrE22+/TWFhIe+88w4TJ04kJSXFHl2IiIiItAkebs706RYAQOIv7iEi0l7YpQB59tln6dWrF5s2bcLNzQ2A5557jl69evH888/bowsRERGRNqP6juwnckvIzCl2cDQizcsuBcjmzZuZN28eHh4etmV+fn48+OCDreoeICIiIiLNYWDPYKrnnussiLQ3dilAiouLzzrh3GyufRMeERERkfbM18uVXmfuG6ICRNobuxQggwcP5oMPPqixrKKigr/97W/Ex8fbowsRERGRNqV6GNZPJwrJLShzcDQizccul+F98MEHufHGG9m6dSsVFRUsWrSII0eOUFhYyPvvv2+PLkRERETalPioEP694TAAO5JzuDyhk4MjEmkedjkDEhkZyapVq7jssssYPnw4RqOR8ePHs3LlSqKjo+3RhYiIiEibEuzvQZcO3oCGYUn7YpczIHPnzuX+++/n3nvvtUdzIiIiIu1CXFQIR08WcfBoPkWlFXh7uDg6JJEmZ7erYFVffldERERE6qd6HojFamXXYd2UUNoHuxQgU6dO5YUXXiA5ORmTyWSPJkVERETavE4hXoT4uwMahiXth12GYH3zzTccPXqUNWvW1Pn8gQMH7NGNiIiISJtiMBiIjwphzdZ09qXmUl5RiZuLk6PDEmlSdilA/u///s8ezYiIiIi0O9UFiMlsYe+RXBJ6hzg6JJEmZZcCZOrUqfZoRkRERKTdiezoh6+nCwUlFSQeylYBIm2eXeaAAPzvf/9j+vTpxMfHM3jwYG655RY2btxor+ZFRERE2iSj0cDAXlVFx67DOZSWmx0ckUjTsksB8t///pff/e53dOzYkfvvv5+7774bPz8/Zs+ezbp16+zRhYiIiEibVX01rJJyMw++vokvtx6lwlzp4KhEmobBarVaL7SRK664ghkzZnDrrbfWWP7WW2+xatUqVq1adaFdNJvs7EKH9e3sbCQgwIu8vGLMZovD4hDHUy4IKA+kivKgfbBYrLz56T62HjhpWxbo68ak4d0Z3j8MJ6NRuSBAy/lMCAnxafS2djkDkpWVxWWXXVZr+dixY0lLS7NHFyIiIiJtltFoYM7kfvzhhjh6dPQFILegnH/8L4lH3trKtqST2OGYsUiLYJcCZNCgQXzxxRe1lm/cuJGEhAR7dCEiIiLS5sV0DWDBzATumdafiGAvAE7klvDayr088952TuaVODhCkQtnl6tgDRo0iL/97W/s3buXIUOG4OLiwp49e/jss8+YNm0ar7zyim3duXPn2qNLERERkTbJYDAQFxVCbM9gNu8/wcrvUsk5XUbS0XzmvfAVN4+LZnB0B0eHKdJodpkDMnr06Pp1ZjCwfv36C+2uSWkOiLQEygUB5YFUUR6IudLCqu9/4vNNP1G91zasTyg3XRGFp7uLY4OTZtdSPhMuZA6IXc6AbNiwwR7NiIiIiMivODsZmXZJDwb2Cmbpp/vJyi1h8/4skjPyuX1CH3p3CXB0iCINYrf7gIiIiIhI04nq7M/Lv7uMEQPCAThVUM7if+3gww2HyS8qd3B0IvVnlzMgIiIiItL0PN1duHNSX/r3CGLZ6iSKy8ys3nqUNT8eJbpLAMP6hJLQO0RDs6RFUwEiIiIi0soMju5Azwg//v6/A+w9kovVCgfS8jiQlsd7Xx5kQGQww/qEEtszCBdnJ0eHK1KDChARERGRVijAx40Hrh9IVm4JW/ZnsWl/Flm5JZgrrSQeyibxUDZ+3q5MGt6dkQPCcXbSyHtpGeySifPnz6eoqKjW8vz8fO666y57dCEiIiIidQgN9GTSiO48fcdQHr11EFcM7oy/tysAp4tMvLfmIA8v3cLmfSew6GaG0gI0+gzI9u3bSU9PB2DlypX07dsXb2/vGuukpKSwadOmC4tQRERERM7LYDDQLcyXbmG+XD+qJ7uPnOLjb4+QfrKIk/mlvPnpfr7YfJRpl/YgNjIIg8Hg6JClnWp0AWIwGHjooYdsvz/55JO11vH09OS2225rfHQiIiIi0mBGo4GBPYMZEBnE1gNZrPw2lZP5pWRkF/Hyf3fTLcyHYD/3OrftHOrDlYM74+qiuSPSNOxyI8Lo6Gg2btxIcHCwPWJyKN2IUFoC5YKA8kCqKA+k2oXkgrnSwsbdx1n1fSr5Rabzrt8x2Is7J/ahS2jjbzYnTaOlfCY4/EaESUlJ9mhGRERERJqAs5ORy+IiuLhfGBsSj7HrcA6VdRyDLi03cyy7mMycYp54dxvTLu3BlUO6YNRwLbEjuxQgZWVlLF26lL1791JWVsavT6osW7bMHt2IiIiIyAVwdXFi3NAujBvapc7nrVYrX+/M5D/rkzGZLXz0VQp7Uk5x+4Q+BPrWPWRLpKHsUoA89thjfPHFFwwfPpyOHTvao0kRERERaWYGg4FRcRFEd/HnzU/3k3aikKSj+Tz69lZmXtmboX1CHR2itAF2KUDWrl3Liy++yKhRo+zRnIiIiIg4UHiQFwtmJvDJxlS+2JRGSbmZN1btY922dIb1DWNwdAd8vVwdHaa0UnYpQAwGAz179rRHUyIiIiLSAjg7Gbnm0kj69whi6af7OVVQRkpmASmZBXywLpk+3QMY1ieUuF4heLjp3tZSf3bJlrFjx7JixQruvfdeezQnIiIiIi1EVGd/Hr9tCN/szGTz/hMczSrCYrWy90gue4/k4uJ8kH7dA+ka6kNEiDedOngR4u+hietyVo0uQObPn2/7vbi4mI8//pgffviBbt26YTTWvMH6M8880/gIRURERMShPNycbZPXM3OK2bI/iy37sziZX0qF2cKO5Bx2JOfY1nd1MRIR7EVEiDfD+oTSp1ugA6OXlqbRBUhGRkaNx4MGDQIgMzPzwiI6j7Vr1zJ37tway6688kpefvll9u/fz8KFCzl06BA9e/bkscceo1+/fk0aj4iIiEh70jHYi6mX9GDKyO6kHi9k8/4TJKefJvNUMRVn7kthqrCQeryQ1OOFbNx9nFHxEVw/qiduurmhcAEFyHvvvWfPOOrt8OHDjBo1iieeeMK2zM3NjZKSEu68804mTpzIs88+ywcffMDs2bNZu3Ytnp6eDolVREREpK0yGAz06OhLj46+AFgsVrLySjiWXUz6ySIysos4lJ5PcZmZrxKPkZSWx50T+9I1TDc3bO/sMgfkxx9/rHO5wWDAxcWFsLAwQkPtc9m2lJQUoqKiCAkJqbH8v//9L25ubvzxj3/EYDCwYMECvv32W1avXs20adPs0reIiIiI1M1oNBAe5EV4kBeDojsAUFBi4t3/JbEjOYfjp0p4ctk2pozszvihXTEaNUekvbJLAXLrrbdisVSdcqu+CaHhVxOPhgwZwpIlS/D19b2gvlJSUrj44otrLd+1axcJCQm2fg0GA/Hx8ezcuVMFiIiIiIgD+Hq6Mndaf77bfZx/rTuEqcLC8m+OVN3ccGIfgv08HB2iOIBdCpBnn32Wv/71rzz88MMMHjwYgMTERJ588klmzJhBbGwszz77LC+88AKPP/54o/uxWq2kpqayceNG3njjDSorKxk3bhzz5s0jOzu71qWAg4KCSE5OblAfRqPBYRW5k5Oxxk9pv5QLAsoDqaI8kGqtORdGJ3SiT/dAXl+5lyOZBRzKOM3Cd7Zyy7hoLuoXVuvAtZxda86DanYpQF5++WUee+wxRo4caVt26aWX4uLiwqJFi/jtb3/L/Pnzueeeey6oAMnMzKS0tBRXV1defPFFMjIyePLJJykrK7Mt/yVXV1dMJlOD+ggM9HL4H4Gvr44GSBXlgoDyQKooD6Raa82FgAAv/nzfpfxn7SE+XHeQ0vJKXv9kH/vT8vm/awbg7akbGzZEa80DsFMBkp2dTceOHWstDw0N5cSJE7bfCwsLL6ifiIgItmzZgp+fHwaDgZiYGCwWC3/4wx8YMmRIrWLDZDLh7u7eoD5yc4sdegbE19eDgoJSKistDolBWgblgoDyQKooD6RaW8mFq4Z2pleED2+s3MfJ/FK+3XmMvUdyuHNSX12utx5aSh4EBHg1elu7FCD9+vXjrbfe4sknn8TJqeryapWVlbz11ltER0cDsHXrVjp16nTBffn7+9d4HBkZSXl5OSEhIeTk5NR4Licnhw4dOjSofYvFisVivdAwL0hlpQWzufV+sIj9KBcElAdSRXkg1dpCLnQP82XhbwfzwbpkNu45Tm5BOc+9n8iVQ7swdWQPXJxb7/Ci5tKa88Au/7sPPfQQa9euZezYscybN4+5c+cyduxY1q5dy5/+9CcSExN5+OGHmTlz5gX189133zF06FBKS0ttyw4cOIC/vz8JCQns2LHDNgnearWSmJhIbGzsBfUpIiIiIvbn4ebMrKtjuGtKP7zcnbECq7cc5cll2ziWXeTo8KQJ2aUA6devH59//jlTpkyxDYOaNm0aX375JQMHDsTPz4833niD6dOnX1A/cXFxuLm58fDDD3PkyBG++eYbFi9ezO233864ceMoKCjgqaee4vDhwzz11FOUlpYyfvx4e7xEEREREWkCg6I78PhtQ+nbLQCA9JNFLPr7jyxbnUReYbmDo5OmYLBWnzJoJZKTk3n66afZuXMnXl5eTJ8+nbvvvhuDwcDu3btZuHAhKSkp9O7dm8cee4w+ffo0qP3s7Aubp3IhnJ2NBAR4kZdX3GpPqYl9KBcElAdSRXkg1dp6LlisVtZvy+Cjr1Mwn5nb4OJs5PKETlw1rCveHi4OjrBlaCl5EBLS+BtKNroAufnmm3nllVfw9fVl5syZ57xy1LJlyxodYHNTASItgXJBQHkgVZQHUq295EJ2fimfbExl094TVO+kerg5M25oF8YO6oS7q12mMLdaLSUPLqQAafT/YEREBEZj1Qgue0wuFxEREREJ8ffg9gl9GDe0Cx9/e4QdyTmUlpv5+NsjrN+WzvWje3JRX907pDWzyxCszz77jBEjRtS6QlVrpDMg0hIoFwSUB1JFeSDV2msupBw7zfJvUkg6mm9bNji6AzOv7N0uh2W1lDy4kDMgdpmE/vjjj9e6BK6IiIiIyIWKjPDjDzfE8cBvYgnxr7q/249JJ1n4zlYO/JTr4OikMexSgHTr1o1Dhw7ZoykRERERkRoMBgP9ugex6LdDGDEgHIC8wnKe//dO/rMhmYp2dEaoLbDLLJ7o6Gh+//vf89Zbb9GtWzfc3NxqPP/MM8/YoxsRERERacc83JyZdVUMsZFB/ON/SRSXmVmzNZ19qXncOakPnUK8HR2i1INdCpDU1FQSEhIAyM7OtkeTIiIiIiJ1SujdgR4d/XjniwPsS80lI7uIhe9sJaZrAEP7hJIQ1QFP9/Z9tayWrNXdB6SpaRK6tATKBQHlgVRRHkg15UJtFquV9dsz+Oirn+8dAuDsZCQ2MohhfUMZEBmEi7OTA6O0r5aSBw65DK+IiIiIiCMZDQbGDurMwJ7B/LD3BJv3Z5GVW4K50sL2Q9lsP5SNh5sTk0f04IrBnR0drpyhAkREREREWrUQfw8mj+jOpOHdSMsqZPO+LLYeyCK/yERpeSX/Xp+Mr5cLw/qEOTpUQQWIiIiIiLQRBoOBbmG+dAvz5fpRPTl4NI+3Pj9AXmE5//giifBAL7qGNX7okNiHXS7DKyIiIiLSkhiNBmK6BTJ3Wn9cnI2YzBaWrNhNQbHJ0aG1eypARERERKTN6h7uy63jogHILSjntY/31JiwLs2v0UOwbr755nqtZzAYePfddxvbjYiIiIjIBbmoXxhHTxayZms6hzJO88G6ZGZe2dvRYbVbjS5AIiIizvn8tm3bSE9Px9fXt7FdiIiIiIjYxbWXRZKRXcy+1Fy+2nGMzqHeXDbw3Puz0jQaXYCc7e7mRUVFPPvss6SnpzN8+HCeeuqpRgcnIiIiImIPTkYjcyb35Yl3t3Eyr5R/fnmIjkFeRHX2d3Ro7Y5d54D88MMPTJo0iTVr1vDEE0/w9ttvExamy52JiIiIiON5ubtwz7T+uLk6UWmx8trHe8g5XerosNoduxQgJSUlPProo8yaNYvu3buzatUqrrvuOns0LSIiIiJiNxEh3tw5oQ8ABSUV/PnfOzldVO7gqNqXCy5ANm3axIQJE/j88895/PHHefvttwkPD7dHbCIiIiIidhcXFcJ1oyIByMor5c//2UlRaYWDo2o/Gl2AlJSUsGjRImbNmkW3bt347LPPuP766+0Zm4iIiIhIkxg/tCsTLu4KQEZ2MX/9cBel5WYHR9U+NHoS+sSJE8nMzKRz587Ex8ezfPnys647d+7cxnYjIiIiItIkpo7sQVl5Jeu2Z5B6vIAly3dz33WxuLo4OTq0Nq3RBYjVaiU8PByz2cyKFSvOup7BYFABIiIiIiItjsFgYPqYXpSZKtm45zhJR/N5beVe5k7rj7OT7tfdVBpdgGzYsMGecYiIiIiINDujwcCt46Mpq6hkW9JJdqec4s1P9zNnUl+MRoOjw2uTVNqJiIiISLtmNBq4c2IfBkQGAbAt6STL1hx0cFRtlwoQEREREWn3nJ2M3DWlH9Fd/AH4dlcmh4+ddmxQbZQKEBERERERwNXFibnT+uPhVjUJ/YtNaQ6OqG1SASIiIiIicoanuwuj4zsBsPNwDhnZRQ6OqO1RASIiIiIi8gtjB3XGxblqN/mLzToLYm8qQEREREREfsHXy5WRA8IB2Lr/JNn5pQ6OqG1RASIiIiIi8ivjhnTBaDBgsVpZveWoo8NpU1SAiIiIiIj8SrC/B8P6hgLw3e7jnC4qd3BEbYcKEBERERGROowf1hUAc6WFL39Md3A0bYcKEBERERGROkQEexHXKxiAr3Yco6SswsERtQ0qQEREREREzuLqi7oBUGaqZH3iMccG00aoABEREREROYseHX2J6RoAwNof0ymvqHRwRK2fChARERERkXO46qKquSBFpRV8uyvTwdG0fipARERERETOoU/XALqH+wCwZutRzJUWB0fUuqkAERERERE5B4PBwFXDugGQW1DO5n1Zjg2olVMBIiIiIiJyHnFRwYQHeQLwvy1pWKxWB0fUeqkAERERERE5D6PBwFVn7gty/FQJOw5lOzii1ksFiIiIiIhIPQztE0qQrxsAn21Kw6qzII2iAkREREREpB6cnYxcOaQLAGknCtn/U56DI2qdVICIiIiIiNTTyNiO+Hi6APD5pp8cG0wrpQJERERERKSe3FycGDuoMwBJR/NJyTzt4IhaHxUgIiIiIiINMDo+AndXJwC+2JTm4GhaHxUgIiIiIiIN4Onuwqj4CAB2JOeQkV3k4IhaFxUgIiIiIiINdMWgzjg7Ve1K/2+zzoI0RJsrQMrLy/nTn/7EoEGDGDFiBO+8846jQxIRERGRNsbP242RseEAbNl/kuz8UgdH1Hq0uQJk8eLF7N27l3fffZeFCxfyyiuvsHr1akeHJSIiIiJtzPghXTAaDFisVlZvPerocFqNNlWAlJSU8NFHH7FgwQL69u3L2LFjuf322/nnP//p6NBEREREpI0J9vdgaJ8OAHy36zini8odHFHr0KYKkKSkJMxmM3FxcbZlCQkJ7Nq1C4vF4sDIRERERKQtumpYVwDMlRa+3Jbu4GhaB2dHB2BP2dnZBAQE4OrqalsWHBxMeXk5+fn5BAYGnrcNo9GA0WhoyjDPyunMRKbqn79mtVopMBVyrOgExwozz/w8zmlTIV4unvi6+uDj6o2vq3fVT7dfPXb1wcXJpVa7psoKCk2FFJiKKDQVUVBeWPWz+rGpkMLyQooqSqi0Vjbpe9BUPJzd8XH1qfXeeLt4YjDU8X5brZRVlv/qPal6X4pMxViwNmm8BgwYDGC1grWJ+2oKrkaXGu9zdf75uHrjZHSqc5uKyoqf8+0X+VdkKsK5ur0L+v8rotBUeM7/Pxejc614q/t1ruNvB8BsMZ9pu6qf6j4LTUVUWCoa/R5C68+DpmDAgJeL58/54Pbz37WnswcY6v789nB2r/EZebY8/LXiihIyz3zWHis6wbGi4+SU5p5pz/tMjvjYYvFwcjtrDF7OHrb89XbxqncM5/tukIazWC2cKs21fY8eKzpOZtEJrEBUQCTRgT3pHdgTb1evRrVfZi7jp9PphHgGEeRx/n2P+lIutExdw32Jjwoh8VA2a7ak892u4zWet/pkYQnbD872OztitLgxI+Z6Rkb2sVubzalNFSClpaU1ig/A9thkMtWrjcBALwxn+fJoLr6+HpRVlJFecJyj+cc4ejqTo6erfhaW132Zt9PlBWRy4rxtezi74+fug5erJ8WmEk6XFVJqLrP3S2hxiitKyCnNdXQY7UYxkFd+Ggrt12ZO6Sn7NXYO+eUFzdKPNF5RRTFZJdkX1IaXqyf+br54u3rW+ZlvBXKKczlVmlfn9qfLCzhRfPKCYvBx9cLX3YdAD386+YbTxa8jXfwj6OwbjruLe631fX09GtR+samE9Orvj/xMThRl4+/hSxe/CLr4RdDVPwJ/d1+Hf+c1ltlSSXbxKTxd3PFx9cZorHunvKC86Mx3adX3aHr+MY4WHKfcXPfO4Inik3ybsQkDBroFdKJ/aAz9Q3sT4ROGr7sPrnUcjDBbKjl8KpXdWUnszUoi+VQqlVYLni4ePH/lAkK8guz62huaC79WUlFKbmk+3q5e+J7jvauvYlMJxaYSgj0DL7it1mrGuGgSD2VjsVopKv354JPRLxvXLokYjPY9iGShgh2ZSUwaNNiu7TaXNlWAuLm51So0qh+7u9f+MK9Lbm6xw86A7MnZz+as7aTlZpB9np0tAwY6eAYT4R1GoEcAJRWlNY8clxdiruNsRam5jNKi8xcczganGkcWfV198Hb1wtnY+lLGarVSai6teVanvJAS8/mvVuFidKl11N3H1RtjXUfd7choMODq5oyp3IzF2vqOfJeby2u839X/zncU38ngVOOsQ/XvFZaKZvn/M1WaKDIV1zoLY7Geewin0WDE28XLdhS8uh83J9dzbnc+rT0PmoLFaqG4oqTWmdryyoYdWazeYWqIAHd/OnmH08Er5Fc5Xngmhvod6KpWaCqm0FTMsYIT7MlKsi03YCDII5AI77AzO9YGXFycqagwY7GcPw/yy09zrOgEeWX5513Xy8WTCO9wInzCifAOI8I7nI7eYbg7uzXotTSnSkslm49v57OUL8k98xoNGM7sTFd9b3m7elNUUcyxwuMUmM59JMTZ4ES4dygR3uFUWCpIyj1McUUJVqyk5qWTmpfOqqQvbeu7nzn7VX1GrcJSQXJeap05WFJRypIf3uW+hDvtUug5ORnx9fWgoKCUysrzDy2vtFSSVZJd4wzescLjnCr7ubA2YMDbxdP22eXr6kOQR4AtH0K9Qmp991dUVnA4/yeScpNJOpVMWkEGVqy4Gl3o6B1GhE9VHkV4h9PJJxwfV+8Lfu0tXQdfN+6/PpaUzJ8PYuVZMkk078KCFSdc6Gzsh8EOsx8MBgj08uW62EvJyyu+4PYaKyCgcWcIoY0VIKGhoeTl5WE2m3F2rnpp2dnZuLu74+vrW682LBZrvT7g7c1itfDGzmVUWMy1nvNx9SbCq+qPuaN3OBFeYYR5hdZ5FKZa1U53GYUVPw9jKTAV2R6XVJTgeWYYg4+Lt+0Du3pnzd3JvdUeFasvs8VMqbnsrDvFrkZXh30JOzsbCQjwIi+vGLO5bcxfslgtlFSUYqHu1+NscMLD2aPeeddc/38Wq4VSc9lZhx8aDUY8nT2apChti3nQVEyVJsrOUoRUH4T4uVgorvpZUURxxdkLWR9Xbzp6hVV99nqF4ely7qPO5ZWmsxZCVquVEnNpjeGu1f9yy/I4VnycQlPVGW4rVnJKT9n1rF+Amz8dPIPJLz/NyZIc299NcUUJh/JSOJSXUmP9IPfAqh1IrzCCPAJtRbWPS9VO6rm+f5qK1WplZ/ZePj2yhqySmmefrFht7+exc7Rhe13e4XT0CiPCO4wQj+Aaw+EsVgvHik5wMC+ZpNxkUvJTMf1iOGWZuYwycxknS3Jqte9kcKKHX1d6B/Qkr/w032duISk3ma+P/sDIiIsu+D0AMJlNnCzKIa+04Ofhn7bv+UIKK4ptRXF1IXUuVqxV21TUvSNrNBgJ8+xAR+8wAt0DSCtI58jpn+rcXzFZKvipIJ2fCmrOgwh2D6R3YC96B/Skd0Djh7b9Unml6Vd/T4W4GF3oFdCDQPeAC26/Mfr3CKJ/j6qzXWkF6by8YzUWzLgYnbk7dha9AiLt0k9b+G4wWK1t57BaaWkpQ4cO5Z133mHQoEEAvPrqq2zatIn333+/Xm1kZ9txzEgD/S9tHYdPpxDkFkS4Z5jti689HDmQmtrCh4tcOOVB+1JoKiKz6ASZxSfILDpOZnEW5ZXlGKg68l1ZWb/ZZx7OHrbioaN3OB29QvF08bQ9b6qs4ERJVlVfZ46KZxafOO+Zgl9yd3L7+aCVy89nK33OnBWI8A4n1DOk4W9CHaxWK0l5yaxKWc3Rwgzb8jCvUMZ0uRQng7FGQVd1oK0QNyc320G7jt5hhHuF4u5cv9EQv1RhMZNeeIz88tM1DuZV/261Wujh343eAb3o6d/dduazwmLmuR9f4nhxFm5OriwY8kCj54Ok5P/Ef5M/4WRJzlkL7fNxd3IjvLqg9g4j2D2wxoHK6p34AlPRmX7OP1rCxehMpF93ogN7Eejuz/Hik2QWHedY8QlOleaetfjp5N2R3gE96erbiTJz+a9iqHp/6ypwoKpALDIV1SgKf62DRzC9A3sRHdCTqIDIGvnfHDKLTvDijtcprijByeDE7AG30Dco2m7tt5TvhpAQn0Zv26YKEIBHH32UxMREnn76aU6ePMmDDz7IM888wxVXXFGv7R1ZgLSUhBLHUy4IKA+kSnPlQZGpmMziqqE6tkKo+ASmBg4tqxYd0IvRXUYSExjV6DOEOaWn+GfScg7lHbYtC3QP4OruYxkSFt/kw2Ev1NGCDJ7f/goWq4WogJ7cM/D2Bsd8siSH57ctOeewU2ej85nRDD74uHrZCkEfFy9CPIPp6FV19qK+Z5itVit55fk/F6nFVZP0c8py6egVRu+AnkQH9qS7b9c6L24DVWcojhefIKMwk0N5KRzMO0zRWc6yNCUDBjr7RDAguA8JoQPp4BncpP1ll5zir4mvcdpUiAEDs/rdSHyHAXbto6V8N6gA+YXS0lIWLVrEl19+ibe3N7fddhu33nprvbdXASItgXJBQHkgVRyZB9YzV5SrPjL+6+G81UfNqx/XdVGTUM8OjOo8gqFh8bg2YF7UvlMH+ce+f9l2vH1cvBnX7XKGRwzFpRXNR/w0ZTWr0zYA8JuoqVzSqf5DscrMZTy//VVOFGdhwMAV3S6jc1AYTmZXvJy8bMWGu5Nbix82bbFaOF6cRVJuMgfzDpOcf8RW3FZdgdDHNiy8aphf3bli/MWV8Hx+cWU7bxdvCk1FJOVVtX8o9zDF5trzvLr6dmZwaBzxHWLxc2v8DnRd8sry+Uvi38g9M8fmppjruSh8kF37gJbz3aACxI5UgEhLoFwQUB5IldaUBxWVFeSXF7A1K5HvMjZRWPHzlRu9nD0ZHjGUSztdjL+b31nbsFqtrEn7is+OrMGKFQMGxnUbzZgul7XoyfFnU2Exs/jHl8ksPoHrmaFYwfUYimWxWnhrz3vsytkHwDU9J3BFj8taTS6cj9li5nR5AV4unrg1QQFlsVrIKMrkYO5h9p1K4nB+ao0hYQYM9A7oyeCwqmLkQuc1FZqK+Gvi32xX6LsuajKXdRp+QW2eTUv5TFABYkcqQKQlUC4IKA+kSmvNg4rKCrad3MVX6d9xrOjn+yIYDUYSOsQyqvMIuvp2rrFNqbmM9w58yK7svUDVVbpm9b2R6MBezRq7vdUYiuUfyT1xd5x3KNbnR77ki5/WATA0LIGZMdfj4uLUKnOhJcgvP01i1i5+zNpZYy4RVOXZyI7DuKTTxfi51e+iRb9UUlHCizvesOX5pB7juLLbaLvEXZeW8pmgAsSOVIBIS6BcEFAeSJXWngdWq5Xk/BQ2pH/H3pykGkehI/26MarzSGJD+nKyJIc39yyzXeGqs08Ed/S7mSAPx1zRyN4+PbKG1T+tB+A3UVO4pNPFZ11358k9LN37HgBdfTpzf/wcXJxcWn0utBRZJdlsO7GDbVk7OVn689XMnAxOxHeIZXSXEXTx6VSvtsrM5byycympBUcBuKLrKCZHjm+SuKu1lDxQAWJHKkCkJVAuCCgPpEpbyoOTJdl8nfE9m45vqzG5Pcg9gOKKEtsVnoaGJTC99zSHXO63qZgtZp77xVCsO/vdTM+AHrXmsxwrOs4L21/FVGnC19WHBwfPsw1Za0u50BJYrVYO5h3mq/Tv2HsqqcZzPf27M6bLpfQLijnr8LCKygpe2/1320USLom4mOujJjf5fJyWkgcqQOxIBYi0BMoFAeWBVGmLeVBSUcIPx3/k6/TvySvPty03Goxc12sSIyMuavGTqhvjaGEGz297xXZzUxejCz39qy5j2zugJwFu/izetoRTZbk4G5y4N34OPfy62rZvi7nQUmQVn+TrjO/ZfHxbjUv8dvftwqTI8UT96h4elZZKlu5dxp6cA0BV0XxTzHXNcmW2lpIHKkDsSAWItATKBQHlgVRpy3lQaalkV84+vk7/nhJzCdN7T6Onf3dHh9Wkvju2meXJq+q8z4XRYLQVJzdGX8vFHYfUeL4t50JLUVxRwveZW/g6/XtOm36+q3lMYBSTeoyji28nLFYL/9j3AdtP7gJgYEh/ZvWdUeOGlk2ppeSBChA7UgEiLYFyQUB5IFWUB22PqbKCI6d/OnNJ2mTSCzNrzI25tNPFXB81pdZ2yoXmU1FZwbfHNrEmbQPFFT9fzjeuwwCcDc78mJUIQJ/A3tw54JZmvTR0S8mDCylAWs+FtEVERETaAFcnF6IDe9mu7lVcUcKhvBQO5aXg6eLBVd3GODhCcXFy4fIul3BxxyGsP/otG9K/pbzSxI6Tu23r9PTvzh39Z7aq+9K0FHrHRERERBzIy8WTuA79ievQ39GhyK94OLszoccVXNrpYtakbeC7jE2YrZV08enEnAG/bdDNNeVnKkBERERERM7Bx9Wba3tN4vLOl5By+if6BcW0yhtjthQqQERERERE6iHA3Z9B7gMdHUar1/TXChMRERERETlDBYiIiIiIiDQbFSAiIiIiItJsVICIiIiIiEizUQEiIiIiIiLNRgWIiIiIiIg0GxUgIiIiIiLSbAxWq9Xq6CBERERERKR90BkQERERERFpNipARERERESk2agAERERERGRZqMCREREREREmo0KEBERERERaTYqQEREREREpNmoABERERERkWajAkRERERERJqNCpBmVl5ezp/+9CcGDRrEiBEjeOedd8667v79+7nuuuuIjY3lmmuuYe/evc0YqTS1huTC119/zeTJk4mLi2PixImsX7++GSOVptSQPKiWkZFBXFwcW7ZsaYYIpTk0JA8OHjzIDTfcwIABA5g4cSKbN29uxkilqTUkF9auXcv48eOJi4vjhhtuYN++fc0YqTQHk8nEhAkTzvl53xr3F1WANLPFixezd+9e3n33XRYuXMgrr7zC6tWra61XUlLCnXfeyaBBg1ixYgVxcXHMnj2bkpISB0QtTaG+uZCUlMTcuXO55pprWLlyJdOnT+fee+8lKSnJAVGLvdU3D35p0aJF+ixoY+qbB4WFhcyaNYuePXvy6aefMnbsWObOncupU6ccELU0hfrmQnJyMr/73e+YPXs2n3zyCTExMcyePZvS0lIHRC1Noby8nAceeIDk5OSzrtNq9xet0myKi4ut/fv3t27evNm27NVXX7XedNNNtdb96KOPrKNHj7ZaLBar1Wq1WiwW69ixY63Lly9vtnil6TQkF55//nnrbbfdVmPZrFmzrH/5y1+aPE5pWg3Jg2qffPKJdfr06daoqKga20nr1ZA8ePfdd61jxoyxms1m27Jp06ZZv/7662aJVZpWQ3Lh73//u3Xq1Km2x4WFhdaoqCjr7t27myVWaVrJycnWSZMmWSdOnHjOz/vWur+oMyDNKCkpCbPZTFxcnG1ZQkICu3btwmKx1Fh3165dJCQkYDAYADAYDMTHx7Nz587mDFmaSENyYerUqfz+97+v1UZhYWGTxylNqyF5AJCXl8fzzz/P448/3pxhShNrSB5s3bqVyy+/HCcnJ9uy5cuXc+mllzZbvNJ0GpIL/v7+HD58mO3bt2OxWFixYgXe3t506dKlucOWJrB161aGDh3Kf/7zn3Ou11r3F50dHUB7kp2dTUBAAK6urrZlwcHBlJeXk5+fT2BgYI11e/bsWWP7oKCgc56Gk9ajIbkQGRlZY9vk5GQ2bdrE9OnTmy1eaRoNyQOAZ599lqlTp9KrV6/mDlWaUEPyID09nQEDBvDII4+wYcMGIiIiePDBB0lISHBE6GJnDcmFq666ig0bNjBjxgycnJwwGo288cYb+Pn5OSJ0sbMZM2bUa73Wur+oMyDNqLS0tMaHCmB7bDKZ6rXur9eT1qkhufBLubm53HPPPcTHx3P55Zc3aYzS9BqSBz/88APbt2/nrrvuarb4pHk0JA9KSkp48803CQkJYenSpQwePJjbbruN48ePN1u80nQakgt5eXlkZ2fz6KOP8uGHHzJ58mTmz5+v+UDtTGvdX1QB0ozc3NxqJUT1Y3d393qt++v1pHVqSC5Uy8nJ4ZZbbsFqtfLyyy9jNOrPt7Wrbx6UlZXx6KOPsnDhQn0GtEEN+TxwcnIiJiaGefPm0adPH/7whz/QrVs3Pvnkk2aLV5pOQ3LhhRdeICoqihtvvJF+/frxxBNP4OHhwfLly5stXnG81rq/qD2YZhQaGkpeXh5ms9m2LDs7G3d3d3x9fWutm5OTU2NZTk4OHTp0aJZYpWk1JBcAsrKyuPHGGzGZTCxbtqzW0BxpneqbB7t37yY9PZ158+YRFxdnGx9+xx138OijjzZ73GJfDfk8CAkJoUePHjWWdevWTWdA2oiG5MK+ffuIjo62PTYajURHR5OZmdls8Yrjtdb9RRUgzSgmJgZnZ+caE4O2b99O//79ax3Njo2NZceOHVitVgCsViuJiYnExsY2Z8jSRBqSCyUlJdx+++0YjUbef/99QkNDmzlaaSr1zYMBAwbw5ZdfsnLlSts/gCeffJJ77723maMWe2vI58HAgQM5ePBgjWVHjhwhIiKiOUKVJtaQXOjQoQMpKSk1lqWmptKpU6fmCFVaiNa6v6gCpBl5eHgwZcoUFi1axO7du1m3bh3vvPMON998M1B1lKOsrAyAcePGUVBQwFNPPcXhw4d56qmnKC0tZfz48Y58CWInDcmFN954g6NHj/Lcc8/ZnsvOztZVsNqA+uaBu7s7Xbt2rfEPqo58BQUFOfIliB005PNg+vTpHDx4kCVLlpCWlsZLL71Eeno6kydPduRLEDtpSC5cf/31fPjhh6xcuZK0tDReeOEFMjMzmTp1qiNfgjSDNrG/6NCLALdDJSUl1j/+8Y/WgQMHWkeMGGH9+9//bnsuKiqqxnWbd+3aZZ0yZYq1f//+1muvvda6b98+B0QsTaW+uXDllVdao6Kiav178MEHHRS52FNDPhN+SfcBaVsakgfbtm2zTp061dqvXz/r5MmTrVu3bnVAxNJUGpILH374oXXcuHHWgQMHWm+44Qbr3r17HRCxNLVff963hf1Fg9V65pyNiIiIiIhIE9MQLBERERERaTYqQEREREREpNmoABERERERkWajAkRERERERJqNChAREREREWk2KkBERERERKTZqAAREREREZFmowJERERERESajQoQEREHM5vNvPvuu0ybNo24uDiGDRvGrFmz2Lx5s13a/+qrrzh8+HC91585cyYPPfRQvdfPy8vjo48+akxo9fa3v/2NIUOGEBcXx549e84bQ0NfQ0uyYsUKevfu3WTri4g4mgoQEREHKi8v5+abb+Yf//gHM2fO5OOPP+Yf//gHkZGR/Pa3v+XTTz+9oPaPHTvGnDlzOHXqVL23WbJkCQsWLKj3+osXL2bVqlWNCa9eCgsLeemll5gxYwafffYZ0dHRzR6DiIjYj7OjAxARac9eeuklDh48yGeffUZ4eLht+YIFCygqKuLJJ59k9OjReHl5Nap9q9Xa4G38/f2bvI+GKCgowGq1MmzYMCIiIhwSg4iI2I/OgIiIOEhFRQXLly9n2rRpNYqPavfddx9Lly7F3d0dqDoT8MgjjzBs2DASEhK4+eabawxHWrJkCTfddBP3338/8fHxzJkzh8svvxyAm2++mSVLlgCwbt06rrvuOgYOHEj//v2ZNm0a3333na2dXw5fWrFiBWPHjrX97NevH9OmTWP79u0APPTQQ3z88cds3bqV3r17s27dOqKjozl27FiN1/Kb3/yG5557rs73oaysjBdffJHLL7+c/v37M3nyZNasWQPAli1bGD16NAC33HILM2fOrLX9r2OoVlxczPz58xk0aBAJCQk89NBDlJSU2J5PSUnhjjvuIC4ujhEjRvC73/2O7OzsOmOsfn9vvfVWXnnlFS6++GLi4uJ49NFHOX78OLNnzyY2NpaxY8fy9ddf1+u1VVu7di0TJ06kf//+zJgxg8zMzBrPm0wmnn/+eUaOHElcXBzXX389GzduPGucIiItnQoQEREHSU9PJz8/n/j4+DqfDw0NZcCAATg5OWG1WrnjjjtIT0/njTfe4MMPP2TgwIHccMMN7N+/37bNjz/+SHBwMJ988gl//OMfbfMilixZwqxZs9i7dy/33HMPV199NZ9++ikffvghgYGB/PGPf8RkMtUZx/Hjx/n3v//N888/z8cff4yHhwcPPfQQVquVBQsWMH78eOLi4ti4cSOXXXYZgYGBfPLJJ7btU1NT2blzJ9dcc02d7T/wwAOsXLmSRx55hFWrVjFmzBjuvfde1q1bR1xcXI3XUF1E/dKvY6j25Zdf0qFDB1asWMHixYv54osvWLp0KQBZWVnMmDGDrl278t///pfXX3+doqIifvOb39QoUn5t27ZtpKam8s9//pOHH36Y//znP1x77bWMHz+eFStWEBkZaXtvzvfaABITE7nnnnu48sorWbVqFVOnTuXNN9+s0ef8+fP5/vvveeGFF/j4448ZP348c+bMqVHoiIi0JhqCJSLiIKdPnwbAz8/vvOtu3ryZnTt3snnzZtsQqQceeIDExESWLVvGs88+a1t33rx5+Pj4AJCRkWHrw8vLCycnJx555BFmzJhhW//mm2/mjjvu4NSpU3WeiamoqOCxxx4jJiYGgN/+9rfcfffdZGdn06FDB9zd3XFxcSEkJASAyZMn88knn3DXXXcBsHLlSvr370/Pnj1rtZ2SksL69et5/fXXueyyywC45557SEpK4vXXX2fMmDEEBgbaXkNdw8N8fHxqxQAwYMAA7r//fgC6dOnC8OHD2bt3LwAffPABYWFhPPzww7b1X3zxRYYNG8bq1auZNm1anf8PFouFxx57DG9vb7p3787zzz/PsGHDmDJlCgA33HADX331FdnZ2RQWFp73tb3//vvEx8czd+5cALp3786hQ4dYtmwZAGlpaXz22WesXLmyxvuflJTE22+/bWtXRKQ1UQEiIuIg1TvW+fn551133759WK1WRo0aVWO5yWSivLzc9jgoKMhWfNQlJiYGPz8/3nzzTY4cOUJaWhpJSUkAVFZWnnW7yMhI2+/V7VdUVNS57jXXXMM777zDrl27GDBgAKtWreKOO+6oc92DBw8CkJCQUGP54MGD+ctf/nLWeOqjW7duNR77+fnZhobt37+f5ORk4uLiaqxTXl5OSkrKWdsMCgrC29vb9tjT05MuXbrYHlcPlzOZTPV6bYcOHWL48OE1no+Li7MVINVnt35ZMELVe+/r63vWOEVEWjIVICIiDtK5c2eCg4NJTEzkqquuqvV8SkoKTz31FPPnz8diseDt7c2KFStqrefq6mr7vXoH+Gy2bt3KbbfdxmWXXUZCQgITJ06ktLSUu++++5zb/bKPameb+N2zZ09iY2NZtWoVZWVl5OTkMGHChHO2X1fbzs4X9hXl5OR01ucsFgvDhg1j4cKFtZ47VwHn4uJSa5nR2LDRzL98bQaDAYvFctY+qt/jf/7zn7UuRNDQfkVEWgp9eomIOIjRaOTaa69lxYoVHD9+vNbzb731Fnv27CEiIoKoqCiKioqoqKiga9eutn9Lly5l/fr1Z+3DYDDUePzOO+8wdOhQ24Tq4cOH2/pu7JWkft0HVJ0FWbduHatXr2bMmDFnPVpfPWm8elJ7tW3bttU5ZKshMZxLr169SElJITw83PZe+vn58fTTT3Po0KEGtXU29Xlt0dHR7Nixo8bz1cPEquMEyM7OrvH/vmLFijqLURGR1kAFiIiIA82ZM4du3boxY8YMVq5cydGjR9m9ezfz589n5cqVPPHEE3h6ejJy5EhiYmK4//772bx5M2lpaTzzzDO2ic9n4+npCVQN9SksLCQ8PJyDBw+ybds2MjIyWL58OS+99BLAWSehn4+npycnT54kPT3dtuzqq6/m9OnTrFixgqlTp55128jISEaNGsVjjz3G119/TWpqKq+88grr169n1qxZFxTDucyYMYPCwkJ+//vfk5SURFJSEvfffz979uwhKiqq3v2eS31e26xZs0hKSuK5554jNTWVVatW8f7779va6NWrF6NGjWLhwoVs2LCB9PR0li5dyhtvvFFj6JeISGuiAkRExIE8PDx4//33ueaaa1i6dCmTJ09m9uzZnDx5kvfee49x48YBVcOJ3nnnHfr168d9993HpEmT+PHHH3nllVe46KKLztp+QEAA11xzDYsXL+all15i3rx5DBw4kDlz5jBlyhQ++ugjnn76adzd3eu8w3h9TJkyhdLSUiZMmEBWVhYA3t7ejBkzBj8/v1pzHH7tL3/5C2PGjGHBggVMmjSJr776iiVLlthee2NjOJfOnTvz/vvvU1xczA033MBNN92Ei4sLy5Yts83NsYfzvbaYmBiWLl3Kli1bmDRpEv/4xz+YM2dOjTb++te/csUVV/Doo49y1VVXsXLlSp566qlzFnYiIi2Zwaq7N4mISBOYOXMm8fHxtitRiYiIgCahi4iIna1bt44DBw6wc+dOFi9e7OhwRESkhVEBIiIidvXWW2+RmprKE088Ued9RUREpH3TECwREREREWk2moQuIiIiIiLNRgWIiIiIiIg0GxUgIiIiIiLSbFSAiIiIiIhIs1EBIiIiIiIizUYFiIiIiIiINBsVICIiIiIi0mxUgIiIiIiISLNRASIiIiIiIs1GBYiIiIiIiDQbFSAiIiIiItJsVICIiIiIiEizUQEiIiIiIiLNRgWIiIiIiIg0m/8HdEXzqux9XocAAAAASUVORK5CYII=' width=800.0/>\n",
       "            </div>\n",
       "        "
      ],
      "text/plain": [
       "Canvas(toolbar=Toolbar(toolitems=[('Home', 'Reset original view', 'home', 'home'), ('Back', 'Back to previous …"
      ]
     },
     "metadata": {},
     "output_type": "display_data"
    }
   ],
   "source": [
    "%matplotlib ipympl\n",
    "#%matplotlib inline\n",
    "fig, ax = plt.subplots(2,1)\n",
    "ax[0].plot(x, y, label='Accuracy')\n",
    "#plt.plot(x, n_1_l)\n",
    "#plt.plot(x, np.gradient(n_1_l))\n",
    "ax[0].plot(x, np.gradient(y), label='Deriviative of Accuracy')\n",
    "ax[0].set_xlabel('Certainty of the model')\n",
    "ax[0].set_ylabel('Right predicts/All predicts')\n",
    "ax[0].legend()\n",
    "ax[1].plot(x, n_1_l, label='N')\n",
    "ax[1].plot(x, np.gradient(n_1_l), label='Deriviative of N')\n",
    "ax[1].set_xlabel('Certainty of the model')\n",
    "ax[1].set_ylabel('N right predicts')\n",
    "ax[1].legend()\n",
    "plt.style.use('seaborn')\n",
    "fig.tight_layout()"
   ]
  },
  {
   "cell_type": "code",
   "execution_count": 23,
   "id": "ca214588-5437-47aa-ae61-3cf1ebdce7d7",
   "metadata": {},
   "outputs": [],
   "source": [
    "fig.savefig('prediction_analysis.png')"
   ]
  },
  {
   "cell_type": "markdown",
   "id": "5022f21c-c2c7-413f-b790-2a500541f9ec",
   "metadata": {},
   "source": [
    "## Inserting with custom data"
   ]
  },
  {
   "cell_type": "code",
   "execution_count": 53,
   "id": "877716b4-8a8d-44cc-9379-40d6d2f2c1d1",
   "metadata": {},
   "outputs": [
    {
     "name": "stdout",
     "output_type": "stream",
     "text": [
      "1/1 [==============================] - 0s 26ms/step\n",
      "14/14 [==============================] - 0s 927us/step\n",
      "36.63\n"
     ]
    }
   ],
   "source": [
    "test_input = [3,1,0,0,0,0]\n",
    "def get_potential_survive_chance(input):\n",
    "    input = np.array(input)\n",
    "    input.resize(1,6)\n",
    "    prediction = model.predict(input)\n",
    "    prediction = prediction[0,0]\n",
    "    chance = test_y[get_predicted_survivors(prediction)].mean()\n",
    "    if chance == np.nan:\n",
    "        chance = prediction\n",
    "    return np.round(chance*100, 2)\n",
    "print(get_potential_survive_chance(test_input))"
   ]
  },
  {
   "cell_type": "code",
   "execution_count": null,
   "id": "6c0d89a0-0b49-4d63-8943-bd760b3b9a16",
   "metadata": {},
   "outputs": [],
   "source": []
  }
 ],
 "metadata": {
  "kernelspec": {
   "display_name": "GPU",
   "language": "python",
   "name": "gpu"
  },
  "language_info": {
   "codemirror_mode": {
    "name": "ipython",
    "version": 3
   },
   "file_extension": ".py",
   "mimetype": "text/x-python",
   "name": "python",
   "nbconvert_exporter": "python",
   "pygments_lexer": "ipython3",
   "version": "3.10.6"
  }
 },
 "nbformat": 4,
 "nbformat_minor": 5
}
