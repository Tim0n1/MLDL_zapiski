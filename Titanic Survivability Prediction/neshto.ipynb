{
 "cells": [
  {
   "cell_type": "code",
   "execution_count": 1,
   "id": "eedae08f-5683-4023-ae4b-eba989c8aad5",
   "metadata": {},
   "outputs": [
    {
     "name": "stdout",
     "output_type": "stream",
     "text": [
      "2.10.0\n",
      "2.10.0\n"
     ]
    }
   ],
   "source": [
    "%matplotlib ipympl\n",
    "%matplotlib inline\n",
    "import numpy as np\n",
    "import matplotlib.pyplot as plt\n",
    "import tensorflow as tf\n",
    "import pandas as pd\n",
    "import keras\n",
    "print(tf. __version__)\n",
    "print(keras.__version__)"
   ]
  },
  {
   "cell_type": "code",
   "execution_count": 2,
   "id": "069aae80-5f2c-44d9-b02b-fb9b3fee6c8c",
   "metadata": {},
   "outputs": [],
   "source": [
    "train_url = 'https://raw.githubusercontent.com/Tim0n1/MLDL_zapiski/master/train.csv'\n",
    "test_url_X = 'https://raw.githubusercontent.com/Tim0n1/MLDL_zapiski/master/test.csv'\n",
    "test_url_y = 'https://raw.githubusercontent.com/Tim0n1/MLDL_zapiski/master/gender_submission.csv'"
   ]
  },
  {
   "cell_type": "code",
   "execution_count": 3,
   "id": "a0a3730d-acea-4848-87d3-bd0e2936e6e1",
   "metadata": {},
   "outputs": [],
   "source": [
    "train_df = pd.read_csv(train_url)\n",
    "testX_df = pd.read_csv(test_url_X)\n",
    "testy_df = pd.read_csv(test_url_y)"
   ]
  },
  {
   "cell_type": "code",
   "execution_count": 4,
   "id": "4da843eb-421d-403c-a2ad-994b5131eba6",
   "metadata": {},
   "outputs": [
    {
     "name": "stdout",
     "output_type": "stream",
     "text": [
      "(891, 6)\n",
      "(891,)\n",
      "     Pclass  Sex   Age  SibSp  Parch Cabin\n",
      "0         3    1  34.5      0      0     0\n",
      "1         3    0  47.0      1      0     0\n",
      "2         2    1  62.0      0      0     0\n",
      "3         3    1  27.0      0      0     0\n",
      "4         3    0  22.0      1      1     0\n",
      "..      ...  ...   ...    ...    ...   ...\n",
      "413       3    1   0.0      0      0     0\n",
      "414       1    0  39.0      0      0     1\n",
      "415       3    1  38.5      0      0     0\n",
      "416       3    1   0.0      0      0     0\n",
      "417       3    1   0.0      1      1     0\n",
      "\n",
      "[418 rows x 6 columns]\n"
     ]
    }
   ],
   "source": [
    "\n",
    "train_X = train_df.drop(columns=['Survived','PassengerId','Name','Ticket', 'Embarked','Fare'])\n",
    "train_X.loc[train_X['Sex'] == 'male' , ['Sex']] = 1\n",
    "train_X.loc[train_X['Sex'] == 'female' , ['Sex']] = 0\n",
    "train_X = train_X.fillna(0)\n",
    "train_X.loc[train_X['Cabin'] != 0, ['Cabin']] = 1\n",
    "print(train_X.shape)\n",
    "train_y = train_df['Survived']\n",
    "print(train_y.shape)\n",
    "test_X = testX_df.drop(columns=['PassengerId','Name','Ticket', 'Embarked','Fare'])\n",
    "test_X.loc[test_X['Sex'] == 'male' , ['Sex']] = 1\n",
    "test_X.loc[test_X['Sex'] == 'female' , ['Sex']] = 0\n",
    "test_X = test_X.fillna(0)\n",
    "test_X.loc[test_X['Cabin'] != 0, ['Cabin']] = 1\n",
    "print(test_X)\n",
    "test_y = testy_df['Survived']"
   ]
  },
  {
   "cell_type": "code",
   "execution_count": 5,
   "id": "2836459a-fb1f-47ad-9117-bdda3731d96e",
   "metadata": {},
   "outputs": [],
   "source": [
    "input_shape = train_X.shape"
   ]
  },
  {
   "cell_type": "code",
   "execution_count": 6,
   "id": "07c0a4ff-d668-4c81-bc78-56b7ea9d21d1",
   "metadata": {},
   "outputs": [
    {
     "data": {
      "text/plain": [
       "array([0, 1, 0, 0, 1, 0, 1, 0, 1, 0, 0, 0, 1, 0, 1, 1, 0, 0, 1, 1, 0, 0,\n",
       "       1, 0, 1, 0, 1, 0, 0, 0, 0, 0, 1, 1, 0, 0, 1, 1, 0, 0, 0, 0, 0, 1,\n",
       "       1, 0, 0, 0, 1, 1, 0, 0, 1, 1, 0, 0, 0, 0, 0, 1, 0, 0, 0, 1, 0, 1,\n",
       "       1, 0, 0, 1, 1, 0, 1, 0, 1, 0, 0, 1, 0, 1, 0, 0, 0, 0, 0, 0, 1, 1,\n",
       "       1, 0, 1, 0, 1, 0, 0, 0, 1, 0, 1, 0, 1, 0, 0, 0, 1, 0, 0, 0, 0, 0,\n",
       "       0, 1, 1, 1, 1, 0, 0, 1, 0, 1, 1, 0, 1, 0, 0, 1, 0, 1, 0, 0, 0, 0,\n",
       "       1, 0, 0, 0, 0, 0, 1, 0, 1, 1, 0, 0, 0, 0, 0, 0, 0, 0, 1, 0, 0, 1,\n",
       "       0, 0, 1, 1, 0, 1, 1, 0, 1, 0, 0, 1, 0, 0, 1, 1, 0, 0, 0, 0, 0, 1,\n",
       "       1, 0, 1, 1, 0, 0, 1, 0, 1, 0, 1, 0, 1, 0, 0, 0, 0, 0, 0, 0, 0, 1,\n",
       "       0, 1, 1, 0, 0, 1, 0, 0, 1, 0, 1, 0, 0, 0, 0, 1, 1, 0, 1, 0, 1, 0,\n",
       "       1, 0, 1, 0, 1, 1, 0, 1, 0, 0, 0, 1, 0, 0, 0, 0, 0, 0, 1, 1, 1, 1,\n",
       "       0, 0, 0, 0, 1, 0, 1, 1, 1, 0, 0, 0, 0, 0, 0, 0, 1, 0, 0, 0, 1, 1,\n",
       "       0, 0, 0, 0, 1, 0, 0, 0, 1, 1, 0, 1, 0, 0, 0, 0, 1, 0, 1, 1, 1, 0,\n",
       "       0, 0, 0, 0, 0, 1, 0, 0, 0, 0, 1, 0, 0, 0, 0, 0, 0, 0, 1, 1, 0, 0,\n",
       "       0, 1, 0, 0, 0, 1, 1, 1, 0, 0, 0, 0, 0, 0, 0, 0, 1, 0, 1, 0, 0, 0,\n",
       "       1, 0, 0, 1, 0, 0, 0, 0, 0, 0, 0, 0, 0, 1, 0, 1, 0, 1, 0, 1, 1, 0,\n",
       "       0, 0, 1, 0, 1, 0, 0, 1, 0, 1, 1, 0, 1, 1, 0, 1, 1, 0, 0, 1, 0, 0,\n",
       "       1, 1, 1, 0, 0, 0, 0, 0, 1, 1, 0, 1, 0, 0, 0, 0, 0, 1, 0, 0, 0, 1,\n",
       "       0, 1, 0, 0, 1, 0, 1, 0, 0, 0, 0, 0, 1, 1, 1, 1, 1, 0, 1, 0, 0, 0],\n",
       "      dtype=int64)"
      ]
     },
     "execution_count": 6,
     "metadata": {},
     "output_type": "execute_result"
    }
   ],
   "source": [
    "train_X.to_numpy()\n",
    "train_y.to_numpy()\n",
    "test_X.to_numpy()\n",
    "test_y.to_numpy()"
   ]
  },
  {
   "cell_type": "code",
   "execution_count": 7,
   "id": "73c0301f-0221-40f3-901e-e26bf5d14cc3",
   "metadata": {},
   "outputs": [],
   "source": [
    "train_X = np.asarray(train_X).astype(np.float32)\n",
    "train_y = np.asarray(train_y).astype(np.float32)\n",
    "test_X = np.asarray(test_X).astype(np.float32)\n",
    "test_y = np.asarray(test_y).astype(np.float32)"
   ]
  },
  {
   "cell_type": "code",
   "execution_count": 8,
   "id": "f5a5d491-2ab1-4f2a-aede-cd436c0a6258",
   "metadata": {},
   "outputs": [
    {
     "name": "stdout",
     "output_type": "stream",
     "text": [
      "[[ 3.  1. 22.  1.  0.  0.]\n",
      " [ 1.  0. 38.  1.  0.  1.]\n",
      " [ 3.  0. 26.  0.  0.  0.]\n",
      " ...\n",
      " [ 3.  0.  0.  1.  2.  0.]\n",
      " [ 1.  1. 26.  0.  0.  1.]\n",
      " [ 3.  1. 32.  0.  0.  0.]]\n",
      "891\n"
     ]
    }
   ],
   "source": [
    "print((train_X))\n",
    "print(len(train_y))"
   ]
  },
  {
   "cell_type": "code",
   "execution_count": 9,
   "id": "08b07fd2-7461-42c6-9835-f6833a2df820",
   "metadata": {},
   "outputs": [],
   "source": [
    "train_X = train_X.reshape(891,6)\n",
    "train_y = train_y.reshape(891)\n",
    "test_X = test_X.reshape(418,6)\n",
    "test_y = test_y.reshape(418)"
   ]
  },
  {
   "cell_type": "code",
   "execution_count": 10,
   "id": "1b5ec737-1f14-4d3c-9017-45082d52dcf1",
   "metadata": {},
   "outputs": [
    {
     "data": {
      "text/plain": [
       "((891, 6), (891,))"
      ]
     },
     "execution_count": 10,
     "metadata": {},
     "output_type": "execute_result"
    }
   ],
   "source": [
    "train_X.shape, train_y.shape"
   ]
  },
  {
   "cell_type": "code",
   "execution_count": 11,
   "id": "49417027-922d-4b25-a32b-8d70d571ad17",
   "metadata": {},
   "outputs": [
    {
     "data": {
      "text/plain": [
       "((418, 6), (418,))"
      ]
     },
     "execution_count": 11,
     "metadata": {},
     "output_type": "execute_result"
    }
   ],
   "source": [
    "test_X.shape, test_y.shape"
   ]
  },
  {
   "cell_type": "code",
   "execution_count": 12,
   "id": "98dc5df2-2518-4b60-9e20-143cb641d2b4",
   "metadata": {},
   "outputs": [],
   "source": [
    "model = keras.Sequential()\n",
    "model.add(keras.layers.Dense(16, input_dim=train_X.shape[1], activation='relu'))\n",
    "model.add(keras.layers.Dense(8, activation='relu'))\n",
    "model.add(keras.layers.Dense(4, activation='relu'))\n",
    "model.add(keras.layers.Dense(1, activation='sigmoid'))"
   ]
  },
  {
   "cell_type": "code",
   "execution_count": 13,
   "id": "4fad87b4-e122-4fc2-a862-2d7da95cd270",
   "metadata": {},
   "outputs": [],
   "source": [
    "model.compile(loss='binary_crossentropy', optimizer='adam', metrics=['accuracy'])"
   ]
  },
  {
   "cell_type": "code",
   "execution_count": 14,
   "id": "2fa1455e-b3ce-4368-ad12-9cfa61ca2cd9",
   "metadata": {},
   "outputs": [
    {
     "name": "stdout",
     "output_type": "stream",
     "text": [
      "Epoch 1/50\n",
      "149/149 [==============================] - 1s 3ms/step - loss: 1.1073 - accuracy: 0.6117 - val_loss: 0.6436 - val_accuracy: 0.6340\n",
      "Epoch 2/50\n",
      "149/149 [==============================] - 0s 1ms/step - loss: 0.6390 - accuracy: 0.6240 - val_loss: 0.6179 - val_accuracy: 0.7488\n",
      "Epoch 3/50\n",
      "149/149 [==============================] - 0s 1ms/step - loss: 0.6143 - accuracy: 0.6588 - val_loss: 0.5904 - val_accuracy: 0.7584\n",
      "Epoch 4/50\n",
      "149/149 [==============================] - 0s 1ms/step - loss: 0.6011 - accuracy: 0.6667 - val_loss: 0.5686 - val_accuracy: 0.7344\n",
      "Epoch 5/50\n",
      "149/149 [==============================] - 0s 1ms/step - loss: 0.5754 - accuracy: 0.6914 - val_loss: 0.5497 - val_accuracy: 0.6986\n",
      "Epoch 6/50\n",
      "149/149 [==============================] - 0s 1ms/step - loss: 0.5567 - accuracy: 0.7228 - val_loss: 0.5096 - val_accuracy: 0.7584\n",
      "Epoch 7/50\n",
      "149/149 [==============================] - 0s 1ms/step - loss: 0.5360 - accuracy: 0.7284 - val_loss: 0.4803 - val_accuracy: 0.7679\n",
      "Epoch 8/50\n",
      "149/149 [==============================] - 0s 1ms/step - loss: 0.5101 - accuracy: 0.7621 - val_loss: 0.4596 - val_accuracy: 0.7679\n",
      "Epoch 9/50\n",
      "149/149 [==============================] - 0s 1ms/step - loss: 0.4928 - accuracy: 0.7722 - val_loss: 0.4267 - val_accuracy: 0.8014\n",
      "Epoch 10/50\n",
      "149/149 [==============================] - 0s 2ms/step - loss: 0.4831 - accuracy: 0.7856 - val_loss: 0.4093 - val_accuracy: 0.7895\n",
      "Epoch 11/50\n",
      "149/149 [==============================] - 0s 1ms/step - loss: 0.4655 - accuracy: 0.7811 - val_loss: 0.3745 - val_accuracy: 0.8493\n",
      "Epoch 12/50\n",
      "149/149 [==============================] - 0s 1ms/step - loss: 0.4542 - accuracy: 0.7969 - val_loss: 0.3618 - val_accuracy: 0.8301\n",
      "Epoch 13/50\n",
      "149/149 [==============================] - 0s 1ms/step - loss: 0.4489 - accuracy: 0.8025 - val_loss: 0.3439 - val_accuracy: 0.8708\n",
      "Epoch 14/50\n",
      "149/149 [==============================] - 0s 1ms/step - loss: 0.4500 - accuracy: 0.8171 - val_loss: 0.3360 - val_accuracy: 0.8206\n",
      "Epoch 15/50\n",
      "149/149 [==============================] - 0s 1ms/step - loss: 0.4576 - accuracy: 0.7969 - val_loss: 0.3821 - val_accuracy: 0.7775\n",
      "Epoch 16/50\n",
      "149/149 [==============================] - 0s 1ms/step - loss: 0.4422 - accuracy: 0.8148 - val_loss: 0.3243 - val_accuracy: 0.8852\n",
      "Epoch 17/50\n",
      "149/149 [==============================] - 0s 1ms/step - loss: 0.4357 - accuracy: 0.8171 - val_loss: 0.3497 - val_accuracy: 0.8732\n",
      "Epoch 18/50\n",
      "149/149 [==============================] - 0s 1ms/step - loss: 0.4404 - accuracy: 0.8058 - val_loss: 0.3193 - val_accuracy: 0.9139\n",
      "Epoch 19/50\n",
      "149/149 [==============================] - 0s 1ms/step - loss: 0.4382 - accuracy: 0.8260 - val_loss: 0.3029 - val_accuracy: 0.9426\n",
      "Epoch 20/50\n",
      "149/149 [==============================] - 0s 1ms/step - loss: 0.4259 - accuracy: 0.8283 - val_loss: 0.3786 - val_accuracy: 0.8636\n",
      "Epoch 21/50\n",
      "149/149 [==============================] - 0s 1ms/step - loss: 0.4225 - accuracy: 0.8260 - val_loss: 0.3031 - val_accuracy: 0.9354\n",
      "Epoch 22/50\n",
      "149/149 [==============================] - 0s 1ms/step - loss: 0.4243 - accuracy: 0.8260 - val_loss: 0.3084 - val_accuracy: 0.9569\n",
      "Epoch 23/50\n",
      "149/149 [==============================] - 0s 1ms/step - loss: 0.4255 - accuracy: 0.8137 - val_loss: 0.3246 - val_accuracy: 0.8756\n",
      "Epoch 24/50\n",
      "149/149 [==============================] - 0s 1ms/step - loss: 0.4362 - accuracy: 0.8137 - val_loss: 0.3045 - val_accuracy: 0.9474\n",
      "Epoch 25/50\n",
      "149/149 [==============================] - 0s 1ms/step - loss: 0.4277 - accuracy: 0.8171 - val_loss: 0.3062 - val_accuracy: 0.9330\n",
      "Epoch 26/50\n",
      "149/149 [==============================] - 0s 1ms/step - loss: 0.4161 - accuracy: 0.8294 - val_loss: 0.3071 - val_accuracy: 0.9498\n",
      "Epoch 27/50\n",
      "149/149 [==============================] - 0s 1ms/step - loss: 0.4146 - accuracy: 0.8272 - val_loss: 0.3012 - val_accuracy: 0.9545\n",
      "Epoch 28/50\n",
      "149/149 [==============================] - 0s 1ms/step - loss: 0.4204 - accuracy: 0.8272 - val_loss: 0.3407 - val_accuracy: 0.8612\n",
      "Epoch 29/50\n",
      "149/149 [==============================] - 0s 1ms/step - loss: 0.4203 - accuracy: 0.8215 - val_loss: 0.3122 - val_accuracy: 0.9498\n",
      "Epoch 30/50\n",
      "149/149 [==============================] - 0s 1ms/step - loss: 0.4214 - accuracy: 0.8249 - val_loss: 0.3209 - val_accuracy: 0.9019\n",
      "Epoch 31/50\n",
      "149/149 [==============================] - 0s 1ms/step - loss: 0.4128 - accuracy: 0.8294 - val_loss: 0.3054 - val_accuracy: 0.9402\n",
      "Epoch 32/50\n",
      "149/149 [==============================] - 0s 1ms/step - loss: 0.4164 - accuracy: 0.8294 - val_loss: 0.3044 - val_accuracy: 0.9330\n",
      "Epoch 33/50\n",
      "149/149 [==============================] - 0s 1ms/step - loss: 0.4127 - accuracy: 0.8294 - val_loss: 0.3252 - val_accuracy: 0.9354\n",
      "Epoch 34/50\n",
      "149/149 [==============================] - 0s 1ms/step - loss: 0.4099 - accuracy: 0.8328 - val_loss: 0.3397 - val_accuracy: 0.8660\n",
      "Epoch 35/50\n",
      "149/149 [==============================] - 0s 2ms/step - loss: 0.4170 - accuracy: 0.8350 - val_loss: 0.3232 - val_accuracy: 0.9498\n",
      "Epoch 36/50\n",
      "149/149 [==============================] - 0s 2ms/step - loss: 0.4091 - accuracy: 0.8215 - val_loss: 0.3261 - val_accuracy: 0.9163\n",
      "Epoch 37/50\n",
      "149/149 [==============================] - 0s 1ms/step - loss: 0.4214 - accuracy: 0.8103 - val_loss: 0.3518 - val_accuracy: 0.8636\n",
      "Epoch 38/50\n",
      "149/149 [==============================] - 0s 1ms/step - loss: 0.4060 - accuracy: 0.8339 - val_loss: 0.3184 - val_accuracy: 0.9426\n",
      "Epoch 39/50\n",
      "149/149 [==============================] - 0s 1ms/step - loss: 0.4060 - accuracy: 0.8260 - val_loss: 0.3233 - val_accuracy: 0.9187\n",
      "Epoch 40/50\n",
      "149/149 [==============================] - 0s 1ms/step - loss: 0.4099 - accuracy: 0.8204 - val_loss: 0.3366 - val_accuracy: 0.9402\n",
      "Epoch 41/50\n",
      "149/149 [==============================] - 0s 1ms/step - loss: 0.4027 - accuracy: 0.8260 - val_loss: 0.3300 - val_accuracy: 0.9474\n",
      "Epoch 42/50\n",
      "149/149 [==============================] - 0s 1ms/step - loss: 0.4088 - accuracy: 0.8305 - val_loss: 0.3316 - val_accuracy: 0.9450\n",
      "Epoch 43/50\n",
      "149/149 [==============================] - 0s 1ms/step - loss: 0.4080 - accuracy: 0.8316 - val_loss: 0.3508 - val_accuracy: 0.8780\n",
      "Epoch 44/50\n",
      "149/149 [==============================] - 0s 1ms/step - loss: 0.4064 - accuracy: 0.8272 - val_loss: 0.3408 - val_accuracy: 0.9426\n",
      "Epoch 45/50\n",
      "149/149 [==============================] - 0s 1ms/step - loss: 0.4181 - accuracy: 0.8215 - val_loss: 0.3809 - val_accuracy: 0.8589\n",
      "Epoch 46/50\n",
      "149/149 [==============================] - 0s 1ms/step - loss: 0.4076 - accuracy: 0.8260 - val_loss: 0.3346 - val_accuracy: 0.9498\n",
      "Epoch 47/50\n",
      "149/149 [==============================] - 0s 1ms/step - loss: 0.4022 - accuracy: 0.8249 - val_loss: 0.3957 - val_accuracy: 0.8565\n",
      "Epoch 48/50\n",
      "149/149 [==============================] - 0s 2ms/step - loss: 0.4101 - accuracy: 0.8227 - val_loss: 0.3667 - val_accuracy: 0.8660\n",
      "Epoch 49/50\n",
      "149/149 [==============================] - 0s 1ms/step - loss: 0.4025 - accuracy: 0.8249 - val_loss: 0.3987 - val_accuracy: 0.8589\n",
      "Epoch 50/50\n",
      "149/149 [==============================] - 0s 1ms/step - loss: 0.4077 - accuracy: 0.8316 - val_loss: 0.3464 - val_accuracy: 0.9354\n"
     ]
    },
    {
     "data": {
      "text/plain": [
       "<keras.callbacks.History at 0x28c9d98da50>"
      ]
     },
     "execution_count": 14,
     "metadata": {},
     "output_type": "execute_result"
    }
   ],
   "source": [
    "model.fit(train_X, train_y, epochs=50,batch_size=6, validation_data=(test_X, test_y), verbose=1)"
   ]
  },
  {
   "cell_type": "code",
   "execution_count": 15,
   "id": "521b21a7-e8e9-45a5-9693-49c1551c6858",
   "metadata": {},
   "outputs": [
    {
     "name": "stdout",
     "output_type": "stream",
     "text": [
      "INFO:tensorflow:Assets written to: model_data\\assets\n"
     ]
    }
   ],
   "source": [
    "model.save('model_data')"
   ]
  },
  {
   "cell_type": "code",
   "execution_count": 16,
   "id": "4bb26581-85de-4deb-a9cc-29633ba9d823",
   "metadata": {},
   "outputs": [],
   "source": [
    "model = keras.models.load_model('model_data')"
   ]
  },
  {
   "cell_type": "code",
   "execution_count": 139,
   "id": "9ff533dc-7410-4b80-8756-8296e3058a09",
   "metadata": {},
   "outputs": [],
   "source": [
    "\n",
    "def get_predicted_survivors(x):\n",
    "    predicted_survivors = []\n",
    "    model_prediction = model.predict(test_X[:])\n",
    "    for n, i in enumerate(model_prediction):\n",
    "        if (i[0] >= x-0.1) and (i[0] <= x+0.1):\n",
    "            predicted_survivors.append(n)\n",
    "            #print(n,i[0])\n",
    "    return predicted_survivors"
   ]
  },
  {
   "cell_type": "markdown",
   "id": "a99aee17-35de-434f-a377-f393ac6c2f2b",
   "metadata": {},
   "source": [
    "## Do some statistic about the prediction accuracy of the model"
   ]
  },
  {
   "cell_type": "code",
   "execution_count": 26,
   "id": "0cc3df95-dedf-4f26-9d33-8020970cf1ce",
   "metadata": {},
   "outputs": [
    {
     "name": "stdout",
     "output_type": "stream",
     "text": [
      "14/14 [==============================] - 0s 1ms/step\n",
      "[1, 4, 6, 8, 12, 14, 15, 18, 19, 21, 22, 24, 26, 32, 36, 37, 43, 44, 48, 49, 52, 53, 59, 63, 65, 66, 69, 70, 72, 74, 77, 79, 80, 86, 87, 88, 89, 90, 92, 96, 98, 100, 104, 111, 112, 113, 114, 117, 119, 120, 122, 125, 127, 138, 141, 150, 153, 156, 157, 159, 160, 161, 162, 165, 168, 169, 175, 176, 178, 179, 182, 184, 186, 192, 194, 196, 197, 199, 200, 201, 203, 206, 208, 213, 216, 218, 220, 222, 224, 227, 231, 238, 239, 240, 241, 246, 248, 249, 250, 258, 262, 263, 268, 272, 273, 275, 280, 281, 282, 283, 284, 291, 296, 304, 305, 307, 309, 313, 314, 315, 324, 326, 330, 333, 343, 344, 345, 347, 349, 350, 356, 359, 361, 362, 364, 367, 368, 371, 374, 375, 376, 382, 383, 385, 391, 392, 395, 397, 400, 402, 408, 409, 410, 411, 412, 414, 417]\n"
     ]
    }
   ],
   "source": [
    "print(get_predicted_survivors(0.555))\n"
   ]
  },
  {
   "cell_type": "code",
   "execution_count": 27,
   "id": "93ab1201-69cb-4902-912c-091eca79ec28",
   "metadata": {},
   "outputs": [
    {
     "name": "stdout",
     "output_type": "stream",
     "text": [
      "14/14 [==============================] - 0s 891us/step\n",
      "152\n",
      "14/14 [==============================] - 0s 2ms/step\n",
      "150\n",
      "14/14 [==============================] - 0s 2ms/step\n",
      "150\n",
      "14/14 [==============================] - 0s 769us/step\n",
      "150\n",
      "14/14 [==============================] - 0s 1ms/step\n",
      "150\n",
      "14/14 [==============================] - 0s 2ms/step\n",
      "150\n",
      "14/14 [==============================] - 0s 397us/step\n",
      "150\n",
      "14/14 [==============================] - 0s 1ms/step\n",
      "149\n",
      "14/14 [==============================] - 0s 833us/step\n",
      "149\n",
      "14/14 [==============================] - 0s 2ms/step\n",
      "148\n",
      "14/14 [==============================] - 0s 416us/step\n",
      "148\n",
      "14/14 [==============================] - 0s 1ms/step\n",
      "148\n",
      "14/14 [==============================] - 0s 2ms/step\n",
      "148\n",
      "14/14 [==============================] - 0s 790us/step\n",
      "148\n",
      "14/14 [==============================] - 0s 2ms/step\n",
      "148\n",
      "14/14 [==============================] - 0s 967us/step\n",
      "148\n",
      "14/14 [==============================] - 0s 386us/step\n",
      "148\n",
      "14/14 [==============================] - 0s 1ms/step\n",
      "148\n",
      "14/14 [==============================] - 0s 2ms/step\n",
      "148\n",
      "14/14 [==============================] - 0s 442us/step\n",
      "148\n",
      "14/14 [==============================] - 0s 2ms/step\n",
      "148\n",
      "14/14 [==============================] - 0s 856us/step\n",
      "148\n",
      "14/14 [==============================] - 0s 1ms/step\n",
      "148\n",
      "14/14 [==============================] - 0s 861us/step\n",
      "146\n",
      "14/14 [==============================] - 0s 2ms/step\n",
      "146\n",
      "14/14 [==============================] - 0s 1ms/step\n",
      "146\n",
      "14/14 [==============================] - 0s 850us/step\n",
      "146\n",
      "14/14 [==============================] - 0s 1ms/step\n",
      "146\n",
      "14/14 [==============================] - 0s 846us/step\n",
      "146\n",
      "14/14 [==============================] - 0s 1ms/step\n",
      "146\n",
      "14/14 [==============================] - 0s 2ms/step\n",
      "146\n",
      "14/14 [==============================] - 0s 841us/step\n",
      "146\n",
      "14/14 [==============================] - 0s 1ms/step\n",
      "146\n",
      "14/14 [==============================] - 0s 844us/step\n",
      "146\n",
      "14/14 [==============================] - 0s 769us/step\n",
      "146\n",
      "14/14 [==============================] - 0s 1ms/step\n",
      "145\n",
      "14/14 [==============================] - 0s 788us/step\n",
      "145\n",
      "14/14 [==============================] - 0s 2ms/step\n",
      "145\n",
      "14/14 [==============================] - 0s 1ms/step\n",
      "144\n",
      "14/14 [==============================] - 0s 846us/step\n",
      "144\n",
      "14/14 [==============================] - 0s 846us/step\n",
      "144\n",
      "14/14 [==============================] - 0s 769us/step\n",
      "144\n",
      "14/14 [==============================] - 0s 785us/step\n",
      "144\n",
      "14/14 [==============================] - 0s 1ms/step\n",
      "144\n",
      "14/14 [==============================] - 0s 1ms/step\n",
      "144\n",
      "14/14 [==============================] - 0s 2ms/step\n",
      "144\n",
      "14/14 [==============================] - 0s 2ms/step\n",
      "144\n",
      "14/14 [==============================] - 0s 1ms/step\n",
      "144\n",
      "14/14 [==============================] - 0s 846us/step\n",
      "144\n",
      "14/14 [==============================] - 0s 769us/step\n",
      "144\n",
      "14/14 [==============================] - 0s 2ms/step\n",
      "144\n",
      "14/14 [==============================] - 0s 1ms/step\n",
      "144\n",
      "14/14 [==============================] - 0s 2ms/step\n",
      "144\n",
      "14/14 [==============================] - 0s 2ms/step\n",
      "144\n",
      "14/14 [==============================] - 0s 2ms/step\n",
      "144\n",
      "14/14 [==============================] - 0s 794us/step\n",
      "144\n",
      "14/14 [==============================] - 0s 1ms/step\n",
      "144\n",
      "14/14 [==============================] - 0s 1ms/step\n",
      "143\n",
      "14/14 [==============================] - 0s 645us/step\n",
      "143\n",
      "14/14 [==============================] - 0s 1ms/step\n",
      "143\n",
      "14/14 [==============================] - 0s 777us/step\n",
      "140\n",
      "14/14 [==============================] - 0s 882us/step\n",
      "137\n",
      "14/14 [==============================] - 0s 846us/step\n",
      "133\n",
      "14/14 [==============================] - 0s 769us/step\n",
      "128\n",
      "14/14 [==============================] - 0s 825us/step\n",
      "128\n",
      "14/14 [==============================] - 0s 854us/step\n",
      "128\n",
      "14/14 [==============================] - 0s 2ms/step\n",
      "119\n",
      "14/14 [==============================] - 0s 1ms/step\n",
      "101\n",
      "14/14 [==============================] - 0s 769us/step\n",
      "101\n",
      "14/14 [==============================] - 0s 846us/step\n",
      "98\n",
      "14/14 [==============================] - 0s 769us/step\n",
      "96\n",
      "14/14 [==============================] - 0s 844us/step\n",
      "96\n",
      "14/14 [==============================] - 0s 2ms/step\n",
      "95\n",
      "14/14 [==============================] - 0s 728us/step\n",
      "80\n",
      "14/14 [==============================] - 0s 2ms/step\n",
      "78\n",
      "14/14 [==============================] - 0s 1ms/step\n",
      "71\n",
      "14/14 [==============================] - 0s 2ms/step\n",
      "70\n",
      "14/14 [==============================] - 0s 1ms/step\n",
      "70\n",
      "14/14 [==============================] - 0s 2ms/step\n",
      "64\n",
      "14/14 [==============================] - 0s 1ms/step\n",
      "59\n",
      "14/14 [==============================] - 0s 745us/step\n",
      "59\n",
      "14/14 [==============================] - 0s 816us/step\n",
      "59\n",
      "14/14 [==============================] - 0s 1ms/step\n",
      "58\n",
      "14/14 [==============================] - 0s 1ms/step\n",
      "55\n",
      "14/14 [==============================] - 0s 350us/step\n",
      "54\n",
      "14/14 [==============================] - 0s 1ms/step\n",
      "52\n",
      "14/14 [==============================] - 0s 1ms/step\n",
      "50\n",
      "14/14 [==============================] - 0s 1ms/step\n",
      "47\n",
      "14/14 [==============================] - 0s 1ms/step\n",
      "47\n",
      "14/14 [==============================] - 0s 2ms/step\n",
      "44\n",
      "14/14 [==============================] - 0s 786us/step\n",
      "44\n",
      "14/14 [==============================] - 0s 769us/step\n",
      "38\n",
      "14/14 [==============================] - 0s 1ms/step\n",
      "31\n",
      "14/14 [==============================] - 0s 732us/step\n",
      "15\n",
      "14/14 [==============================] - 0s 2ms/step\n",
      "4\n",
      "14/14 [==============================] - 0s 715us/step\n",
      "4\n",
      "14/14 [==============================] - 0s 814us/step\n",
      "2\n",
      "14/14 [==============================] - 0s 2ms/step\n",
      "1\n",
      "14/14 [==============================] - 0s 846us/step\n",
      "1\n",
      "14/14 [==============================] - 0s 847us/step\n",
      "0\n",
      "[0.36363637, 0.36231884, 0.36407766, 0.36585367, 0.36585367, 0.36585367, 0.36585367, 0.40599456, 0.4082192, 0.41456583, 0.4654088, 0.5068493, 0.5229682, 0.5323741, 0.55018586, 0.5714286, 0.5943775, 0.6351931, 0.64912283, 0.64912283, 0.6666667, 0.6696833, 0.6757991, 0.6886792, 0.6919431, 0.6919431, 0.70873785, 0.7121951, 0.7121951, 0.7192118, 0.7192118, 0.7192118, 0.7192118, 0.7227723, 0.7227723, 0.72864324, 0.72864324, 0.72864324, 0.72727275, 0.7309645, 0.73846155, 0.73846155, 0.746114, 0.7539267, 0.7659575, 0.78688526, 0.8044693, 0.8181818, 0.8372093, 0.8622754, 0.8888889, 0.9, 0.9056604, 0.91719747, 0.91719747, 0.91719747, 0.91719747, 0.9166667, 0.9166667, 0.9166667, 0.9150327, 0.91333336, 0.9109589, 0.9078014, 0.9078014, 0.9078014, 0.9015151, 0.88596493, 0.88596493, 0.8909091, 0.89719623, 0.89719623, 0.8962264, 0.8791209, 0.8764045, 0.86585367, 0.86419755, 0.86419755, 0.85333335, 0.8428571, 0.8428571, 0.8428571, 0.8405797, 0.8730159, 0.87096775, 0.8666667, 0.86206895, 0.8545455, 0.8545455, 0.84615386, 0.84615386, 0.84444445, 0.8378378, 0.75, 0.5, 0.5714286, 0.5, 1.0, 1.0, nan]\n"
     ]
    },
    {
     "name": "stderr",
     "output_type": "stream",
     "text": [
      "C:\\Users\\timon\\AppData\\Local\\Temp\\ipykernel_19652\\893535988.py:11: RuntimeWarning: Mean of empty slice.\n",
      "  accuracy = predicted_val.mean()\n",
      "D:\\Anaconda\\envs\\DL\\lib\\site-packages\\numpy\\core\\_methods.py:190: RuntimeWarning: invalid value encountered in divide\n",
      "  ret = ret.dtype.type(ret / rcount)\n"
     ]
    }
   ],
   "source": [
    "y = []\n",
    "x = np.linspace(0,1,num=100)\n",
    "n_1_l = []\n",
    "for i in x:\n",
    "    n_1 = 0\n",
    "    predicted_val = test_y[get_predicted_survivors(i)]\n",
    "    for i in predicted_val:\n",
    "        if i == 1:\n",
    "            n_1 += 1\n",
    "    print(n_1)\n",
    "    accuracy = predicted_val.mean()\n",
    "    n_1_l.append(n_1)\n",
    "    y.append(accuracy)\n",
    "print(y)\n"
   ]
  },
  {
   "cell_type": "code",
   "execution_count": 36,
   "id": "55f36452-50da-479f-904a-9d604f0297d4",
   "metadata": {},
   "outputs": [
    {
     "data": {
      "image/png": "[encoded data removed]",
      "text/plain": [
       "<Figure size 800x550 with 2 Axes>"
      ]
     },
     "metadata": {},
     "output_type": "display_data"
    }
   ],
   "source": [
    "#%matplotlib ipympl\n",
    "%matplotlib inline\n",
    "fig, ax = plt.subplots(2,1)\n",
    "ax[0].plot(x, y, label='Accuracy')\n",
    "#plt.plot(x, n_1_l)\n",
    "#plt.plot(x, np.gradient(n_1_l))\n",
    "ax[0].plot(x, np.gradient(y), label='Deriviative of Accuracy')\n",
    "ax[0].set_xlabel('Certainty of the model')\n",
    "ax[0].set_ylabel('Right predicts/All predicts')\n",
    "ax[0].legend()\n",
    "ax[1].plot(x, n_1_l, label='N')\n",
    "ax[1].plot(x, np.gradient(n_1_l), label='Deriviative of N')\n",
    "ax[1].set_xlabel('Certainty of the model')\n",
    "ax[1].set_ylabel('N right predicts')\n",
    "ax[1].legend()\n",
    "plt.style.use('ggplot')\n",
    "fig.tight_layout()"
   ]
  },
  {
   "cell_type": "code",
   "execution_count": 29,
   "id": "ca214588-5437-47aa-ae61-3cf1ebdce7d7",
   "metadata": {},
   "outputs": [],
   "source": [
    "fig.savefig('prediction_analysis.png')"
   ]
  },
  {
   "cell_type": "markdown",
   "id": "5022f21c-c2c7-413f-b790-2a500541f9ec",
   "metadata": {},
   "source": [
    "## Inserting with custom data"
   ]
  },
  {
   "cell_type": "code",
   "execution_count": 145,
   "id": "877716b4-8a8d-44cc-9379-40d6d2f2c1d1",
   "metadata": {},
   "outputs": [
    {
     "name": "stdout",
     "output_type": "stream",
     "text": [
      "1/1 [==============================] - 0s 17ms/step\n",
      "[[0.24384226]]\n",
      "14/14 [==============================] - 0s 2ms/step\n",
      "14/14 [==============================] - 0s 1ms/step\n",
      "[5, 7, 11, 16, 20, 23, 33, 51, 57, 61, 67, 78, 82, 94, 101, 137, 142, 143, 144, 148, 180, 185, 189, 190, 191, 198, 204, 205, 207, 212, 217, 229, 230, 244, 264, 266, 276, 277, 278, 279, 290, 298, 301, 317, 321, 323, 327, 328, 329, 336, 338, 340, 346, 348, 351, 352, 354, 369, 370, 377, 389, 401, 403, 406]\n",
      "14/14 [==============================] - 0s 498us/step\n",
      "[0. 0. 0. 0. 0. 0. 1. 0. 0. 0. 0. 0. 0. 0. 0. 0. 0. 0. 0. 0. 0. 0. 0. 0.\n",
      " 0. 0. 0. 0. 0. 0. 0. 0. 0. 0. 0. 0. 0. 0. 0. 0. 0. 0. 0. 0. 0. 0. 0. 0.\n",
      " 0. 0. 0. 0. 0. 0. 0. 0. 1. 0. 0. 0. 0. 0. 0. 0.]\n",
      "0.03125\n",
      "3.12\n"
     ]
    }
   ],
   "source": [
    "test_input = [3,1,40,0,0,1]\n",
    "def get_potential_survive_chance(input):\n",
    "    input = np.array(input)\n",
    "    input.resize(1,6)\n",
    "    prediction = model.predict(input)\n",
    "    print(prediction)\n",
    "    prediction = prediction[0,0]\n",
    "    chance = test_y[get_predicted_survivors(prediction)].mean()\n",
    "    if chance == np.nan:\n",
    "        chance = prediction\n",
    "        print(prediction)\n",
    "    print(get_predicted_survivors(prediction))\n",
    "    print(test_y[get_predicted_survivors(prediction)])\n",
    "    print(chance)\n",
    "    return np.round(chance*100, 2)\n",
    "print(get_potential_survive_chance(test_input))"
   ]
  },
  {
   "cell_type": "code",
   "execution_count": 146,
   "id": "6c0d89a0-0b49-4d63-8943-bd760b3b9a16",
   "metadata": {},
   "outputs": [],
   "source": [
    "#todo the function needs more research"
   ]
  },
  {
   "cell_type": "code",
   "execution_count": null,
   "id": "00c1444e-64d1-4927-b677-8d25132920d9",
   "metadata": {},
   "outputs": [],
   "source": []
  }
 ],
 "metadata": {
  "kernelspec": {
   "display_name": "GPU",
   "language": "python",
   "name": "gpu"
  },
  "language_info": {
   "codemirror_mode": {
    "name": "ipython",
    "version": 3
   },
   "file_extension": ".py",
   "mimetype": "text/x-python",
   "name": "python",
   "nbconvert_exporter": "python",
   "pygments_lexer": "ipython3",
   "version": "3.10.6"
  }
 },
 "nbformat": 4,
 "nbformat_minor": 5
}
