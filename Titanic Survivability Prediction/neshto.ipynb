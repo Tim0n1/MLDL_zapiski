{
 "cells": [
  {
   "cell_type": "code",
   "execution_count": null,
   "id": "eedae08f-5683-4023-ae4b-eba989c8aad5",
   "metadata": {},
   "outputs": [],
   "source": [
    "%matplotlib ipympl\n",
    "%matplotlib inline\n",
    "import numpy as np\n",
    "import matplotlib.pyplot as plt\n",
    "import tensorflow as tf\n",
    "import pandas as pd\n",
    "import keras\n",
    "print(tf. __version__)\n",
    "print(keras.__version__)"
   ]
  },
  {
   "cell_type": "code",
   "execution_count": null,
   "id": "069aae80-5f2c-44d9-b02b-fb9b3fee6c8c",
   "metadata": {},
   "outputs": [],
   "source": [
    "train_url = 'https://raw.githubusercontent.com/Tim0n1/MLDL_zapiski/master/train.csv'\n",
    "test_url_X = 'https://raw.githubusercontent.com/Tim0n1/MLDL_zapiski/master/test.csv'\n",
    "test_url_y = 'https://raw.githubusercontent.com/Tim0n1/MLDL_zapiski/master/gender_submission.csv'"
   ]
  },
  {
   "cell_type": "code",
   "execution_count": null,
   "id": "a0a3730d-acea-4848-87d3-bd0e2936e6e1",
   "metadata": {},
   "outputs": [],
   "source": [
    "train_df = pd.read_csv(train_url)\n",
    "testX_df = pd.read_csv(test_url_X)\n",
    "testy_df = pd.read_csv(test_url_y)"
   ]
  },
  {
   "cell_type": "code",
   "execution_count": null,
   "id": "4da843eb-421d-403c-a2ad-994b5131eba6",
   "metadata": {},
   "outputs": [],
   "source": [
    "\n",
    "train_X = train_df.drop(columns=['Survived','PassengerId','Name','Ticket', 'Embarked','Fare'])\n",
    "train_X.loc[train_X['Sex'] == 'male' , ['Sex']] = 1\n",
    "train_X.loc[train_X['Sex'] == 'female' , ['Sex']] = 0\n",
    "train_X = train_X.fillna(0)\n",
    "train_X.loc[train_X['Cabin'] != 0, ['Cabin']] = 1\n",
    "print(train_X.shape)\n",
    "train_y = train_df['Survived']\n",
    "print(train_y.shape)\n",
    "test_X = testX_df.drop(columns=['PassengerId','Name','Ticket', 'Embarked','Fare'])\n",
    "test_X.loc[test_X['Sex'] == 'male' , ['Sex']] = 1\n",
    "test_X.loc[test_X['Sex'] == 'female' , ['Sex']] = 0\n",
    "test_X = test_X.fillna(0)\n",
    "test_X.loc[test_X['Cabin'] != 0, ['Cabin']] = 1\n",
    "print(test_X)\n",
    "test_y = testy_df['Survived']"
   ]
  },
  {
   "cell_type": "code",
   "execution_count": null,
   "id": "2836459a-fb1f-47ad-9117-bdda3731d96e",
   "metadata": {},
   "outputs": [],
   "source": [
    "input_shape = train_X.shape"
   ]
  },
  {
   "cell_type": "code",
   "execution_count": null,
   "id": "07c0a4ff-d668-4c81-bc78-56b7ea9d21d1",
   "metadata": {},
   "outputs": [],
   "source": [
    "train_X.to_numpy()\n",
    "train_y.to_numpy()\n",
    "test_X.to_numpy()\n",
    "test_y.to_numpy()"
   ]
  },
  {
   "cell_type": "code",
   "execution_count": null,
   "id": "73c0301f-0221-40f3-901e-e26bf5d14cc3",
   "metadata": {},
   "outputs": [],
   "source": [
    "train_X = np.asarray(train_X).astype(np.float32)\n",
    "train_y = np.asarray(train_y).astype(np.float32)\n",
    "test_X = np.asarray(test_X).astype(np.float32)\n",
    "test_y = np.asarray(test_y).astype(np.float32)"
   ]
  },
  {
   "cell_type": "code",
   "execution_count": null,
   "id": "f5a5d491-2ab1-4f2a-aede-cd436c0a6258",
   "metadata": {},
   "outputs": [],
   "source": [
    "print((train_X))\n",
    "print(len(train_y))"
   ]
  },
  {
   "cell_type": "code",
   "execution_count": null,
   "id": "08b07fd2-7461-42c6-9835-f6833a2df820",
   "metadata": {},
   "outputs": [],
   "source": [
    "train_X = train_X.reshape(891,6)\n",
    "train_y = train_y.reshape(891)\n",
    "test_X = test_X.reshape(418,6)\n",
    "test_y = test_y.reshape(418)"
   ]
  },
  {
   "cell_type": "code",
   "execution_count": null,
   "id": "1b5ec737-1f14-4d3c-9017-45082d52dcf1",
   "metadata": {},
   "outputs": [],
   "source": [
    "train_X.shape, train_y.shape"
   ]
  },
  {
   "cell_type": "code",
   "execution_count": null,
   "id": "49417027-922d-4b25-a32b-8d70d571ad17",
   "metadata": {},
   "outputs": [],
   "source": [
    "test_X.shape, test_y.shape"
   ]
  },
  {
   "cell_type": "code",
   "execution_count": null,
   "id": "98dc5df2-2518-4b60-9e20-143cb641d2b4",
   "metadata": {},
   "outputs": [],
   "source": [
    "model = keras.Sequential()\n",
    "model.add(keras.layers.Dense(16, input_dim=train_X.shape[1], activation='relu'))\n",
    "model.add(keras.layers.Dense(8, activation='relu'))\n",
    "model.add(keras.layers.Dense(4, activation='relu'))\n",
    "model.add(keras.layers.Dense(1, activation='sigmoid'))"
   ]
  },
  {
   "cell_type": "code",
   "execution_count": null,
   "id": "4fad87b4-e122-4fc2-a862-2d7da95cd270",
   "metadata": {},
   "outputs": [],
   "source": [
    "model.compile(loss='binary_crossentropy', optimizer='adam', metrics=['accuracy'])"
   ]
  },
  {
   "cell_type": "code",
   "execution_count": null,
   "id": "2fa1455e-b3ce-4368-ad12-9cfa61ca2cd9",
   "metadata": {},
   "outputs": [],
   "source": [
    "model.fit(train_X, train_y, epochs=50,batch_size=6, validation_data=(test_X, test_y), verbose=1)"
   ]
  },
  {
   "cell_type": "code",
   "execution_count": null,
   "id": "521b21a7-e8e9-45a5-9693-49c1551c6858",
   "metadata": {},
   "outputs": [],
   "source": [
    "model.save('model_data')"
   ]
  },
  {
   "cell_type": "code",
   "execution_count": null,
   "id": "4bb26581-85de-4deb-a9cc-29633ba9d823",
   "metadata": {},
   "outputs": [],
   "source": [
    "model = keras.models.load_model('model_data')"
   ]
  },
  {
   "cell_type": "code",
   "execution_count": null,
   "id": "9ff533dc-7410-4b80-8756-8296e3058a09",
   "metadata": {},
   "outputs": [],
   "source": [
    "\n",
    "def get_predicted_survivors(x):\n",
    "    predicted_survivors = []\n",
    "    model_prediction = model.predict(test_X[:])\n",
    "    for n, i in enumerate(model_prediction):\n",
    "        if (i[0] >= x-0.1) and (i[0] <= x+0.1):\n",
    "            predicted_survivors.append(n)\n",
    "            #print(n,i[0])\n",
    "    return predicted_survivors"
   ]
  },
  {
   "cell_type": "markdown",
   "id": "a99aee17-35de-434f-a377-f393ac6c2f2b",
   "metadata": {},
   "source": [
    "## Do some statistic about the prediction accuracy of the model"
   ]
  },
  {
   "cell_type": "code",
   "execution_count": null,
   "id": "0cc3df95-dedf-4f26-9d33-8020970cf1ce",
   "metadata": {},
   "outputs": [],
   "source": [
    "print(get_predicted_survivors(0.555))\n"
   ]
  },
  {
   "cell_type": "code",
   "execution_count": null,
   "id": "93ab1201-69cb-4902-912c-091eca79ec28",
   "metadata": {},
   "outputs": [],
   "source": [
    "y = []\n",
    "x = np.linspace(0,1,num=100)\n",
    "n_1_l = []\n",
    "for i in x:\n",
    "    n_1 = 0\n",
    "    predicted_val = test_y[get_predicted_survivors(i)]\n",
    "    for i in predicted_val:\n",
    "        if i == 1:\n",
    "            n_1 += 1\n",
    "    print(n_1)\n",
    "    accuracy = predicted_val.mean()\n",
    "    n_1_l.append(n_1)\n",
    "    y.append(accuracy)\n",
    "print(y)\n"
   ]
  },
  {
   "cell_type": "code",
   "execution_count": null,
   "id": "55f36452-50da-479f-904a-9d604f0297d4",
   "metadata": {},
   "outputs": [],
   "source": [
    "#%matplotlib ipympl\n",
    "%matplotlib inline\n",
    "fig, ax = plt.subplots(2,1)\n",
    "ax[0].plot(x, y, label='Accuracy')\n",
    "#plt.plot(x, n_1_l)\n",
    "#plt.plot(x, np.gradient(n_1_l))\n",
    "ax[0].plot(x, np.gradient(y), label='Deriviative of Accuracy')\n",
    "ax[0].set_xlabel('Certainty of the model')\n",
    "ax[0].set_ylabel('Right predicts/All predicts')\n",
    "ax[0].legend()\n",
    "ax[1].plot(x, n_1_l, label='N')\n",
    "ax[1].plot(x, np.gradient(n_1_l), label='Deriviative of N')\n",
    "ax[1].set_xlabel('Certainty of the model')\n",
    "ax[1].set_ylabel('N right predicts')\n",
    "ax[1].legend()\n",
    "plt.style.use('ggplot')\n",
    "fig.tight_layout()"
   ]
  },
  {
   "cell_type": "code",
   "execution_count": null,
   "id": "ca214588-5437-47aa-ae61-3cf1ebdce7d7",
   "metadata": {},
   "outputs": [],
   "source": [
    "fig.savefig('prediction_analysis.png')"
   ]
  },
  {
   "cell_type": "markdown",
   "id": "5022f21c-c2c7-413f-b790-2a500541f9ec",
   "metadata": {},
   "source": [
    "## Inserting with custom data"
   ]
  },
  {
   "cell_type": "code",
   "execution_count": null,
   "id": "877716b4-8a8d-44cc-9379-40d6d2f2c1d1",
   "metadata": {},
   "outputs": [],
   "source": [
    "test_input = [3,1,40,0,0,1]\n",
    "def get_potential_survive_chance(input):\n",
    "    input = np.array(input)\n",
    "    input.resize(1,6)\n",
    "    prediction = model.predict(input)\n",
    "    print(prediction)\n",
    "    prediction = prediction[0,0]\n",
    "    chance = test_y[get_predicted_survivors(prediction)].mean()\n",
    "    if chance == np.nan:\n",
    "        chance = prediction\n",
    "        print(prediction)\n",
    "    print(get_predicted_survivors(prediction))\n",
    "    print(test_y[get_predicted_survivors(prediction)])\n",
    "    print(chance)\n",
    "    return np.round(chance*100, 2)\n",
    "print(get_potential_survive_chance(test_input))"
   ]
  },
  {
   "cell_type": "code",
   "execution_count": null,
   "id": "6c0d89a0-0b49-4d63-8943-bd760b3b9a16",
   "metadata": {},
   "outputs": [],
   "source": [
    "#todo the function needs more research. plot the different predict settings to find best solution"
   ]
  },
  {
   "cell_type": "code",
   "execution_count": null,
   "id": "00c1444e-64d1-4927-b677-8d25132920d9",
   "metadata": {},
   "outputs": [],
   "source": []
  }
 ],
 "metadata": {
  "kernelspec": {
   "display_name": "GPU",
   "language": "python",
   "name": "gpu"
  },
  "language_info": {
   "codemirror_mode": {
    "name": "ipython",
    "version": 3
   },
   "file_extension": ".py",
   "mimetype": "text/x-python",
   "name": "python",
   "nbconvert_exporter": "python",
   "pygments_lexer": "ipython3",
   "version": "3.10.6"
  }
 },
 "nbformat": 4,
 "nbformat_minor": 5
}
